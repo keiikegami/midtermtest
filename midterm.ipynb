{
 "cells": [
  {
   "cell_type": "code",
   "execution_count": 1,
   "metadata": {
    "collapsed": false
   },
   "outputs": [],
   "source": [
    "def integral(estimate, ts):\n",
    "    elements = np.ones(len(ts) - 1)\n",
    "    for i in range(len(ts) - 1):\n",
    "        elements[i] = (ts[i+1] - ts[i])*(estimates[i+1] + estimates[i])/2\n",
    "    return sum(elements)"
   ]
  },
  {
   "cell_type": "code",
   "execution_count": 16,
   "metadata": {
    "collapsed": false
   },
   "outputs": [],
   "source": [
    "# serial MCMC\n",
    "\n",
    "from scipy.stats import invgamma\n",
    "from scipy.stats import norm\n",
    "import pandas as pd\n",
    "import numpy as np\n",
    "import matplotlib.pyplot as plt\n",
    "% matplotlib inline\n",
    "\n",
    "pine = pd.read_table(\"pine.txt\", delim_whitespace = True)\n",
    "p = pine.values\n",
    "ave_x = np.average(p[:, 1]).item()\n",
    "\n",
    "mu_alpha = 3000\n",
    "sigma_alpha = 10**6\n",
    "mu_beta = 185\n",
    "sigma_beta = 10**4\n",
    "a = 3\n",
    "b = 1/(2*300**2)\n",
    "\n",
    "sample_iter = 100000\n",
    "burn_in = 30000\n",
    "N = np.shape(p)[0]\n",
    "var = np.var(p[:, 1])\n",
    "\n",
    "def sum1(beta):\n",
    "    elements = np.ones(N)\n",
    "    for i in range(N):\n",
    "        elements[i] = p[i, 0] - beta * (p[i, 1] - ave_x)\n",
    "    return np.sum(elements)\n",
    "\n",
    "def sum2(alpha):\n",
    "    elements = np.ones(N)\n",
    "    for i in range(N):\n",
    "        elements[i] = (p[i, 1] - ave_x)*(p[i, 0] - alpha)\n",
    "    return np.sum(elements)\n",
    "\n",
    "def sum3(alpha, beta):\n",
    "    elements = np.ones(N)\n",
    "    for i in range(N):\n",
    "        elements[i] = (p[i, 0] - alpha - beta*(p[i, 1] - ave_x))**2\n",
    "    return np.sum(elements)\n",
    "\n",
    "def loglike(alpha, beta, sigma):\n",
    "    return N*np.log(1/(sigma*np.sqrt(2*np.pi))) - sum3(alpha, beta) / (2*sigma)\n",
    "\n",
    "n = 20\n",
    "c = 5\n",
    "\n",
    "estimates = np.ones(n+1)\n",
    "ts = np.ones(n+1)\n",
    "\n",
    "for i in range(n+1):\n",
    "    t = (i/n)**c\n",
    "    ts[i] = t\n",
    "    \n",
    "    if i == 0:\n",
    "        alphas = [3000]\n",
    "        betas = [185]\n",
    "        sigmas = [90000]\n",
    "        \n",
    "    else:\n",
    "        alphas = [np.mean(alpha_sample).item()]\n",
    "        betas = [np.mean(beta_sample).item()]\n",
    "        sigmas = [np.mean(sigma_sample).item()]\n",
    "    \n",
    "    for j in range(sample_iter):\n",
    "        \n",
    "        location_alpha = (sigma_alpha*t*sum1(betas[-1]) + sigmas[-1]*mu_alpha) / (sigma_alpha * N*t + sigmas[-1])\n",
    "        scale_alpha = np.sqrt((sigma_alpha * sigmas[-1]) / (sigma_alpha * N*t + sigmas[-1]))\n",
    "        r = norm.rvs(loc = location_alpha, scale = scale_alpha)\n",
    "        alphas.append(r.item())\n",
    "        \n",
    "        location_beta = (sigma_beta * t * sum2(alphas[-1]) + sigmas[-1] * mu_beta) / (sigma_beta * var*N + sigmas[-1])\n",
    "        scale_beta = (sigmas[-1] * sigma_beta) / (sigma_beta * var*N + sigmas[-1])\n",
    "        q = norm.rvs(loc = location_beta, scale = scale_beta)\n",
    "        betas.append(q.item())\n",
    "        \n",
    "        shape = N*t/2 + a\n",
    "        invrate = 2*b / (b*t*sum3(alphas[-1], betas[-1]) + 2)\n",
    "        s = invgamma.rvs(a = shape, scale = 1/ invrate)\n",
    "        sigmas.append(s.item())\n",
    "    \n",
    "    alpha_sample = alphas[burn_in:]\n",
    "    beta_sample = betas[burn_in:len(betas)]\n",
    "    sigma_sample = sigmas[burn_in:len(sigmas)]\n",
    "    \n",
    "    box = np.ones(len(alpha_sample))\n",
    "    for k, l in enumerate(alpha_sample):\n",
    "        box[k] = loglike(l, beta_sample[k], sigma_sample[k])\n",
    "    \n",
    "    estimates[i] = np.average(box)\n",
    "    \n",
    "    "
   ]
  },
  {
   "cell_type": "markdown",
   "metadata": {},
   "source": [
    "どのぐらいで収束するかを見る。\n",
    "どれも1万回とかで十分収束しているのでは？"
   ]
  },
  {
   "cell_type": "code",
   "execution_count": 2,
   "metadata": {
    "collapsed": false
   },
   "outputs": [],
   "source": [
    "from scipy.stats import invgamma\n",
    "from scipy.stats import norm\n",
    "import pandas as pd\n",
    "import numpy as np\n",
    "import matplotlib.pyplot as plt\n",
    "% matplotlib inline\n",
    "\n",
    "pine = pd.read_table(\"pine.txt\", delim_whitespace = True)\n",
    "p = pine.values\n",
    "ave_x = np.average(p[:, 1]).item()\n",
    "\n",
    "mu_alpha = 3000\n",
    "sigma_alpha = 10**6\n",
    "mu_beta = 185\n",
    "sigma_beta = 10**4\n",
    "a = 3\n",
    "b = 1/(2*300**2)\n",
    "\n",
    "sample_iter = 10000\n",
    "burn_in = 30\n",
    "N = np.shape(p)[0]\n",
    "var = np.var(p[:, 1])\n",
    "\n",
    "def sum1(beta):\n",
    "    elements = np.ones(N)\n",
    "    for i in range(N):\n",
    "        elements[i] = p[i, 0] - beta * (p[i, 1] - ave_x)\n",
    "    return np.sum(elements)\n",
    "\n",
    "def sum2(alpha):\n",
    "    elements = np.ones(N)\n",
    "    for i in range(N):\n",
    "        elements[i] = (p[i, 1] - ave_x)*(p[i, 0] - alpha)\n",
    "    return np.sum(elements)\n",
    "\n",
    "def sum3(alpha, beta):\n",
    "    elements = np.ones(N)\n",
    "    for i in range(N):\n",
    "        elements[i] = (p[i, 0] - alpha - beta*(p[i, 1] - ave_x))**2\n",
    "    return np.sum(elements)\n",
    "\n",
    "def loglike(alpha, beta, sigma):\n",
    "    return N*np.log(1/(sigma*np.sqrt(2*np.pi))) - sum3(alpha, beta) / (2*sigma)\n",
    "\n",
    "n = 20\n",
    "c = 5\n",
    "\n",
    "alphas = [3000]\n",
    "betas = [185]\n",
    "sigmas = [90000]\n",
    "\n",
    "t = (1/10)**2\n",
    "\n",
    "alphas = np.ones(sample_iter)\n",
    "betas = np.ones(sample_iter)\n",
    "sigmas = np.ones(sample_iter)\n",
    "\n",
    "alphas[0] = 3000\n",
    "betas[0] = 185\n",
    "sigmas[0] = 90000\n",
    "\n",
    "t = (1/10)**2\n",
    "\n",
    "for j in range(sample_iter -1):\n",
    "\n",
    "    location_alpha = (sigma_alpha*t*sum1(betas[-1]) + sigmas[-1]*mu_alpha) / (sigma_alpha * N*t + sigmas[-1])\n",
    "    scale_alpha = np.sqrt((sigma_alpha * sigmas[-1]) / (sigma_alpha * N*t + sigmas[-1]))\n",
    "    r = norm.rvs(loc = location_alpha, scale = scale_alpha)\n",
    "    alphas[j+1] = r.item()\n",
    "\n",
    "    location_beta = (sigma_beta * t * sum2(alphas[-1]) + sigmas[-1] * mu_beta) / (sigma_beta *t* var*N + sigmas[-1])\n",
    "    scale_beta = np.sqrt((sigmas[-1] * sigma_beta) / (sigma_beta *t* var*N + sigmas[-1]))\n",
    "    q = norm.rvs(loc = location_beta, scale = scale_beta)\n",
    "    betas[j+1] = q.item()\n",
    "\n",
    "    shape = N*t/2 + a\n",
    "    invrate = 2*b / (b*t*sum3(alphas[-1], betas[-1]) + 2)\n",
    "    s = invgamma.rvs(a = shape, scale = 1/ invrate)\n",
    "    sigmas[j+1] = s.item()"
   ]
  },
  {
   "cell_type": "code",
   "execution_count": 3,
   "metadata": {
    "collapsed": false
   },
   "outputs": [
    {
     "data": {
      "text/plain": [
       "[<matplotlib.lines.Line2D at 0x11687b588>]"
      ]
     },
     "execution_count": 3,
     "metadata": {},
     "output_type": "execute_result"
    },
    {
     "data": {
      "image/png": "[encoded data removed]",
      "text/plain": [
       "<matplotlib.figure.Figure at 0x104281630>"
      ]
     },
     "metadata": {},
     "output_type": "display_data"
    }
   ],
   "source": [
    "plt.plot(betas)"
   ]
  },
  {
   "cell_type": "code",
   "execution_count": 4,
   "metadata": {
    "collapsed": false
   },
   "outputs": [
    {
     "data": {
      "text/plain": [
       "[<matplotlib.lines.Line2D at 0x119cfd438>]"
      ]
     },
     "execution_count": 4,
     "metadata": {},
     "output_type": "execute_result"
    },
    {
     "data": {
      "image/png": "[encoded data removed]",
      "text/plain": [
       "<matplotlib.figure.Figure at 0x116846278>"
      ]
     },
     "metadata": {},
     "output_type": "display_data"
    }
   ],
   "source": [
    "plt.plot(alphas)"
   ]
  },
  {
   "cell_type": "code",
   "execution_count": 5,
   "metadata": {
    "collapsed": false
   },
   "outputs": [
    {
     "data": {
      "text/plain": [
       "[<matplotlib.lines.Line2D at 0x119e365c0>]"
      ]
     },
     "execution_count": 5,
     "metadata": {},
     "output_type": "execute_result"
    },
    {
     "data": {
      "image/png": "[encoded data removed]",
      "text/plain": [
       "<matplotlib.figure.Figure at 0x119cc6518>"
      ]
     },
     "metadata": {},
     "output_type": "display_data"
    }
   ],
   "source": [
    "plt.plot(sigmas)"
   ]
  },
  {
   "cell_type": "markdown",
   "metadata": {},
   "source": [
    "並列化\n",
    "\n",
    "でも結果を次のルーぷに使うから無理やん"
   ]
  },
  {
   "cell_type": "code",
   "execution_count": 7,
   "metadata": {
    "collapsed": false
   },
   "outputs": [],
   "source": [
    "from scipy.stats import invgamma\n",
    "from scipy.stats import norm\n",
    "from multiprocessing import Pool\n",
    "import pandas as pd\n",
    "import numpy as np\n",
    "import matplotlib.pyplot as plt\n",
    "% matplotlib inline\n",
    "\n",
    "pine = pd.read_table(\"pine.txt\", delim_whitespace = True)\n",
    "p = pine.values\n",
    "ave_x = np.average(p[:, 1]).item()\n",
    "\n",
    "mu_alpha = 3000\n",
    "sigma_alpha = 10**6\n",
    "mu_beta = 185\n",
    "sigma_beta = 10**4\n",
    "a = 3\n",
    "b = 1/(2*300**2)\n",
    "\n",
    "# ここをいじってね。\n",
    "sample_iter = 1000\n",
    "burn_in = 30\n",
    "m = 10\n",
    "core = 3\n",
    "\n",
    "N = np.shape(p)[0]\n",
    "var = np.var(p[:, 1])\n",
    "\n",
    "def sum1(beta):\n",
    "    elements = np.ones(N)\n",
    "    for i in range(N):\n",
    "        elements[i] = p[i, 0] - beta * (p[i, 1] - ave_x)\n",
    "    return np.sum(elements)\n",
    "\n",
    "def sum2(alpha):\n",
    "    elements = np.ones(N)\n",
    "    for i in range(N):\n",
    "        elements[i] = (p[i, 1] - ave_x)*(p[i, 0] - alpha)\n",
    "    return np.sum(elements)\n",
    "\n",
    "def sum3(alpha, beta):\n",
    "    elements = np.ones(N)\n",
    "    for i in range(N):\n",
    "        elements[i] = (p[i, 0] - alpha - beta*(p[i, 1] - ave_x))**2\n",
    "    return np.sum(elements)\n",
    "\n",
    "def loglike(alpha, beta, sigma):\n",
    "    return N*np.log(1/(sigma*np.sqrt(2*np.pi))) - sum3(alpha, beta) / (2*sigma)\n",
    "\n",
    "def function(w):\n",
    "    if w < 100:\n",
    "        \n",
    "        n = 20\n",
    "        c = 3\n",
    "        estimates = np.ones(n+1)\n",
    "        ts = np.ones(n+1)\n",
    "\n",
    "        for i in range(n+1):\n",
    "            t = (i/n)**c\n",
    "            ts[i] = t\n",
    "\n",
    "            if i == 0:\n",
    "                alphas = [3000]\n",
    "                betas = [185]\n",
    "                sigmas = [90000]\n",
    "\n",
    "            else:\n",
    "                alphas = [np.mean(alpha_sample).item()]\n",
    "                betas = [np.mean(beta_sample).item()]\n",
    "                sigmas = [np.mean(sigma_sample).item()]\n",
    "\n",
    "            for j in range(sample_iter):\n",
    "\n",
    "                location_alpha = (sigma_alpha*t*sum1(betas[-1]) + sigmas[-1]*mu_alpha) / (sigma_alpha * N*t + sigmas[-1])\n",
    "                scale_alpha = np.sqrt((sigma_alpha * sigmas[-1]) / (sigma_alpha * N*t + sigmas[-1]))\n",
    "                r = norm.rvs(loc = location_alpha, scale = scale_alpha)\n",
    "                alphas.append(r.item())\n",
    "\n",
    "                location_beta = (sigma_beta * t * sum2(alphas[-1]) + sigmas[-1] * mu_beta) / (sigma_beta * var*N + sigmas[-1])\n",
    "                scale_beta = (sigmas[-1] * sigma_beta) / (sigma_beta * var*N + sigmas[-1])\n",
    "                q = norm.rvs(loc = location_beta, scale = scale_beta)\n",
    "                betas.append(q.item())\n",
    "\n",
    "                shape = N*t/2 + a\n",
    "                invrate = 2*b / (b*t*sum3(alphas[-1], betas[-1]) + 2)\n",
    "                s = invgamma.rvs(a = shape, scale = 1/ invrate)\n",
    "                sigmas.append(s.item())\n",
    "\n",
    "            alpha_sample = alphas[burn_in:]\n",
    "            beta_sample = betas[burn_in:len(betas)]\n",
    "            sigma_sample = sigmas[burn_in:len(sigmas)]\n",
    "\n",
    "            box = np.ones(len(alpha_sample))\n",
    "            for k, l in enumerate(alpha_sample):\n",
    "                box[k] = loglike(l, beta_sample[k], sigma_sample[k])\n",
    "\n",
    "            estimates[i] = np.average(box)\n",
    "        \n",
    "        return estimates\n",
    "\n",
    "if __name__ == '__main__':\n",
    "    p = Pool(core) \n",
    "    result = p.map(function, range(m))"
   ]
  },
  {
   "cell_type": "code",
   "execution_count": 8,
   "metadata": {
    "collapsed": false
   },
   "outputs": [
    {
     "data": {
      "text/plain": [
       "[array([-1281.52648633, -1189.67948291, -1008.69127558,  -851.92786789,\n",
       "         -858.68470908,  -873.90565731,  -877.02651235,  -859.91947303,\n",
       "         -878.3447848 ,  -869.96235801,  -873.28045876,  -875.61921931,\n",
       "         -879.93889428,  -884.16577025,  -892.05108111,  -881.78634586,\n",
       "         -882.36680116,  -895.66147305,  -885.68805034,  -893.36193867,\n",
       "         -888.00551288]),\n",
       " array([-1281.52648633, -1189.67948291, -1008.69127558,  -851.92786789,\n",
       "         -858.68470908,  -873.90565731,  -877.02651235,  -859.91947303,\n",
       "         -878.3447848 ,  -869.96235801,  -873.28045876,  -875.61921931,\n",
       "         -879.93889428,  -884.16577025,  -892.05108111,  -881.78634586,\n",
       "         -882.36680116,  -895.66147305,  -885.68805034,  -893.36193867,\n",
       "         -888.00551288]),\n",
       " array([-1281.52648633, -1189.67948291, -1008.69127558,  -851.92786789,\n",
       "         -858.68470908,  -873.90565731,  -877.02651235,  -859.91947303,\n",
       "         -878.3447848 ,  -869.96235801,  -873.28045876,  -875.61921931,\n",
       "         -879.93889428,  -884.16577025,  -892.05108111,  -881.78634586,\n",
       "         -882.36680116,  -895.66147305,  -885.68805034,  -893.36193867,\n",
       "         -888.00551288]),\n",
       " array([-1259.04596905, -1209.29708546, -1010.46820594,  -873.14307252,\n",
       "         -864.1371405 ,  -839.52347539,  -864.56958139,  -858.84846122,\n",
       "         -878.0755815 ,  -861.04022846,  -876.42421408,  -873.51226597,\n",
       "         -885.67299906,  -881.5684352 ,  -882.82896588,  -884.67730722,\n",
       "         -886.39912995,  -883.81481798,  -879.31266115,  -889.13813933,\n",
       "         -890.68742532]),\n",
       " array([-1259.04596905, -1209.29708546, -1010.46820594,  -873.14307252,\n",
       "         -864.1371405 ,  -839.52347539,  -864.56958139,  -858.84846122,\n",
       "         -878.0755815 ,  -861.04022846,  -876.42421408,  -873.51226597,\n",
       "         -885.67299906,  -881.5684352 ,  -882.82896588,  -884.67730722,\n",
       "         -886.39912995,  -883.81481798,  -879.31266115,  -889.13813933,\n",
       "         -890.68742532]),\n",
       " array([-1259.04596905, -1209.29708546, -1010.46820594,  -873.14307252,\n",
       "         -864.1371405 ,  -839.52347539,  -864.56958139,  -858.84846122,\n",
       "         -878.0755815 ,  -861.04022846,  -876.42421408,  -873.51226597,\n",
       "         -885.67299906,  -881.5684352 ,  -882.82896588,  -884.67730722,\n",
       "         -886.39912995,  -883.81481798,  -879.31266115,  -889.13813933,\n",
       "         -890.68742532]),\n",
       " array([-1220.99783367, -1245.69632555,  -997.71211448,  -856.73497905,\n",
       "         -817.33190181,  -867.44842168,  -861.98510039,  -866.08634258,\n",
       "         -863.85722841,  -875.94158511,  -875.73288508,  -874.72333617,\n",
       "         -884.79604484,  -886.59848292,  -878.22739358,  -879.02446822,\n",
       "         -892.46975711,  -884.93421851,  -894.65654293,  -887.02439295,\n",
       "         -893.49719602]),\n",
       " array([-1220.99783367, -1245.69632555,  -997.71211448,  -856.73497905,\n",
       "         -817.33190181,  -867.44842168,  -861.98510039,  -866.08634258,\n",
       "         -863.85722841,  -875.94158511,  -875.73288508,  -874.72333617,\n",
       "         -884.79604484,  -886.59848292,  -878.22739358,  -879.02446822,\n",
       "         -892.46975711,  -884.93421851,  -894.65654293,  -887.02439295,\n",
       "         -893.49719602]),\n",
       " array([-1220.99783367, -1245.69632555,  -997.71211448,  -856.73497905,\n",
       "         -817.33190181,  -867.44842168,  -861.98510039,  -866.08634258,\n",
       "         -863.85722841,  -875.94158511,  -875.73288508,  -874.72333617,\n",
       "         -884.79604484,  -886.59848292,  -878.22739358,  -879.02446822,\n",
       "         -892.46975711,  -884.93421851,  -894.65654293,  -887.02439295,\n",
       "         -893.49719602]),\n",
       " array([-1276.87774026, -1195.03146662,  -997.75207588,  -862.64358998,\n",
       "         -825.80868033,  -872.38091703,  -888.28528088,  -867.59473965,\n",
       "         -873.52325774,  -873.06359205,  -872.32937347,  -878.17590133,\n",
       "         -880.59895651,  -887.87099288,  -879.8326407 ,  -887.45744133,\n",
       "         -887.73657226,  -885.29207868,  -885.79353134,  -888.46211445,\n",
       "         -892.77014537])]"
      ]
     },
     "execution_count": 8,
     "metadata": {},
     "output_type": "execute_result"
    }
   ],
   "source": [
    "result"
   ]
  },
  {
   "cell_type": "code",
   "execution_count": null,
   "metadata": {
    "collapsed": true
   },
   "outputs": [],
   "source": []
  }
 ],
 "metadata": {
  "kernelspec": {
   "display_name": "Python 3",
   "language": "python",
   "name": "python3"
  },
  "language_info": {
   "codemirror_mode": {
    "name": "ipython",
    "version": 3
   },
   "file_extension": ".py",
   "mimetype": "text/x-python",
   "name": "python",
   "nbconvert_exporter": "python",
   "pygments_lexer": "ipython3",
   "version": "3.5.1"
  }
 },
 "nbformat": 4,
 "nbformat_minor": 0
}
