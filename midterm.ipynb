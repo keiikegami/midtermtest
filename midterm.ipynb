{
 "cells": [
  {
   "cell_type": "code",
   "execution_count": 1,
   "metadata": {
    "collapsed": false
   },
   "outputs": [],
   "source": [
    "def integral(estimate, ts):\n",
    "    elements = np.ones(len(ts) - 1)\n",
    "    for i in range(len(ts) - 1):\n",
    "        elements[i] = (ts[i+1] - ts[i])*(estimates[i+1] + estimates[i])/2\n",
    "    return sum(elements)"
   ]
  },
  {
   "cell_type": "code",
   "execution_count": 1,
   "metadata": {
    "collapsed": false
   },
   "outputs": [
    {
     "name": "stdout",
     "output_type": "stream",
     "text": [
      "0\n",
      "<class 'int'>\n",
      "1\n",
      "<class 'float'>\n"
     ]
    },
    {
     "ename": "TypeError",
     "evalue": "'numpy.float64' object is not callable",
     "output_type": "error",
     "traceback": [
      "\u001b[0;31m---------------------------------------------------------------------------\u001b[0m",
      "\u001b[0;31mTypeError\u001b[0m                                 Traceback (most recent call last)",
      "\u001b[0;32m<ipython-input-1-8f9f147769e3>\u001b[0m in \u001b[0;36m<module>\u001b[0;34m()\u001b[0m\n\u001b[1;32m     69\u001b[0m         \u001b[0mprint\u001b[0m\u001b[0;34m(\u001b[0m\u001b[0mtype\u001b[0m\u001b[0;34m(\u001b[0m\u001b[0mbetas\u001b[0m\u001b[0;34m[\u001b[0m\u001b[0;34m-\u001b[0m\u001b[0;36m1\u001b[0m\u001b[0;34m]\u001b[0m\u001b[0;34m)\u001b[0m\u001b[0;34m)\u001b[0m\u001b[0;34m\u001b[0m\u001b[0m\n\u001b[1;32m     70\u001b[0m \u001b[0;34m\u001b[0m\u001b[0m\n\u001b[0;32m---> 71\u001b[0;31m         \u001b[0msum1\u001b[0m \u001b[0;34m=\u001b[0m \u001b[0msum1\u001b[0m\u001b[0;34m(\u001b[0m\u001b[0mbetas\u001b[0m\u001b[0;34m[\u001b[0m\u001b[0;34m-\u001b[0m\u001b[0;36m1\u001b[0m\u001b[0;34m]\u001b[0m\u001b[0;34m)\u001b[0m\u001b[0;34m\u001b[0m\u001b[0m\n\u001b[0m\u001b[1;32m     72\u001b[0m         \u001b[0mlocation_alpha\u001b[0m \u001b[0;34m=\u001b[0m \u001b[0;34m(\u001b[0m\u001b[0msigma_alpha\u001b[0m\u001b[0;34m*\u001b[0m\u001b[0mt\u001b[0m\u001b[0;34m*\u001b[0m\u001b[0msum1\u001b[0m \u001b[0;34m+\u001b[0m \u001b[0msigmas\u001b[0m\u001b[0;34m[\u001b[0m\u001b[0;34m-\u001b[0m\u001b[0;36m1\u001b[0m\u001b[0;34m]\u001b[0m\u001b[0;34m*\u001b[0m\u001b[0mmu_alpha\u001b[0m\u001b[0;34m)\u001b[0m \u001b[0;34m/\u001b[0m \u001b[0;34m(\u001b[0m\u001b[0msigma_alpha\u001b[0m \u001b[0;34m*\u001b[0m \u001b[0mN\u001b[0m\u001b[0;34m*\u001b[0m\u001b[0mt\u001b[0m \u001b[0;34m+\u001b[0m \u001b[0msigmas\u001b[0m\u001b[0;34m[\u001b[0m\u001b[0;34m-\u001b[0m\u001b[0;36m1\u001b[0m\u001b[0;34m]\u001b[0m\u001b[0;34m)\u001b[0m\u001b[0;34m\u001b[0m\u001b[0m\n\u001b[1;32m     73\u001b[0m         \u001b[0mscale_alpha\u001b[0m \u001b[0;34m=\u001b[0m \u001b[0mnp\u001b[0m\u001b[0;34m.\u001b[0m\u001b[0msqrt\u001b[0m\u001b[0;34m(\u001b[0m\u001b[0;34m(\u001b[0m\u001b[0msigma_alpha\u001b[0m \u001b[0;34m*\u001b[0m \u001b[0msigmas\u001b[0m\u001b[0;34m[\u001b[0m\u001b[0;34m-\u001b[0m\u001b[0;36m1\u001b[0m\u001b[0;34m]\u001b[0m\u001b[0;34m)\u001b[0m \u001b[0;34m/\u001b[0m \u001b[0;34m(\u001b[0m\u001b[0msigma_alpha\u001b[0m \u001b[0;34m*\u001b[0m \u001b[0mN\u001b[0m\u001b[0;34m*\u001b[0m\u001b[0mt\u001b[0m \u001b[0;34m+\u001b[0m \u001b[0msigmas\u001b[0m\u001b[0;34m[\u001b[0m\u001b[0;34m-\u001b[0m\u001b[0;36m1\u001b[0m\u001b[0;34m]\u001b[0m\u001b[0;34m)\u001b[0m\u001b[0;34m)\u001b[0m\u001b[0;34m\u001b[0m\u001b[0m\n",
      "\u001b[0;31mTypeError\u001b[0m: 'numpy.float64' object is not callable"
     ]
    }
   ],
   "source": [
    "# serial MCMC\n",
    "\n",
    "from scipy.stats import invgamma\n",
    "from scipy.stats import norm\n",
    "import pandas as pd\n",
    "import numpy as np\n",
    "import matplotlib.pyplot as plt\n",
    "% matplotlib inline\n",
    "\n",
    "pine = pd.read_table(\"pine.txt\", delim_whitespace = True)\n",
    "p = pine.values\n",
    "ave_x = np.average(p[:, 1]).item()\n",
    "\n",
    "mu_alpha = 3000\n",
    "sigma_alpha = 10**6\n",
    "mu_beta = 185\n",
    "sigma_beta = 10**4\n",
    "a = 3\n",
    "b = 1/(2*300**2)\n",
    "\n",
    "sample_iter = 100000\n",
    "burn_in = 30000\n",
    "N = np.shape(p)[0]\n",
    "var = np.var(p[:, 1])\n",
    "\n",
    "def sum1(beta):\n",
    "    elements = np.ones(N)\n",
    "    for i in range(N):\n",
    "        elements[i] = p[i, 0] - beta * (p[i, 1] - ave_x)\n",
    "    return np.sum(elements)\n",
    "\n",
    "def sum2(alpha):\n",
    "    elements = np.ones(N)\n",
    "    for i in range(N):\n",
    "        elements[i] = (p[i, 1] - ave_x)*(p[i, 0] - alpha)\n",
    "    return np.sum(elements)\n",
    "\n",
    "def sum3(alpha, beta):\n",
    "    elements = np.ones(N)\n",
    "    for i in range(N):\n",
    "        elements[i] = (p[i, 0] - alpha - beta*(p[i, 1] - ave_x))**2\n",
    "    return np.sum(elements)\n",
    "\n",
    "def loglike(alpha, beta, sigma):\n",
    "    return N*np.log(1/(sigma*np.sqrt(2*np.pi))) - sum3(alpha, beta) / (2*sigma)\n",
    "\n",
    "n = 20\n",
    "c = 5\n",
    "\n",
    "estimates = np.ones(n+1)\n",
    "ts = np.ones(n+1)\n",
    "\n",
    "for i in range(n+1):\n",
    "    t = (i/n)**c\n",
    "    ts[i] = t\n",
    "    \n",
    "    if i == 0:\n",
    "        alphas = [3000]\n",
    "        betas = [185]\n",
    "        sigmas = [90000]\n",
    "        \n",
    "    else:\n",
    "        alphas = [np.mean(alpha_sample).item()]\n",
    "        betas = [np.mean(beta_sample).item()]\n",
    "        sigmas = [np.mean(sigma_sample).item()]\n",
    "    \n",
    "    for j in range(sample_iter):\n",
    "        print(j)\n",
    "        print(type(betas[-1]))\n",
    "        \n",
    "        sum1 = sum1(betas[-1])\n",
    "        location_alpha = (sigma_alpha*t*sum1 + sigmas[-1]*mu_alpha) / (sigma_alpha * N*t + sigmas[-1])\n",
    "        scale_alpha = np.sqrt((sigma_alpha * sigmas[-1]) / (sigma_alpha * N*t + sigmas[-1]))\n",
    "        r = norm.rvs(loc = location_alpha, scale = scale_alpha)\n",
    "        alphas.append(r.item())\n",
    "        \n",
    "        sum2 = sum2(alphas[-1])\n",
    "        location_beta = (sigma_beta * t * sum2 + sigmas[-1] * mu_beta) / (sigma_beta * var*N + sigmas[-1])\n",
    "        scale_beta = (sigmas[-1] * sigma_beta) / (sigma_beta * var*N + sigmas[-1])\n",
    "        q = norm.rvs(loc = location_beta, scale = scale_beta)\n",
    "        betas.append(q.item())\n",
    "        \n",
    "        sum3 = sum3(alphas[-1], betas[-1])\n",
    "        shape = N*t/2 + a\n",
    "        invrate = 2*b / (b*t*sum3 + 2)\n",
    "        s = invgamma.rvs(a = shape, scale = 1/ invrate)\n",
    "        sigmas.append(s.item())\n",
    "    \n",
    "    alpha_sample = alphas[burn_in:]\n",
    "    beta_sample = betas[burn_in:len(betas) -1]\n",
    "    sigma_sample = sigmas[burn_in:len(sigmas) -1]\n",
    "    \n",
    "    box = np.ones(len(alpha_sample))\n",
    "    for k, l in enumerate(alpha_sample):\n",
    "        box[k] = loglike(l, beta_sample[k], sigma_sample[k])\n",
    "    \n",
    "    estimates.append(np.average(box))\n",
    "    \n",
    "    "
   ]
  },
  {
   "cell_type": "code",
   "execution_count": null,
   "metadata": {
    "collapsed": true
   },
   "outputs": [],
   "source": []
  }
 ],
 "metadata": {
  "kernelspec": {
   "display_name": "Python 3",
   "language": "python",
   "name": "python3"
  },
  "language_info": {
   "codemirror_mode": {
    "name": "ipython",
    "version": 3
   },
   "file_extension": ".py",
   "mimetype": "text/x-python",
   "name": "python",
   "nbconvert_exporter": "python",
   "pygments_lexer": "ipython3",
   "version": "3.5.1"
  }
 },
 "nbformat": 4,
 "nbformat_minor": 0
}
