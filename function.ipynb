{
 "cells": [
  {
   "cell_type": "code",
   "execution_count": 1,
   "metadata": {
    "collapsed": true
   },
   "outputs": [],
   "source": [
    "% matplotlib inline\n",
    "from scipy.stats import invgamma\n",
    "from scipy.stats import norm\n",
    "from multiprocessing import Pool\n",
    "from datetime import datetime\n",
    "import pandas as pd\n",
    "import numpy as np\n",
    "import matplotlib.pyplot as plt"
   ]
  },
  {
   "cell_type": "code",
   "execution_count": 2,
   "metadata": {
    "collapsed": false
   },
   "outputs": [],
   "source": [
    "def integral(estimate, ts):\n",
    "    elements = np.ones(len(ts) - 1)\n",
    "    for i in range(len(ts) - 1):\n",
    "        elements[i] = (ts[i+1] - ts[i])*(estimate[i+1] + estimate[i])/2\n",
    "    return sum(elements)\n",
    "\n",
    "def sum1(beta):\n",
    "    return np.sum(p[:, 0] - beta * p[:, 3])\n",
    "\n",
    "def sum2(alpha):\n",
    "    return np.sum(p[:, 3] * (p[:, 0] - alpha))\n",
    "\n",
    "def sum3(alpha, beta):\n",
    "    l = (p[:, 0] - alpha - beta*p[:, 3])\n",
    "    return np.sum(l * l )\n",
    "\n",
    "def loglike(alpha, beta, sigma):\n",
    "    return N*np.log(1/(np.sqrt(2*np.pi*sigma))) - sum3(alpha, beta) / (2*sigma)\n",
    "\n",
    "def function1(w):\n",
    "    \n",
    "    if w < m:\n",
    "        np.random.seed(datetime.now().microsecond)\n",
    "\n",
    "        for i in range(n+1):\n",
    "            t = ts[i]\n",
    "            \n",
    "            if i == 0:\n",
    "                alphas[0] = 3000\n",
    "                betas[0] = 185\n",
    "                sigmas[0] = 90000\n",
    "\n",
    "            else:\n",
    "                alphas[0] = np.mean(alpha_sample)\n",
    "                betas[0] = np.mean(beta_sample)\n",
    "                sigmas[0] = np.mean(sigma_sample)\n",
    "\n",
    "            for j in range(sample_iter -1):\n",
    "\n",
    "                location_alpha = (sigma_alpha*t*sum1(betas[j]) + sigmas[j]*mu_alpha) / (sigma_alpha * N*t + sigmas[j])\n",
    "                scale_alpha = np.sqrt((sigma_alpha * sigmas[j]) / (sigma_alpha * N*t + sigmas[j]))\n",
    "                alphas[j+1] = norm.rvs(loc = location_alpha, scale = scale_alpha)\n",
    "\n",
    "                location_beta = (sigma_beta * t * sum2(alphas[j+1]) + sigmas[j] * mu_beta) / (sigma_beta *t* ssx + sigmas[j])\n",
    "                scale_beta = np.sqrt((sigmas[j] * sigma_beta) / (sigma_beta *t* ssx + sigmas[j]))\n",
    "                betas[j+1] = norm.rvs(loc = location_beta, scale = scale_beta)\n",
    "\n",
    "                shape = N*t/2 + a\n",
    "                invrate = 2*b / (b*t*sum3(alphas[j+1], betas[j+1]) + 2)\n",
    "                sigmas[j+1] = invgamma.rvs(a = shape, scale = 1/ invrate)\n",
    "\n",
    "            alpha_sample = alphas[burn_in:]\n",
    "            beta_sample = betas[burn_in:len(betas)]\n",
    "            sigma_sample = sigmas[burn_in:len(sigmas)]\n",
    "\n",
    "            box = np.ones(len(alpha_sample))\n",
    "            for k, l in enumerate(alpha_sample):\n",
    "                box[k] = loglike(l, beta_sample[k], sigma_sample[k])\n",
    "\n",
    "            estimates[i] = np.average(box)\n",
    "        \n",
    "        return estimates\n",
    "    \n",
    "def sum4(beta):\n",
    "    return np.sum(p[:, 0] - beta * p[:, 4])\n",
    "\n",
    "def sum5(alpha):\n",
    "    return np.sum(p[:, 4] * (p[:, 0] - alpha))\n",
    "\n",
    "def sum6(alpha, beta):\n",
    "    l = (p[:, 0] - alpha - beta*p[:, 4])\n",
    "    return np.sum(l * l )  \n",
    "\n",
    "def loglike2(alpha, beta, sigma):\n",
    "    return N*np.log(1/(np.sqrt(2*np.pi*sigma))) - sum6(alpha, beta) / (2*sigma)\n",
    "    \n",
    "def function2(w):\n",
    "    if w < m:\n",
    "        np.random.seed(datetime.now().microsecond)\n",
    "\n",
    "        for i in range(n+1):\n",
    "            t = ts[i]\n",
    "            \n",
    "            if i == 0:\n",
    "                gammas[0] = 3000\n",
    "                deltas[0] = 185\n",
    "                taus[0] = 90000\n",
    "\n",
    "            else:\n",
    "                gammas[0] = np.mean(gamma_sample)\n",
    "                deltas[0] = np.mean(delta_sample)\n",
    "                taus[0] = np.mean(tau_sample)\n",
    "\n",
    "            for j in range(sample_iter - 1):\n",
    "\n",
    "                location_alpha = (sigma_alpha*t*sum4(deltas[j]) + taus[j]*mu_alpha) / (sigma_alpha * N*t + taus[j])\n",
    "                scale_alpha = np.sqrt((sigma_alpha * taus[j]) / (sigma_alpha * N*t + taus[j]))\n",
    "                gammas[j+1] = norm.rvs(loc = location_alpha, scale = scale_alpha)\n",
    "\n",
    "                location_beta = (sigma_beta * t * sum5(gammas[j+1]) + taus[j] * mu_beta) / (sigma_beta *t* ssz + taus[j])\n",
    "                scale_beta = np.sqrt((taus[j] * sigma_beta) / (sigma_beta *t* ssz + taus[j]))\n",
    "                deltas[j+1] = norm.rvs(loc = location_beta, scale = scale_beta)\n",
    "\n",
    "                shape = N*t/2 + a\n",
    "                invrate = 2*b / (b*t*sum6(gammas[j+1], deltas[j+1]) + 2)\n",
    "                taus[j+1] = invgamma.rvs(a = shape, scale = 1/ invrate)\n",
    "\n",
    "            gamma_sample = gammas[burn_in:]\n",
    "            delta_sample = deltas[burn_in:len(deltas)]\n",
    "            tau_sample = taus[burn_in:len(taus)]\n",
    "\n",
    "            box2 = np.ones(len(gamma_sample))\n",
    "            for k, l in enumerate(gamma_sample):\n",
    "                box2[k] = loglike2(l, delta_sample[k], tau_sample[k])\n",
    "\n",
    "            estimates[i] = np.average(box2)\n",
    "        \n",
    "        return estimates"
   ]
  },
  {
   "cell_type": "code",
   "execution_count": 18,
   "metadata": {
    "collapsed": false
   },
   "outputs": [],
   "source": [
    "pine = pd.read_table(\"pine.txt\", delim_whitespace = True)\n",
    "p = pine.values\n",
    "pine['ave_x'] = pine['x'] - np.average(p[:, 1])\n",
    "pine['ave_z'] = pine['z'] - np.average(p[:, 2])\n",
    "p = pine.values\n",
    "\n",
    "mu_alpha = 3000\n",
    "sigma_alpha = 10**6\n",
    "mu_beta = 185\n",
    "sigma_beta = 10**4\n",
    "a = 3\n",
    "b = 1/(2*300**2)\n",
    "\n",
    "N = np.shape(p)[0]\n",
    "ssx = np.sum(p[:, 3] * p[:, 3])\n",
    "ssz = np.sum(p[:, 4] * p[:, 4])\n",
    "\n",
    "n = 10\n",
    "c = 2\n",
    "ts = [(i/n)**c for i in range(n+1)]\n",
    "estimates = np.ones(n+1)\n",
    "\n",
    "####ここをいじってね。\n",
    "sample_iter = 1000\n",
    "burn_in = 30\n",
    "m = 10\n",
    "core = 2\n",
    "####\n",
    "\n",
    "alphas = np.ones(sample_iter)\n",
    "betas = np.ones(sample_iter)\n",
    "sigmas = np.ones(sample_iter)\n",
    "\n",
    "gammas = np.ones(sample_iter)\n",
    "deltas = np.ones(sample_iter)\n",
    "taus = np.ones(sample_iter)"
   ]
  },
  {
   "cell_type": "markdown",
   "metadata": {},
   "source": [
    "収束の確認"
   ]
  },
  {
   "cell_type": "code",
   "execution_count": 5,
   "metadata": {
    "collapsed": false
   },
   "outputs": [],
   "source": [
    "# model 1\n",
    "\n",
    "n = 10\n",
    "c = 2\n",
    "t = (1/n)**c\n",
    "\n",
    "alphas[0] = 3000\n",
    "betas[0] = 185\n",
    "sigmas[0] = 90000\n",
    "\n",
    "for j in range(sample_iter -1):\n",
    "\n",
    "    location_alpha = (sigma_alpha*t*sum1(betas[j]) + sigmas[j]*mu_alpha) / (sigma_alpha * N*t + sigmas[j])\n",
    "    scale_alpha = np.sqrt((sigma_alpha * sigmas[j]) / (sigma_alpha * N*t + sigmas[j]))\n",
    "    alphas[j+1] = norm.rvs(loc = location_alpha, scale = scale_alpha)\n",
    "\n",
    "    location_beta = (sigma_beta * t * sum2(alphas[j+1]) + sigmas[j] * mu_beta) / (sigma_beta *t* ssx + sigmas[j])\n",
    "    scale_beta = np.sqrt((sigmas[j] * sigma_beta) / (sigma_beta *t* ssx + sigmas[j]))\n",
    "    betas[j+1] = norm.rvs(loc = location_beta, scale = scale_beta)\n",
    "\n",
    "    shape = N*t/2 + a\n",
    "    invrate = 2*b / (b*t*sum3(alphas[j+1], betas[j+1]) + 2)\n",
    "    sigmas[j+1] = invgamma.rvs(a = shape, scale = 1/ invrate)"
   ]
  },
  {
   "cell_type": "code",
   "execution_count": 6,
   "metadata": {
    "collapsed": false
   },
   "outputs": [
    {
     "data": {
      "text/plain": [
       "<function matplotlib.pyplot.plot>"
      ]
     },
     "execution_count": 6,
     "metadata": {},
     "output_type": "execute_result"
    },
    {
     "data": {
      "image/png": "[encoded data removed]",
      "text/plain": [
       "<matplotlib.figure.Figure at 0x116ee2dd8>"
      ]
     },
     "metadata": {},
     "output_type": "display_data"
    }
   ],
   "source": [
    "plt.plot(alphas)\n",
    "plt.plot"
   ]
  },
  {
   "cell_type": "code",
   "execution_count": 7,
   "metadata": {
    "collapsed": false
   },
   "outputs": [
    {
     "data": {
      "text/plain": [
       "[<matplotlib.lines.Line2D at 0x119a42438>]"
      ]
     },
     "execution_count": 7,
     "metadata": {},
     "output_type": "execute_result"
    },
    {
     "data": {
      "image/png": "[encoded data removed]",
      "text/plain": [
       "<matplotlib.figure.Figure at 0x116f01128>"
      ]
     },
     "metadata": {},
     "output_type": "display_data"
    }
   ],
   "source": [
    "plt.plot(betas)"
   ]
  },
  {
   "cell_type": "code",
   "execution_count": 8,
   "metadata": {
    "collapsed": false
   },
   "outputs": [
    {
     "data": {
      "text/plain": [
       "[<matplotlib.lines.Line2D at 0x119ee44e0>]"
      ]
     },
     "execution_count": 8,
     "metadata": {},
     "output_type": "execute_result"
    },
    {
     "data": {
      "image/png": "[encoded data removed]",
      "text/plain": [
       "<matplotlib.figure.Figure at 0x119a146a0>"
      ]
     },
     "metadata": {},
     "output_type": "display_data"
    }
   ],
   "source": [
    "plt.plot( sigmas)"
   ]
  },
  {
   "cell_type": "code",
   "execution_count": 14,
   "metadata": {
    "collapsed": false
   },
   "outputs": [],
   "source": [
    "# model 2\n",
    "\n",
    "n = 10\n",
    "c = 2\n",
    "t = (1/n)**c\n",
    "\n",
    "gammas[0] = 3000\n",
    "deltas[0] = 185\n",
    "taus[0] = 90000\n",
    "\n",
    "for j in range(sample_iter - 1):\n",
    "\n",
    "    location_alpha = (sigma_alpha*t*sum4(deltas[j]) + taus[j]*mu_alpha) / (sigma_alpha * N*t + taus[j])\n",
    "    scale_alpha = np.sqrt((sigma_alpha * taus[j]) / (sigma_alpha * N*t + taus[j]))\n",
    "    gammas[j+1] = norm.rvs(loc = location_alpha, scale = scale_alpha)\n",
    "\n",
    "    location_beta = (sigma_beta * t * sum5(gammas[j+1]) + taus[j] * mu_beta) / (sigma_beta *t* ssz + taus[j])\n",
    "    scale_beta = np.sqrt((taus[j] * sigma_beta) / (sigma_beta *t* ssz + taus[j]))\n",
    "    deltas[j+1] = norm.rvs(loc = location_beta, scale = scale_beta)\n",
    "\n",
    "    shape = N*t/2 + a\n",
    "    invrate = 2*b / (b*t*sum6(gammas[j+1], deltas[j+1]) + 2)\n",
    "    taus[j+1] = invgamma.rvs(a = shape, scale = 1/ invrate)"
   ]
  },
  {
   "cell_type": "code",
   "execution_count": 15,
   "metadata": {
    "collapsed": false
   },
   "outputs": [
    {
     "data": {
      "text/plain": [
       "[<matplotlib.lines.Line2D at 0x11ce98f98>]"
      ]
     },
     "execution_count": 15,
     "metadata": {},
     "output_type": "execute_result"
    },
    {
     "data": {
      "image/png": "[encoded data removed]",
      "text/plain": [
       "<matplotlib.figure.Figure at 0x11ce58240>"
      ]
     },
     "metadata": {},
     "output_type": "display_data"
    }
   ],
   "source": [
    "plt.plot(gammas)"
   ]
  },
  {
   "cell_type": "code",
   "execution_count": 16,
   "metadata": {
    "collapsed": false
   },
   "outputs": [
    {
     "data": {
      "text/plain": [
       "[<matplotlib.lines.Line2D at 0x11cef5630>]"
      ]
     },
     "execution_count": 16,
     "metadata": {},
     "output_type": "execute_result"
    },
    {
     "data": {
      "image/png": "[encoded data removed]",
      "text/plain": [
       "<matplotlib.figure.Figure at 0x11ce80f60>"
      ]
     },
     "metadata": {},
     "output_type": "display_data"
    }
   ],
   "source": [
    "plt.plot(deltas)"
   ]
  },
  {
   "cell_type": "code",
   "execution_count": 17,
   "metadata": {
    "collapsed": false
   },
   "outputs": [
    {
     "data": {
      "text/plain": [
       "[<matplotlib.lines.Line2D at 0x119aa2e48>]"
      ]
     },
     "execution_count": 17,
     "metadata": {},
     "output_type": "execute_result"
    },
    {
     "data": {
      "image/png": "[encoded data removed]",
      "text/plain": [
       "<matplotlib.figure.Figure at 0x11ceca320>"
      ]
     },
     "metadata": {},
     "output_type": "display_data"
    }
   ],
   "source": [
    "plt.plot(taus)"
   ]
  },
  {
   "cell_type": "markdown",
   "metadata": {},
   "source": [
    "# computing BF\n",
    "\n",
    "\n",
    "model1 marginal likelihood by power posterior"
   ]
  },
  {
   "cell_type": "code",
   "execution_count": 19,
   "metadata": {
    "collapsed": false
   },
   "outputs": [],
   "source": [
    "if __name__ == '__main__':\n",
    "    w = Pool(core) \n",
    "    result1 = w.map(function1, range(m))"
   ]
  },
  {
   "cell_type": "code",
   "execution_count": 20,
   "metadata": {
    "collapsed": false
   },
   "outputs": [
    {
     "data": {
      "text/plain": [
       "[array([-718.93011854, -370.42525527, -327.81315741, -316.61314395,\n",
       "        -311.10163073, -308.76916322, -307.34813431, -306.15018659,\n",
       "        -305.4682576 , -305.11709812, -304.6626728 ]),\n",
       " array([-718.93011854, -370.42525527, -327.81315741, -316.61314395,\n",
       "        -311.10163073, -308.76916322, -307.34813431, -306.15018659,\n",
       "        -305.4682576 , -305.11709812, -304.6626728 ]),\n",
       " array([-740.11972899, -372.06644607, -329.41157766, -316.09725609,\n",
       "        -311.28923915, -308.60304693, -307.27759024, -306.19724447,\n",
       "        -305.617304  , -305.04439747, -304.7293571 ]),\n",
       " array([-740.11972899, -372.06644607, -329.41157766, -316.09725609,\n",
       "        -311.28923915, -308.60304693, -307.27759024, -306.19724447,\n",
       "        -305.617304  , -305.04439747, -304.7293571 ]),\n",
       " array([-753.7463692 , -369.61976628, -327.11640693, -315.95522743,\n",
       "        -310.78532033, -308.71582354, -306.96452338, -306.22181311,\n",
       "        -305.44473812, -305.08498762, -304.68426839]),\n",
       " array([-753.7463692 , -369.61976628, -327.11640693, -315.95522743,\n",
       "        -310.78532033, -308.71582354, -306.96452338, -306.22181311,\n",
       "        -305.44473812, -305.08498762, -304.68426839]),\n",
       " array([-732.88152784, -373.63361098, -328.09684488, -316.22025608,\n",
       "        -311.2564999 , -309.00438672, -307.30224607, -306.13425217,\n",
       "        -305.43910034, -305.08055773, -304.67497885]),\n",
       " array([-732.88152784, -373.63361098, -328.09684488, -316.22025608,\n",
       "        -311.2564999 , -309.00438672, -307.30224607, -306.13425217,\n",
       "        -305.43910034, -305.08055773, -304.67497885]),\n",
       " array([-732.73494457, -370.02306545, -328.06207311, -316.53644411,\n",
       "        -311.53774832, -308.81019766, -307.38602737, -306.2993822 ,\n",
       "        -305.52009112, -305.03920397, -304.72455087]),\n",
       " array([-732.73494457, -370.02306545, -328.06207311, -316.53644411,\n",
       "        -311.53774832, -308.81019766, -307.38602737, -306.2993822 ,\n",
       "        -305.52009112, -305.03920397, -304.72455087])]"
      ]
     },
     "execution_count": 20,
     "metadata": {},
     "output_type": "execute_result"
    }
   ],
   "source": [
    "result1"
   ]
  },
  {
   "cell_type": "code",
   "execution_count": 21,
   "metadata": {
    "collapsed": false
   },
   "outputs": [],
   "source": [
    "expect1 = np.ones(10)\n",
    "for i in range(10):\n",
    "    expect1[i] = integral(result1[i], ts)"
   ]
  },
  {
   "cell_type": "code",
   "execution_count": 22,
   "metadata": {
    "collapsed": false
   },
   "outputs": [
    {
     "data": {
      "text/plain": [
       "array([-311.35927245, -311.35927245, -311.54464403, -311.54464403,\n",
       "       -311.37576308, -311.37576308, -311.49907195, -311.49907195,\n",
       "       -311.49018565, -311.49018565])"
      ]
     },
     "execution_count": 22,
     "metadata": {},
     "output_type": "execute_result"
    }
   ],
   "source": [
    "expect1"
   ]
  },
  {
   "cell_type": "markdown",
   "metadata": {},
   "source": [
    "model2 marginal likelihood by power posterior"
   ]
  },
  {
   "cell_type": "code",
   "execution_count": 23,
   "metadata": {
    "collapsed": false
   },
   "outputs": [],
   "source": [
    "if __name__ == '__main__':\n",
    "    result2 = w.map(function2, range(m))"
   ]
  },
  {
   "cell_type": "code",
   "execution_count": 24,
   "metadata": {
    "collapsed": true
   },
   "outputs": [],
   "source": [
    "expect2 = np.ones(10)\n",
    "for i in range(10):\n",
    "    expect2[i] = integral(result2[i], ts)"
   ]
  },
  {
   "cell_type": "code",
   "execution_count": 25,
   "metadata": {
    "collapsed": false
   },
   "outputs": [
    {
     "data": {
      "text/plain": [
       "array([-302.94606678, -302.94606678, -302.78515586, -302.78515586,\n",
       "       -303.04867278, -303.04867278, -302.89751735, -302.89751735,\n",
       "       -302.87158847, -302.87158847])"
      ]
     },
     "execution_count": 25,
     "metadata": {},
     "output_type": "execute_result"
    }
   ],
   "source": [
    "expect2"
   ]
  },
  {
   "cell_type": "markdown",
   "metadata": {
    "collapsed": true
   },
   "source": [
    "BF21"
   ]
  },
  {
   "cell_type": "code",
   "execution_count": 26,
   "metadata": {
    "collapsed": true
   },
   "outputs": [],
   "source": [
    "bf_21 = []\n",
    "for a,b in zip(expect1, expect2):\n",
    "    bf_21.append(np.exp(b-a))"
   ]
  },
  {
   "cell_type": "code",
   "execution_count": 27,
   "metadata": {
    "collapsed": false
   },
   "outputs": [
    {
     "data": {
      "text/plain": [
       "[4506.1827248839209,\n",
       " 4506.1827248839209,\n",
       " 6370.8499305679816,\n",
       " 6370.8499305679816,\n",
       " 4134.3702871730584,\n",
       " 4134.3702871730584,\n",
       " 5440.1102295729743,\n",
       " 5440.1102295729743,\n",
       " 5533.6182953588377,\n",
       " 5533.6182953588377]"
      ]
     },
     "execution_count": 27,
     "metadata": {},
     "output_type": "execute_result"
    }
   ],
   "source": [
    "bf_21"
   ]
  },
  {
   "cell_type": "code",
   "execution_count": null,
   "metadata": {
    "collapsed": true
   },
   "outputs": [],
   "source": []
  }
 ],
 "metadata": {
  "kernelspec": {
   "display_name": "Python 3",
   "language": "python",
   "name": "python3"
  },
  "language_info": {
   "codemirror_mode": {
    "name": "ipython",
    "version": 3
   },
   "file_extension": ".py",
   "mimetype": "text/x-python",
   "name": "python",
   "nbconvert_exporter": "python",
   "pygments_lexer": "ipython3",
   "version": "3.5.1"
  }
 },
 "nbformat": 4,
 "nbformat_minor": 0
}
