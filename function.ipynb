{
 "cells": [
  {
   "cell_type": "code",
   "execution_count": 1,
   "metadata": {
    "collapsed": true
   },
   "outputs": [],
   "source": [
    "% matplotlib inline\n",
    "from scipy.stats import invgamma\n",
    "from scipy.stats import norm\n",
    "from multiprocessing import Pool\n",
    "from datetime import datetime\n",
    "import pandas as pd\n",
    "import numpy as np\n",
    "import matplotlib.pyplot as plt"
   ]
  },
  {
   "cell_type": "code",
   "execution_count": 36,
   "metadata": {
    "collapsed": false
   },
   "outputs": [],
   "source": [
    "def integral(estimate, ts):\n",
    "    elements = np.ones(len(ts) - 1)\n",
    "    for i in range(len(ts) - 1):\n",
    "        elements[i] = (ts[i+1] - ts[i])*(estimate[i+1] + estimate[i])/2\n",
    "    return sum(elements)\n",
    "\n",
    "def sum1(beta):\n",
    "    return np.sum(p[:, 0] - beta * p[:, 3])\n",
    "\n",
    "def sum2(alpha):\n",
    "    return np.sum(p[:, 3] * (p[:, 0] - alpha))\n",
    "\n",
    "def sum3(alpha, beta):\n",
    "    l = (p[:, 0] - alpha - beta*p[:, 3])\n",
    "    return np.sum(l * l )\n",
    "\n",
    "def loglike(alpha, beta, sigma):\n",
    "    return N*np.log(1/(np.sqrt(2*np.pi*sigma))) - sum3(alpha, beta) / (2*sigma)\n",
    "\n",
    "def function1(u):\n",
    "    \n",
    "    if u < m:\n",
    "        r = np.random.RandomState(u)\n",
    "\n",
    "        for i in range(n+1):\n",
    "            t = ts[i]\n",
    "            \n",
    "            if i == 0:\n",
    "                alphas[0] = 3000\n",
    "                betas[0] = 185\n",
    "                sigmas[0] = 90000\n",
    "\n",
    "            else:\n",
    "                alphas[0] = np.mean(alpha_sample)\n",
    "                betas[0] = np.mean(beta_sample)\n",
    "                sigmas[0] = np.mean(sigma_sample)\n",
    "\n",
    "            for j in range(sample_iter -1):\n",
    "\n",
    "                location_alpha = (sigma_alpha*t*sum1(betas[j]) + sigmas[j]*mu_alpha) / (sigma_alpha * N*t + sigmas[j])\n",
    "                scale_alpha = np.sqrt((sigma_alpha * sigmas[j]) / (sigma_alpha * N*t + sigmas[j]))\n",
    "                alphas[j+1] = r.normal(loc = location_alpha, scale = scale_alpha)\n",
    "\n",
    "                location_beta = (sigma_beta * t * sum2(alphas[j+1]) + sigmas[j] * mu_beta) / (sigma_beta *t* ssx + sigmas[j])\n",
    "                scale_beta = np.sqrt((sigmas[j] * sigma_beta) / (sigma_beta *t* ssx + sigmas[j]))\n",
    "                betas[j+1] = r.normal(loc = location_beta, scale = scale_beta)\n",
    "\n",
    "                shape = N*t/2 + a\n",
    "                invrate = 2*b / (b*t*sum3(alphas[j+1], betas[j+1]) + 2)\n",
    "                sigmas[j+1] = invgamma.rvs(a = shape, scale = 1/ invrate, random_state = r)\n",
    "\n",
    "            alpha_sample = alphas[burn_in:]\n",
    "            beta_sample = betas[burn_in:len(betas)]\n",
    "            sigma_sample = sigmas[burn_in:len(sigmas)]\n",
    "\n",
    "            box = np.ones(len(alpha_sample))\n",
    "            for k, l in enumerate(alpha_sample):\n",
    "                box[k] = loglike(l, beta_sample[k], sigma_sample[k])\n",
    "                \n",
    "            estimates[i] = np.average(box)\n",
    "        \n",
    "    print(estimates)\n",
    "    return estimates\n",
    "    \n",
    "def sum4(beta):\n",
    "    return np.sum(p[:, 0] - beta * p[:, 4])\n",
    "\n",
    "def sum5(alpha):\n",
    "    return np.sum(p[:, 4] * (p[:, 0] - alpha))\n",
    "\n",
    "def sum6(alpha, beta):\n",
    "    l = (p[:, 0] - alpha - beta*p[:, 4])\n",
    "    return np.sum(l * l )  \n",
    "\n",
    "def loglike2(alpha, beta, sigma):\n",
    "    return N*np.log(1/(np.sqrt(2*np.pi*sigma))) - sum6(alpha, beta) / (2*sigma)\n",
    "    \n",
    "def function2(w):\n",
    "    if w < m:\n",
    "        r = np.random.RandomState(w)\n",
    "\n",
    "        for i in range(n+1):\n",
    "            t = ts[i]\n",
    "            \n",
    "            if i == 0:\n",
    "                gammas[0] = 3000\n",
    "                deltas[0] = 185\n",
    "                taus[0] = 90000\n",
    "\n",
    "            else:\n",
    "                gammas[0] = np.mean(gamma_sample)\n",
    "                deltas[0] = np.mean(delta_sample)\n",
    "                taus[0] = np.mean(tau_sample)\n",
    "\n",
    "            for j in range(sample_iter - 1):\n",
    "\n",
    "                location_alpha = (sigma_alpha*t*sum4(deltas[j]) + taus[j]*mu_alpha) / (sigma_alpha * N*t + taus[j])\n",
    "                scale_alpha = np.sqrt((sigma_alpha * taus[j]) / (sigma_alpha * N*t + taus[j]))\n",
    "                gammas[j+1] = r.normal(loc = location_alpha, scale = scale_alpha)\n",
    "\n",
    "                location_beta = (sigma_beta * t * sum5(gammas[j+1]) + taus[j] * mu_beta) / (sigma_beta *t* ssz + taus[j])\n",
    "                scale_beta = np.sqrt((taus[j] * sigma_beta) / (sigma_beta *t* ssz + taus[j]))\n",
    "                deltas[j+1] = r.normal(loc = location_beta, scale = scale_beta)\n",
    "\n",
    "                shape = N*t/2 + a\n",
    "                invrate = 2*b / (b*t*sum6(gammas[j+1], deltas[j+1]) + 2)\n",
    "                taus[j+1] = invgamma.rvs(a = shape, scale = 1/ invrate, random_state = r)\n",
    "\n",
    "            gamma_sample = gammas[burn_in:]\n",
    "            delta_sample = deltas[burn_in:len(deltas)]\n",
    "            tau_sample = taus[burn_in:len(taus)]\n",
    "\n",
    "            box2 = np.ones(len(gamma_sample))\n",
    "            for k, l in enumerate(gamma_sample):\n",
    "                box2[k] = loglike2(l, delta_sample[k], tau_sample[k])\n",
    "\n",
    "            estimates[i] = np.average(box2)\n",
    "        \n",
    "        return estimates"
   ]
  },
  {
   "cell_type": "code",
   "execution_count": 37,
   "metadata": {
    "collapsed": false
   },
   "outputs": [],
   "source": [
    "pine = pd.read_table(\"pine.txt\", delim_whitespace = True)\n",
    "p = pine.values\n",
    "pine['ave_x'] = pine['x'] - np.average(p[:, 1])\n",
    "pine['ave_z'] = pine['z'] - np.average(p[:, 2])\n",
    "p = pine.values\n",
    "\n",
    "mu_alpha = 3000\n",
    "sigma_alpha = 10**6\n",
    "mu_beta = 185\n",
    "sigma_beta = 10**4\n",
    "a = 3\n",
    "b = 1/(2*300**2)\n",
    "\n",
    "N = np.shape(p)[0]\n",
    "ssx = np.sum(p[:, 3] * p[:, 3])\n",
    "ssz = np.sum(p[:, 4] * p[:, 4])\n",
    "\n",
    "n = 10\n",
    "c = 2\n",
    "ts = [(i/n)**c for i in range(n+1)]\n",
    "estimates = np.ones(n+1)\n",
    "\n",
    "####ここをいじってね。\n",
    "sample_iter = 1000\n",
    "burn_in = 30\n",
    "m = 10\n",
    "core = 2\n",
    "####\n",
    "\n",
    "alphas = np.ones(sample_iter)\n",
    "betas = np.ones(sample_iter)\n",
    "sigmas = np.ones(sample_iter)\n",
    "\n",
    "gammas = np.ones(sample_iter)\n",
    "deltas = np.ones(sample_iter)\n",
    "taus = np.ones(sample_iter)"
   ]
  },
  {
   "cell_type": "markdown",
   "metadata": {},
   "source": [
    "# computing BF\n",
    "\n",
    "\n",
    "model1 marginal likelihood by power posterior"
   ]
  },
  {
   "cell_type": "code",
   "execution_count": 38,
   "metadata": {
    "collapsed": false
   },
   "outputs": [
    {
     "name": "stdout",
     "output_type": "stream",
     "text": [
      "[-741.51064934 -370.32967921 -327.84678002 -316.51460247 -311.40338099\n",
      " -308.86463135 -307.21155062 -306.20755042 -305.55797757 -305.06356073\n",
      " -304.76888185]\n",
      "[-683.1822422  -372.0624744  -327.67031172 -315.86350085 -311.04499678\n",
      " -308.57135623 -307.23815994 -306.11069065 -305.56819714 -305.04013095\n",
      " -304.70037153]\n",
      "[-695.33823917 -370.12493288 -328.26221541 -316.502299   -311.41553437\n",
      " -308.6985797  -307.17683175 -306.30102149 -305.5004337  -305.03059833\n",
      " -304.75798911]\n",
      "[-701.70657175 -371.81771002 -328.58368786 -316.28881041 -311.23550223\n",
      " -308.86842828 -307.05001788 -306.13066076 -305.5014211  -305.09991334\n",
      " -304.76038663]\n",
      "[-661.59282928 -373.27664552 -329.00749934 -315.88024083 -311.46138153\n",
      " -308.51769757 -307.1766974  -306.0551735  -305.56852552 -305.10246157\n",
      " -304.78584954]\n",
      "[-710.81623026 -370.72662002 -328.64042008 -316.21778264 -311.50331799\n",
      " -308.75339189 -307.11191967 -306.17151279 -305.49030224 -304.99074442\n",
      " -304.77871922]\n",
      "[-750.05228524 -373.47945842 -327.84785808 -316.01345338 -311.55321241\n",
      " -308.41757442 -307.19546252 -306.18667582 -305.4432305  -305.08424199\n",
      " -304.71769705]\n",
      "[-757.50620989 -371.24808085 -327.21328954 -316.33122771 -310.96334787\n",
      " -308.48525039 -307.13394713 -306.15452103 -305.5481172  -305.07154749\n",
      " -304.80352469]\n",
      "[-733.67219857 -376.3496885  -327.09757627 -316.72655094 -311.13344592\n",
      " -308.65829826 -307.11891735 -306.17732316 -305.56656742 -305.11312128\n",
      " -304.74855154]\n",
      "[-702.86206948 -373.20420715 -328.77992555 -316.2457501  -311.36139717\n",
      " -308.7182965  -307.10857076 -306.26265301 -305.52683712 -305.08968267\n",
      " -304.70037521]\n"
     ]
    }
   ],
   "source": [
    "w = Pool(core) \n",
    "result1 = w.map(function1, range(m))"
   ]
  },
  {
   "cell_type": "code",
   "execution_count": 41,
   "metadata": {
    "collapsed": false
   },
   "outputs": [
    {
     "data": {
      "text/plain": [
       "[array([-695.33823917, -370.12493288, -328.26221541, -316.502299  ,\n",
       "        -311.41553437, -308.6985797 , -307.17683175, -306.30102149,\n",
       "        -305.5004337 , -305.03059833, -304.75798911]),\n",
       " array([-695.33823917, -370.12493288, -328.26221541, -316.502299  ,\n",
       "        -311.41553437, -308.6985797 , -307.17683175, -306.30102149,\n",
       "        -305.5004337 , -305.03059833, -304.75798911]),\n",
       " array([-701.70657175, -371.81771002, -328.58368786, -316.28881041,\n",
       "        -311.23550223, -308.86842828, -307.05001788, -306.13066076,\n",
       "        -305.5014211 , -305.09991334, -304.76038663]),\n",
       " array([-701.70657175, -371.81771002, -328.58368786, -316.28881041,\n",
       "        -311.23550223, -308.86842828, -307.05001788, -306.13066076,\n",
       "        -305.5014211 , -305.09991334, -304.76038663]),\n",
       " array([-750.05228524, -373.47945842, -327.84785808, -316.01345338,\n",
       "        -311.55321241, -308.41757442, -307.19546252, -306.18667582,\n",
       "        -305.4432305 , -305.08424199, -304.71769705]),\n",
       " array([-750.05228524, -373.47945842, -327.84785808, -316.01345338,\n",
       "        -311.55321241, -308.41757442, -307.19546252, -306.18667582,\n",
       "        -305.4432305 , -305.08424199, -304.71769705]),\n",
       " array([-757.50620989, -371.24808085, -327.21328954, -316.33122771,\n",
       "        -310.96334787, -308.48525039, -307.13394713, -306.15452103,\n",
       "        -305.5481172 , -305.07154749, -304.80352469]),\n",
       " array([-757.50620989, -371.24808085, -327.21328954, -316.33122771,\n",
       "        -310.96334787, -308.48525039, -307.13394713, -306.15452103,\n",
       "        -305.5481172 , -305.07154749, -304.80352469]),\n",
       " array([-702.86206948, -373.20420715, -328.77992555, -316.2457501 ,\n",
       "        -311.36139717, -308.7182965 , -307.10857076, -306.26265301,\n",
       "        -305.52683712, -305.08968267, -304.70037521]),\n",
       " array([-702.86206948, -373.20420715, -328.77992555, -316.2457501 ,\n",
       "        -311.36139717, -308.7182965 , -307.10857076, -306.26265301,\n",
       "        -305.52683712, -305.08968267, -304.70037521])]"
      ]
     },
     "execution_count": 41,
     "metadata": {},
     "output_type": "execute_result"
    }
   ],
   "source": [
    "result1"
   ]
  },
  {
   "cell_type": "code",
   "execution_count": 21,
   "metadata": {
    "collapsed": false
   },
   "outputs": [],
   "source": [
    "expect1 = np.ones(10)\n",
    "for i in range(10):\n",
    "    expect1[i] = integral(result1[i], ts)"
   ]
  },
  {
   "cell_type": "code",
   "execution_count": 22,
   "metadata": {
    "collapsed": false
   },
   "outputs": [
    {
     "data": {
      "text/plain": [
       "array([-311.35927245, -311.35927245, -311.54464403, -311.54464403,\n",
       "       -311.37576308, -311.37576308, -311.49907195, -311.49907195,\n",
       "       -311.49018565, -311.49018565])"
      ]
     },
     "execution_count": 22,
     "metadata": {},
     "output_type": "execute_result"
    }
   ],
   "source": [
    "expect1"
   ]
  },
  {
   "cell_type": "markdown",
   "metadata": {},
   "source": [
    "model2 marginal likelihood by power posterior"
   ]
  },
  {
   "cell_type": "code",
   "execution_count": 23,
   "metadata": {
    "collapsed": false
   },
   "outputs": [],
   "source": [
    "if __name__ == '__main__':\n",
    "    result2 = w.map(function2, range(m))"
   ]
  },
  {
   "cell_type": "code",
   "execution_count": 24,
   "metadata": {
    "collapsed": true
   },
   "outputs": [],
   "source": [
    "expect2 = np.ones(10)\n",
    "for i in range(10):\n",
    "    expect2[i] = integral(result2[i], ts)"
   ]
  },
  {
   "cell_type": "code",
   "execution_count": 25,
   "metadata": {
    "collapsed": false
   },
   "outputs": [
    {
     "data": {
      "text/plain": [
       "array([-302.94606678, -302.94606678, -302.78515586, -302.78515586,\n",
       "       -303.04867278, -303.04867278, -302.89751735, -302.89751735,\n",
       "       -302.87158847, -302.87158847])"
      ]
     },
     "execution_count": 25,
     "metadata": {},
     "output_type": "execute_result"
    }
   ],
   "source": [
    "expect2"
   ]
  },
  {
   "cell_type": "markdown",
   "metadata": {
    "collapsed": true
   },
   "source": [
    "BF21"
   ]
  },
  {
   "cell_type": "code",
   "execution_count": 26,
   "metadata": {
    "collapsed": true
   },
   "outputs": [],
   "source": [
    "bf_21 = []\n",
    "for a,b in zip(expect1, expect2):\n",
    "    bf_21.append(np.exp(b-a))"
   ]
  },
  {
   "cell_type": "code",
   "execution_count": 27,
   "metadata": {
    "collapsed": false
   },
   "outputs": [
    {
     "data": {
      "text/plain": [
       "[4506.1827248839209,\n",
       " 4506.1827248839209,\n",
       " 6370.8499305679816,\n",
       " 6370.8499305679816,\n",
       " 4134.3702871730584,\n",
       " 4134.3702871730584,\n",
       " 5440.1102295729743,\n",
       " 5440.1102295729743,\n",
       " 5533.6182953588377,\n",
       " 5533.6182953588377]"
      ]
     },
     "execution_count": 27,
     "metadata": {},
     "output_type": "execute_result"
    }
   ],
   "source": [
    "bf_21"
   ]
  },
  {
   "cell_type": "code",
   "execution_count": null,
   "metadata": {
    "collapsed": true
   },
   "outputs": [],
   "source": []
  }
 ],
 "metadata": {
  "kernelspec": {
   "display_name": "Python 3",
   "language": "python",
   "name": "python3"
  },
  "language_info": {
   "codemirror_mode": {
    "name": "ipython",
    "version": 3
   },
   "file_extension": ".py",
   "mimetype": "text/x-python",
   "name": "python",
   "nbconvert_exporter": "python",
   "pygments_lexer": "ipython3",
   "version": "3.5.1"
  }
 },
 "nbformat": 4,
 "nbformat_minor": 0
}
