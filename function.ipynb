{
 "cells": [
  {
   "cell_type": "code",
   "execution_count": 2,
   "metadata": {
    "collapsed": true
   },
   "outputs": [],
   "source": [
    "from scipy.stats import invgamma\n",
    "from scipy.stats import norm\n",
    "from multiprocessing import Pool\n",
    "from datetime import datetime\n",
    "import pandas as pd\n",
    "import numpy as np\n",
    "import matplotlib.pyplot as plt\n",
    "% matplotlib inline"
   ]
  },
  {
   "cell_type": "code",
   "execution_count": 3,
   "metadata": {
    "collapsed": false
   },
   "outputs": [],
   "source": [
    "def integral(estimate, ts):\n",
    "    elements = np.ones(len(ts) - 1)\n",
    "    for i in range(len(ts) - 1):\n",
    "        elements[i] = (ts[i+1] - ts[i])*(estimate[i+1] + estimate[i])/2\n",
    "    return sum(elements)\n",
    "\n",
    "def sum1(beta):\n",
    "    elements = np.ones(N)\n",
    "    for i in range(N):\n",
    "        elements[i] = p[i, 0] - beta * (p[i, 1] - ave_x)\n",
    "    return np.sum(elements)\n",
    "\n",
    "def sum2(alpha):\n",
    "    elements = np.ones(N)\n",
    "    for i in range(N):\n",
    "        elements[i] = (p[i, 1] - ave_x)*(p[i, 0] - alpha)\n",
    "    return np.sum(elements)\n",
    "\n",
    "def sum3(alpha, beta):\n",
    "    elements = np.ones(N)\n",
    "    for i in range(N):\n",
    "        elements[i] = (p[i, 0] - alpha - beta*(p[i, 1] - ave_x))**2\n",
    "    return np.sum(elements)\n",
    "\n",
    "def loglike(alpha, beta, sigma):\n",
    "    return N*np.log(1/(sigma*np.sqrt(2*np.pi))) - sum3(alpha, beta) / (2*sigma)\n",
    "\n",
    "def function1(w):\n",
    "    if w < 100:\n",
    "        np.random.seed(datetime.now().microsecond)\n",
    "        \n",
    "        ###### ここを変えてね！\n",
    "        n = 10\n",
    "        c = 2\n",
    "        ######\n",
    "        \n",
    "        estimates = np.ones(n+1)\n",
    "        ts = np.ones(n+1)\n",
    "\n",
    "        for i in range(n+1):\n",
    "            t = (i/n)**c\n",
    "            ts[i] = t\n",
    "\n",
    "            alphas = np.ones(sample_iter)\n",
    "            betas = np.ones(sample_iter)\n",
    "            sigmas = np.ones(sample_iter)\n",
    "            \n",
    "            if i == 0:\n",
    "                alphas[0] = 3000\n",
    "                betas[0] = 185\n",
    "                sigmas[0] = 90000\n",
    "\n",
    "            else:\n",
    "                alphas[0] = np.mean(alpha_sample).item()\n",
    "                betas[0] = np.mean(beta_sample).item()\n",
    "                sigmas[0] = np.mean(sigma_sample).item()\n",
    "\n",
    "            for j in range(sample_iter -1):\n",
    "\n",
    "                location_alpha = (sigma_alpha*t*sum1(betas[-1]) + sigmas[-1]*mu_alpha) / (sigma_alpha * N*t + sigmas[-1])\n",
    "                scale_alpha = np.sqrt((sigma_alpha * sigmas[-1]) / (sigma_alpha * N*t + sigmas[-1]))\n",
    "                r = norm.rvs(loc = location_alpha, scale = scale_alpha)\n",
    "                alphas[j+1] = r.item()\n",
    "\n",
    "                location_beta = (sigma_beta * t * sum2(alphas[-1]) + sigmas[-1] * mu_beta) / (sigma_beta *t* var*N + sigmas[-1])\n",
    "                scale_beta = np.sqrt((sigmas[-1] * sigma_beta) / (sigma_beta *t* var*N + sigmas[-1]))\n",
    "                q = norm.rvs(loc = location_beta, scale = scale_beta)\n",
    "                betas[j+1] = q.item()\n",
    "\n",
    "                shape = N*t/2 + a\n",
    "                invrate = 2*b / (b*t*sum3(alphas[-1], betas[-1]) + 2)\n",
    "                s = invgamma.rvs(a = shape, scale = 1/ invrate)\n",
    "                sigmas[j+1] = s.item()\n",
    "\n",
    "            alpha_sample = alphas[burn_in:]\n",
    "            beta_sample = betas[burn_in:len(betas)]\n",
    "            sigma_sample = sigmas[burn_in:len(sigmas)]\n",
    "\n",
    "            box = np.ones(len(alpha_sample))\n",
    "            for k, l in enumerate(alpha_sample):\n",
    "                box[k] = loglike(l, beta_sample[k], sigma_sample[k])\n",
    "\n",
    "            estimates[i] = np.average(box)\n",
    "        \n",
    "        return estimates\n",
    "    \n",
    "def sum4(beta):\n",
    "    elements = np.ones(N)\n",
    "    for i in range(N):\n",
    "        elements[i] = p[i, 0] - beta * (p[i, 2] - ave_z)\n",
    "    return np.sum(elements)\n",
    "\n",
    "def sum5(alpha):\n",
    "    elements = np.ones(N)\n",
    "    for i in range(N):\n",
    "        elements[i] = (p[i, 2] - ave_z)*(p[i, 0] - alpha)\n",
    "    return np.sum(elements)\n",
    "\n",
    "def sum6(alpha, beta):\n",
    "    elements = np.ones(N)\n",
    "    for i in range(N):\n",
    "        elements[i] = (p[i, 0] - alpha - beta*(p[i, 2] - ave_z))**2\n",
    "    return np.sum(elements)    \n",
    "    \n",
    "def function2(w):\n",
    "    if w < 100:\n",
    "        np.random.seed(datetime.now().microsecond)\n",
    "        \n",
    "        ###### ここを変えてね！\n",
    "        n = 10\n",
    "        c = 2\n",
    "        ######\n",
    "        \n",
    "        estimates = np.ones(n+1)\n",
    "        ts = np.ones(n+1)\n",
    "\n",
    "        for i in range(n+1):\n",
    "            t = (i/n)**c\n",
    "            ts[i] = t\n",
    "\n",
    "            alphas = np.ones(sample_iter)\n",
    "            betas = np.ones(sample_iter)\n",
    "            sigmas = np.ones(sample_iter)\n",
    "            \n",
    "            if i == 0:\n",
    "                alphas[0] = 3000\n",
    "                betas[0] = 185\n",
    "                sigmas[0] = 90000\n",
    "\n",
    "            else:\n",
    "                alphas[0] = np.mean(alpha_sample).item()\n",
    "                betas[0] = np.mean(beta_sample).item()\n",
    "                sigmas[0] = np.mean(sigma_sample).item()\n",
    "\n",
    "            for j in range(sample_iter - 1):\n",
    "\n",
    "                location_alpha = (sigma_alpha*t*sum4(betas[-1]) + sigmas[-1]*mu_alpha) / (sigma_alpha * N*t + sigmas[-1])\n",
    "                scale_alpha = np.sqrt((sigma_alpha * sigmas[-1]) / (sigma_alpha * N*t + sigmas[-1]))\n",
    "                r = norm.rvs(loc = location_alpha, scale = scale_alpha)\n",
    "                alphas[j+1] = r.item()\n",
    "\n",
    "                location_beta = (sigma_beta * t * sum5(alphas[-1]) + sigmas[-1] * mu_beta) / (sigma_beta *t* var2*N + sigmas[-1])\n",
    "                scale_beta = np.sqrt((sigmas[-1] * sigma_beta) / (sigma_beta *t* var2*N + sigmas[-1]))\n",
    "                q = norm.rvs(loc = location_beta, scale = scale_beta)\n",
    "                betas[j+1] = q.item()\n",
    "\n",
    "                shape = N*t/2 + a\n",
    "                invrate = 2*b / (b*t*sum6(alphas[-1], betas[-1]) + 2)\n",
    "                s = invgamma.rvs(a = shape, scale = 1/ invrate)\n",
    "                sigmas[j+1] = s.item()\n",
    "\n",
    "            alpha_sample = alphas[burn_in:]\n",
    "            beta_sample = betas[burn_in:len(betas)]\n",
    "            sigma_sample = sigmas[burn_in:len(sigmas)]\n",
    "\n",
    "            box = np.ones(len(alpha_sample))\n",
    "            for k, l in enumerate(alpha_sample):\n",
    "                box[k] = loglike(l, beta_sample[k], sigma_sample[k])\n",
    "\n",
    "            estimates[i] = np.average(box)\n",
    "        \n",
    "        return estimates"
   ]
  },
  {
   "cell_type": "code",
   "execution_count": 4,
   "metadata": {
    "collapsed": true
   },
   "outputs": [],
   "source": [
    "pine = pd.read_table(\"pine.txt\", delim_whitespace = True)\n",
    "p = pine.values\n",
    "ave_x = np.average(p[:, 1]).item()\n",
    "ave_z = np.average(p[:, 2]).item()\n",
    "\n",
    "mu_alpha = 3000\n",
    "sigma_alpha = 10**6\n",
    "mu_beta = 185\n",
    "sigma_beta = 10**4\n",
    "a = 3\n",
    "b = 1/(2*300**2)\n",
    "\n",
    "N = np.shape(p)[0]\n",
    "var = np.var(p[:, 1])\n",
    "var2 = np.var(p[:, 2])\n",
    "\n",
    "# ここをいじってね。\n",
    "sample_iter = 1000\n",
    "burn_in = 30\n",
    "m = 10\n",
    "core = 2\n"
   ]
  },
  {
   "cell_type": "markdown",
   "metadata": {},
   "source": [
    "model1"
   ]
  },
  {
   "cell_type": "code",
   "execution_count": 5,
   "metadata": {
    "collapsed": false
   },
   "outputs": [],
   "source": [
    "if __name__ == '__main__':\n",
    "    p = Pool(core) \n",
    "    result1 = p.map(function1, range(m))"
   ]
  },
  {
   "cell_type": "code",
   "execution_count": 6,
   "metadata": {
    "collapsed": false
   },
   "outputs": [
    {
     "data": {
      "text/plain": [
       "[array([-975.38366714, -612.42668923, -658.29542668, -679.21123331,\n",
       "        -692.18224507, -698.92006902, -701.92413776, -705.79449061,\n",
       "        -707.17305319, -709.49806737, -709.66603035]),\n",
       " array([-950.32152458, -613.14685931, -657.89760723, -680.39819475,\n",
       "        -691.08558399, -698.14432316, -702.82692404, -704.94856373,\n",
       "        -707.18330975, -708.66793318, -709.54340894]),\n",
       " array([-996.51160884, -613.29023244, -658.3891378 , -680.16780231,\n",
       "        -691.24290752, -697.8639479 , -703.72764152, -705.54407379,\n",
       "        -708.34601722, -708.39813048, -709.58104643]),\n",
       " array([-953.07480151, -612.6834424 , -657.36935828, -680.71424017,\n",
       "        -691.06141503, -699.3710606 , -702.93899083, -705.46175403,\n",
       "        -706.76873478, -708.31699589, -710.01287963]),\n",
       " array([-983.67608609, -612.5236283 , -657.98536184, -678.27524704,\n",
       "        -691.36022397, -698.85384076, -702.56448045, -705.32017279,\n",
       "        -707.60200437, -708.50417241, -709.05962451]),\n",
       " array([-938.1021554 , -614.65018267, -657.03400814, -679.6918612 ,\n",
       "        -691.14136789, -698.31426214, -703.37740841, -705.32670974,\n",
       "        -707.30249495, -709.52071948, -709.53090952]),\n",
       " array([-965.8331736 , -613.47718795, -658.28099007, -680.29125924,\n",
       "        -692.18560887, -697.68890001, -702.3304205 , -706.09470418,\n",
       "        -707.0918531 , -708.86320614, -709.50966755]),\n",
       " array([-957.21329167, -613.56974854, -658.44003599, -679.28361691,\n",
       "        -692.22863638, -698.32148496, -702.6795484 , -705.20123341,\n",
       "        -707.03831187, -708.49520938, -709.61817544]),\n",
       " array([-986.51730604, -612.3676387 , -658.02051065, -679.06075631,\n",
       "        -691.38942432, -698.69678984, -702.17153579, -705.69691423,\n",
       "        -707.28218587, -709.01420415, -709.75754764]),\n",
       " array([-1011.61102212,  -612.9101964 ,  -659.25076438,  -678.32487509,\n",
       "         -690.94195246,  -698.358893  ,  -702.14752346,  -705.29255274,\n",
       "         -707.48374805,  -709.26168445,  -710.23711336])]"
      ]
     },
     "execution_count": 6,
     "metadata": {},
     "output_type": "execute_result"
    }
   ],
   "source": [
    "result1"
   ]
  },
  {
   "cell_type": "code",
   "execution_count": 7,
   "metadata": {
    "collapsed": false
   },
   "outputs": [],
   "source": [
    "ts = [(i/10)**2 for i in range(11)]\n",
    "\n",
    "expect1 = np.ones(10)\n",
    "for i in range(10):\n",
    "    expect1[i] = integral(result1[i], ts)"
   ]
  },
  {
   "cell_type": "code",
   "execution_count": 8,
   "metadata": {
    "collapsed": false
   },
   "outputs": [
    {
     "data": {
      "text/plain": [
       "array([-700.79426843, -700.40383101, -700.9605367 , -700.52729571,\n",
       "       -700.53928219, -700.60771555, -700.65756456, -700.48123203,\n",
       "       -700.69806384, -700.83271647])"
      ]
     },
     "execution_count": 8,
     "metadata": {},
     "output_type": "execute_result"
    }
   ],
   "source": [
    "expect1"
   ]
  },
  {
   "cell_type": "markdown",
   "metadata": {},
   "source": [
    "model2"
   ]
  },
  {
   "cell_type": "code",
   "execution_count": 9,
   "metadata": {
    "collapsed": false
   },
   "outputs": [],
   "source": [
    "if __name__ == '__main__':\n",
    "    result2 = p.map(function2, range(m))"
   ]
  },
  {
   "cell_type": "code",
   "execution_count": 10,
   "metadata": {
    "collapsed": true
   },
   "outputs": [],
   "source": [
    "ts = [(i/10)**2 for i in range(11)]\n",
    "\n",
    "expect2 = np.ones(10)\n",
    "for i in range(10):\n",
    "    expect2[i] = integral(result2[i], ts)"
   ]
  },
  {
   "cell_type": "code",
   "execution_count": 11,
   "metadata": {
    "collapsed": false
   },
   "outputs": [
    {
     "data": {
      "text/plain": [
       "array([-700.72181525, -700.53943986, -700.85300765, -700.51260944,\n",
       "       -700.73491173, -700.77328027, -700.77677517, -700.52847042,\n",
       "       -700.88961816, -700.53515884])"
      ]
     },
     "execution_count": 11,
     "metadata": {},
     "output_type": "execute_result"
    }
   ],
   "source": [
    "expect2"
   ]
  },
  {
   "cell_type": "markdown",
   "metadata": {
    "collapsed": true
   },
   "source": [
    "BF21"
   ]
  },
  {
   "cell_type": "code",
   "execution_count": 12,
   "metadata": {
    "collapsed": true
   },
   "outputs": [],
   "source": [
    "bf_21 = []\n",
    "for a,b in zip(expect1, expect2):\n",
    "    bf_21.append(np.exp(b-a))"
   ]
  },
  {
   "cell_type": "code",
   "execution_count": 13,
   "metadata": {
    "collapsed": false
   },
   "outputs": [
    {
     "data": {
      "text/plain": [
       "[1.0751424617129306,\n",
       " 0.87318410799839752,\n",
       " 1.1135232118770031,\n",
       " 1.0147946439821462,\n",
       " 0.82231681815333513,\n",
       " 0.84741501651074747,\n",
       " 0.88762083434111649,\n",
       " 0.95385998185749832,\n",
       " 0.82567476851322552,\n",
       " 1.34656598546509]"
      ]
     },
     "execution_count": 13,
     "metadata": {},
     "output_type": "execute_result"
    }
   ],
   "source": [
    "bf_21"
   ]
  },
  {
   "cell_type": "code",
   "execution_count": null,
   "metadata": {
    "collapsed": true
   },
   "outputs": [],
   "source": []
  }
 ],
 "metadata": {
  "kernelspec": {
   "display_name": "Python 3",
   "language": "python",
   "name": "python3"
  },
  "language_info": {
   "codemirror_mode": {
    "name": "ipython",
    "version": 3
   },
   "file_extension": ".py",
   "mimetype": "text/x-python",
   "name": "python",
   "nbconvert_exporter": "python",
   "pygments_lexer": "ipython3",
   "version": "3.5.1"
  }
 },
 "nbformat": 4,
 "nbformat_minor": 0
}
