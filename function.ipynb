{
 "cells": [
  {
   "cell_type": "code",
   "execution_count": 1,
   "metadata": {
    "collapsed": true
   },
   "outputs": [],
   "source": [
    "from scipy.stats import invgamma\n",
    "from scipy.stats import norm\n",
    "from multiprocessing import Pool\n",
    "from datetime import datetime\n",
    "import pandas as pd\n",
    "import numpy as np\n",
    "import matplotlib.pyplot as plt\n",
    "% matplotlib inline"
   ]
  },
  {
   "cell_type": "code",
   "execution_count": 2,
   "metadata": {
    "collapsed": false
   },
   "outputs": [],
   "source": [
    "def integral(estimate, ts):\n",
    "    elements = np.ones(len(ts) - 1)\n",
    "    for i in range(len(ts) - 1):\n",
    "        elements[i] = (ts[i+1] - ts[i])*(estimate[i+1] + estimate[i])/2\n",
    "    return sum(elements)\n",
    "\n",
    "def sum1(beta):\n",
    "    return np.sum(p[:, 0] - beta * p[:, 3])\n",
    "\n",
    "def sum2(alpha):\n",
    "    return np.sum(p[:, 3] * (p[:, 0] - alpha))\n",
    "\n",
    "def sum3(alpha, beta):\n",
    "    l = (p[:, 0] - alpha - beta*p[:, 3])\n",
    "    return np.sum(l * l )\n",
    "\n",
    "def loglike(alpha, beta, sigma):\n",
    "    return N*np.log(1/(np.sqrt(2*np.pi*sigma))) - sum3(alpha, beta) / (2*sigma)\n",
    "\n",
    "def function1(w):\n",
    "    if w < m:\n",
    "        np.random.seed(datetime.now().microsecond)\n",
    "        estimates = np.ones(n+1)\n",
    "\n",
    "        for i in range(n+1):\n",
    "            t = ts[i]\n",
    "\n",
    "            alphas = np.ones(sample_iter)\n",
    "            betas = np.ones(sample_iter)\n",
    "            sigmas = np.ones(sample_iter)\n",
    "            \n",
    "            if i == 0:\n",
    "                alphas[0] = 3000\n",
    "                betas[0] = 185\n",
    "                sigmas[0] = 90000\n",
    "\n",
    "            else:\n",
    "                alphas[0] = np.mean(alpha_sample)\n",
    "                betas[0] = np.mean(beta_sample)\n",
    "                sigmas[0] = np.mean(sigma_sample)\n",
    "\n",
    "            for j in range(sample_iter -1):\n",
    "\n",
    "                location_alpha = (sigma_alpha*t*sum1(betas[-1]) + sigmas[-1]*mu_alpha) / (sigma_alpha * N*t + sigmas[-1])\n",
    "                scale_alpha = np.sqrt((sigma_alpha * sigmas[-1]) / (sigma_alpha * N*t + sigmas[-1]))\n",
    "                alphas[j+1] = norm.rvs(loc = location_alpha, scale = scale_alpha)\n",
    "\n",
    "                location_beta = (sigma_beta * t * sum2(alphas[-1]) + sigmas[-1] * mu_beta) / (sigma_beta *t* var*N + sigmas[-1])\n",
    "                scale_beta = np.sqrt((sigmas[-1] * sigma_beta) / (sigma_beta *t* var*N + sigmas[-1]))\n",
    "                betas[j+1] = norm.rvs(loc = location_beta, scale = scale_beta)\n",
    "\n",
    "                shape = N*t/2 + a\n",
    "                invrate = 2*b / (b*t*sum3(alphas[-1], betas[-1]) + 2)\n",
    "                sigmas[j+1] = invgamma.rvs(a = shape, scale = 1/ invrate)\n",
    "\n",
    "            alpha_sample = alphas[burn_in:]\n",
    "            beta_sample = betas[burn_in:len(betas)]\n",
    "            sigma_sample = sigmas[burn_in:len(sigmas)]\n",
    "\n",
    "            box = np.ones(len(alpha_sample))\n",
    "            for k, l in enumerate(alpha_sample):\n",
    "                box[k] = loglike(l, beta_sample[k], sigma_sample[k])\n",
    "\n",
    "            estimates[i] = np.average(box)\n",
    "        \n",
    "        return estimates\n",
    "    \n",
    "def sum4(beta):\n",
    "    return np.sum(p[:, 0] - beta * p[:, 4])\n",
    "\n",
    "def sum5(alpha):\n",
    "    return np.sum(p[:, 4] * (p[:, 0] - alpha))\n",
    "\n",
    "def sum6(alpha, beta):\n",
    "    l = (p[:, 0] - alpha - beta*p[:, 4])\n",
    "    return np.sum(l * l )  \n",
    "\n",
    "def loglike2(alpha, beta, sigma):\n",
    "    return N*np.log(1/(np.sqrt(2*np.pi*sigma))) - sum6(alpha, beta) / (2*sigma)\n",
    "    \n",
    "def function2(w):\n",
    "    if w < m:\n",
    "        np.random.seed(datetime.now().microsecond)\n",
    "        estimates = np.ones(n+1)\n",
    "\n",
    "        for i in range(n+1):\n",
    "            t = ts[i]\n",
    "\n",
    "            gammas = np.ones(sample_iter)\n",
    "            deltas = np.ones(sample_iter)\n",
    "            taus = np.ones(sample_iter)\n",
    "            \n",
    "            if i == 0:\n",
    "                gammas[0] = 3000\n",
    "                deltas[0] = 185\n",
    "                taus[0] = 90000\n",
    "\n",
    "            else:\n",
    "                gammas[0] = np.mean(gamma_sample)\n",
    "                deltas[0] = np.mean(delta_sample)\n",
    "                taus[0] = np.mean(tau_sample)\n",
    "\n",
    "            for j in range(sample_iter - 1):\n",
    "\n",
    "                location_alpha = (sigma_alpha*t*sum4(deltas[-1]) + taus[-1]*mu_alpha) / (sigma_alpha * N*t + taus[-1])\n",
    "                scale_alpha = np.sqrt((sigma_alpha * taus[-1]) / (sigma_alpha * N*t + taus[-1]))\n",
    "                gammas[j+1] = norm.rvs(loc = location_alpha, scale = scale_alpha)\n",
    "\n",
    "                location_beta = (sigma_beta * t * sum5(gammas[-1]) + taus[-1] * mu_beta) / (sigma_beta *t* var2*N + taus[-1])\n",
    "                scale_beta = np.sqrt((taus[-1] * sigma_beta) / (sigma_beta *t* var2*N + taus[-1]))\n",
    "                deltas[j+1] = norm.rvs(loc = location_beta, scale = scale_beta)\n",
    "\n",
    "                shape = N*t/2 + a\n",
    "                invrate = 2*b / (b*t*sum6(gammas[-1], deltas[-1]) + 2)\n",
    "                taus[j+1] = invgamma.rvs(a = shape, scale = 1/ invrate)\n",
    "\n",
    "            gamma_sample = gammas[burn_in:]\n",
    "            delta_sample = deltas[burn_in:len(deltas)]\n",
    "            tau_sample = taus[burn_in:len(taus)]\n",
    "\n",
    "            box2 = np.ones(len(gamma_sample))\n",
    "            for k, l in enumerate(gamma_sample):\n",
    "                box2[k] = loglike2(l, delta_sample[k], tau_sample[k])\n",
    "\n",
    "            estimates[i] = np.average(box2)\n",
    "        \n",
    "        return estimates"
   ]
  },
  {
   "cell_type": "code",
   "execution_count": 4,
   "metadata": {
    "collapsed": false
   },
   "outputs": [],
   "source": [
    "pine = pd.read_table(\"pine.txt\", delim_whitespace = True)\n",
    "p = pine.values\n",
    "pine['ave_x'] = pine['x'] - np.average(p[:, 1])\n",
    "pine['ave_z'] = pine['z'] - np.average(p[:, 2])\n",
    "p = pine.values\n",
    "\n",
    "mu_alpha = 3000\n",
    "sigma_alpha = 10**6\n",
    "mu_beta = 185\n",
    "sigma_beta = 10**4\n",
    "a = 3\n",
    "b = 1/(2*300**2)\n",
    "\n",
    "N = np.shape(p)[0]\n",
    "var = np.var(p[:, 1])\n",
    "var2 = np.var(p[:, 2])\n",
    "\n",
    "n = 10\n",
    "c = 2\n",
    "ts = [(i/n)**c for i in range(n+1)]\n",
    "\n",
    "# ここをいじってね。\n",
    "sample_iter = 10000\n",
    "burn_in = 30\n",
    "m = 10\n",
    "core = 2\n"
   ]
  },
  {
   "cell_type": "markdown",
   "metadata": {},
   "source": [
    "収束の確認"
   ]
  },
  {
   "cell_type": "code",
   "execution_count": 5,
   "metadata": {
    "collapsed": true
   },
   "outputs": [],
   "source": [
    "# model 1\n",
    "\n",
    "n = 10\n",
    "c = 2\n",
    "######\n",
    "\n",
    "estimates = np.ones(n+1)\n",
    "ts = np.ones(n+1)\n",
    "\n",
    "\n",
    "t = (1/n)**c\n",
    "\n",
    "\n",
    "alphas = np.ones(sample_iter)\n",
    "betas = np.ones(sample_iter)\n",
    "sigmas = np.ones(sample_iter)\n",
    "\n",
    "\n",
    "alphas[0] = 3000\n",
    "betas[0] = 185\n",
    "sigmas[0] = 90000\n",
    "\n",
    "\n",
    "for j in range(sample_iter -1):\n",
    "\n",
    "    location_alpha = (sigma_alpha*t*sum1(betas[-1]) + sigmas[-1]*mu_alpha) / (sigma_alpha * N*t + sigmas[-1])\n",
    "    scale_alpha = np.sqrt((sigma_alpha * sigmas[-1]) / (sigma_alpha * N*t + sigmas[-1]))\n",
    "    r = norm.rvs(loc = location_alpha, scale = scale_alpha)\n",
    "    alphas[j+1] = r\n",
    "\n",
    "    location_beta = (sigma_beta * t * sum2(alphas[-1]) + sigmas[-1] * mu_beta) / (sigma_beta *t* var*N + sigmas[-1])\n",
    "    scale_beta = np.sqrt((sigmas[-1] * sigma_beta) / (sigma_beta *t* var*N + sigmas[-1]))\n",
    "    q = norm.rvs(loc = location_beta, scale = scale_beta)\n",
    "    betas[j+1] = q\n",
    "\n",
    "    shape = N*t/2 + a\n",
    "    invrate = 2*b / (b*t*sum3(alphas[-1], betas[-1]) + 2)\n",
    "    s = invgamma.rvs(a = shape, scale = 1/ invrate)\n",
    "    sigmas[j+1] = s"
   ]
  },
  {
   "cell_type": "code",
   "execution_count": 6,
   "metadata": {
    "collapsed": false
   },
   "outputs": [
    {
     "data": {
      "text/plain": [
       "<function matplotlib.pyplot.plot>"
      ]
     },
     "execution_count": 6,
     "metadata": {},
     "output_type": "execute_result"
    },
    {
     "data": {
      "image/png": "[encoded data removed]",
      "text/plain": [
       "<matplotlib.figure.Figure at 0x116f66c18>"
      ]
     },
     "metadata": {},
     "output_type": "display_data"
    }
   ],
   "source": [
    "plt.plot(alphas)\n",
    "plt.plot"
   ]
  },
  {
   "cell_type": "code",
   "execution_count": 7,
   "metadata": {
    "collapsed": false
   },
   "outputs": [
    {
     "data": {
      "text/plain": [
       "[<matplotlib.lines.Line2D at 0x119bdea20>]"
      ]
     },
     "execution_count": 7,
     "metadata": {},
     "output_type": "execute_result"
    },
    {
     "data": {
      "image/png": "[encoded data removed]",
      "text/plain": [
       "<matplotlib.figure.Figure at 0x116ffcd68>"
      ]
     },
     "metadata": {},
     "output_type": "display_data"
    }
   ],
   "source": [
    "plt.plot(betas)"
   ]
  },
  {
   "cell_type": "code",
   "execution_count": 8,
   "metadata": {
    "collapsed": false
   },
   "outputs": [
    {
     "data": {
      "text/plain": [
       "[<matplotlib.lines.Line2D at 0x11b494d68>]"
      ]
     },
     "execution_count": 8,
     "metadata": {},
     "output_type": "execute_result"
    },
    {
     "data": {
      "image/png": "[encoded data removed]",
      "text/plain": [
       "<matplotlib.figure.Figure at 0x119bbb518>"
      ]
     },
     "metadata": {},
     "output_type": "display_data"
    }
   ],
   "source": [
    "plt.plot( sigmas)"
   ]
  },
  {
   "cell_type": "code",
   "execution_count": 9,
   "metadata": {
    "collapsed": false
   },
   "outputs": [],
   "source": [
    "# model 2\n",
    "\n",
    "n = 10\n",
    "c = 2\n",
    "######\n",
    "\n",
    "estimates = np.ones(n+1)\n",
    "ts = np.ones(n+1)\n",
    "\n",
    "\n",
    "t = (1/n)**c\n",
    "\n",
    "\n",
    "gammas = np.ones(sample_iter)\n",
    "deltas = np.ones(sample_iter)\n",
    "taus = np.ones(sample_iter)\n",
    "\n",
    "\n",
    "gammas[0] = 3000\n",
    "deltas[0] = 185\n",
    "taus[0] = 90000\n",
    "\n",
    "for j in range(sample_iter - 1):\n",
    "\n",
    "    location_alpha = (sigma_alpha*t*sum4(deltas[-1]) + taus[-1]*mu_alpha) / (sigma_alpha * N*t + taus[-1])\n",
    "    scale_alpha = np.sqrt((sigma_alpha * taus[-1]) / (sigma_alpha * N*t + taus[-1]))\n",
    "    r = norm.rvs(loc = location_alpha, scale = scale_alpha)\n",
    "    gammas[j+1] = r\n",
    "\n",
    "    location_beta = (sigma_beta * t * sum5(gammas[-1]) + taus[-1] * mu_beta) / (sigma_beta *t* var2*N + taus[-1])\n",
    "    scale_beta = np.sqrt((taus[-1] * sigma_beta) / (sigma_beta *t* var2*N + taus[-1]))\n",
    "    q = norm.rvs(loc = location_beta, scale = scale_beta)\n",
    "    deltas[j+1] = q\n",
    "\n",
    "    shape = N*t/2 + a\n",
    "    invrate = 2*b / (b*t*sum6(gammas[-1], deltas[-1]) + 2)\n",
    "    s = invgamma.rvs(a = shape, scale = 1/ invrate)\n",
    "    taus[j+1] = s"
   ]
  },
  {
   "cell_type": "code",
   "execution_count": 10,
   "metadata": {
    "collapsed": false
   },
   "outputs": [
    {
     "data": {
      "text/plain": [
       "[<matplotlib.lines.Line2D at 0x11b72bd30>]"
      ]
     },
     "execution_count": 10,
     "metadata": {},
     "output_type": "execute_result"
    },
    {
     "data": {
      "image/png": "[encoded data removed]",
      "text/plain": [
       "<matplotlib.figure.Figure at 0x11b4bcdd8>"
      ]
     },
     "metadata": {},
     "output_type": "display_data"
    }
   ],
   "source": [
    "plt.plot(gammas)"
   ]
  },
  {
   "cell_type": "code",
   "execution_count": 11,
   "metadata": {
    "collapsed": false
   },
   "outputs": [
    {
     "data": {
      "text/plain": [
       "[<matplotlib.lines.Line2D at 0x11b78a5c0>]"
      ]
     },
     "execution_count": 11,
     "metadata": {},
     "output_type": "execute_result"
    },
    {
     "data": {
      "image/png": "[encoded data removed]",
      "text/plain": [
       "<matplotlib.figure.Figure at 0x11b738e80>"
      ]
     },
     "metadata": {},
     "output_type": "display_data"
    }
   ],
   "source": [
    "plt.plot(deltas)"
   ]
  },
  {
   "cell_type": "code",
   "execution_count": 12,
   "metadata": {
    "collapsed": false
   },
   "outputs": [
    {
     "data": {
      "text/plain": [
       "[<matplotlib.lines.Line2D at 0x116faf240>]"
      ]
     },
     "execution_count": 12,
     "metadata": {},
     "output_type": "execute_result"
    },
    {
     "data": {
      "image/png": "[encoded data removed]",
      "text/plain": [
       "<matplotlib.figure.Figure at 0x11b79b358>"
      ]
     },
     "metadata": {},
     "output_type": "display_data"
    }
   ],
   "source": [
    "plt.plot(taus)"
   ]
  },
  {
   "cell_type": "markdown",
   "metadata": {},
   "source": [
    "# computing BF\n",
    "\n",
    "\n",
    "model1"
   ]
  },
  {
   "cell_type": "code",
   "execution_count": 8,
   "metadata": {
    "collapsed": false
   },
   "outputs": [],
   "source": [
    "if __name__ == '__main__':\n",
    "    w = Pool(core) \n",
    "    result1 = w.map(function1, range(m))"
   ]
  },
  {
   "cell_type": "code",
   "execution_count": 9,
   "metadata": {
    "collapsed": false
   },
   "outputs": [
    {
     "data": {
      "text/plain": [
       "[array([-728.55969781, -328.01082018, -349.01965143, -359.33315849,\n",
       "        -365.56834255, -368.6877269 , -371.07397053, -372.42973348,\n",
       "        -373.01016695, -373.82815944, -374.2664817 ]),\n",
       " array([-727.90827564, -327.92018   , -349.22389888, -359.59129333,\n",
       "        -365.50118641, -368.49064462, -370.87974274, -371.98426289,\n",
       "        -373.39306002, -373.84011626, -374.45631278]),\n",
       " array([-733.51473285, -328.22240633, -349.2321366 , -359.17614438,\n",
       "        -365.11757819, -368.38045111, -370.79435549, -372.19027629,\n",
       "        -373.26484552, -373.8554604 , -374.19285951]),\n",
       " array([-726.59573511, -328.09398039, -349.37163629, -359.591179  ,\n",
       "        -365.35470365, -369.00008553, -370.80020733, -372.42122933,\n",
       "        -372.72641372, -373.95361654, -374.46436901]),\n",
       " array([-735.4437363 , -327.77145304, -348.39639937, -359.22255366,\n",
       "        -365.31976431, -368.16383161, -370.68416976, -371.85739772,\n",
       "        -372.98844276, -373.86562695, -374.30914695]),\n",
       " array([-722.27141085, -327.67450801, -349.12704029, -359.43818112,\n",
       "        -365.0010587 , -368.87907837, -370.47249934, -372.15652241,\n",
       "        -373.13124109, -373.93313613, -374.32062081]),\n",
       " array([-724.77370607, -327.84418186, -348.48311653, -359.51737425,\n",
       "        -365.4632889 , -368.42794994, -370.70636153, -372.39901236,\n",
       "        -373.25581349, -373.68240936, -374.34338229]),\n",
       " array([-706.77230937, -327.09520623, -349.50708829, -359.56776565,\n",
       "        -365.29865789, -368.76484665, -371.23733807, -372.11691375,\n",
       "        -373.18223973, -373.81114571, -374.06973901]),\n",
       " array([-744.57932227, -328.31675018, -348.39518284, -359.64206028,\n",
       "        -365.10135686, -368.83291127, -370.88587119, -372.44847243,\n",
       "        -373.02251277, -373.69719825, -374.26405293]),\n",
       " array([-756.78059924, -327.77323993, -348.6382895 , -360.0004075 ,\n",
       "        -365.39108096, -368.42458289, -370.59881499, -372.36367694,\n",
       "        -373.26656311, -373.5749878 , -374.71005922])]"
      ]
     },
     "execution_count": 9,
     "metadata": {},
     "output_type": "execute_result"
    }
   ],
   "source": [
    "result1"
   ]
  },
  {
   "cell_type": "code",
   "execution_count": 10,
   "metadata": {
    "collapsed": false
   },
   "outputs": [],
   "source": [
    "expect1 = np.ones(10)\n",
    "for i in range(10):\n",
    "    expect1[i] = integral(result1[i], ts)"
   ]
  },
  {
   "cell_type": "code",
   "execution_count": 11,
   "metadata": {
    "collapsed": false
   },
   "outputs": [
    {
     "data": {
      "text/plain": [
       "array([-371.03308088, -371.02236408, -370.96596843, -371.03056853,\n",
       "       -370.83928995, -370.91224734, -370.93798767, -370.90713072,\n",
       "       -371.04823566, -371.12504469])"
      ]
     },
     "execution_count": 11,
     "metadata": {},
     "output_type": "execute_result"
    }
   ],
   "source": [
    "expect1"
   ]
  },
  {
   "cell_type": "markdown",
   "metadata": {},
   "source": [
    "model2"
   ]
  },
  {
   "cell_type": "code",
   "execution_count": 12,
   "metadata": {
    "collapsed": false
   },
   "outputs": [],
   "source": [
    "if __name__ == '__main__':\n",
    "    result2 = w.map(function2, range(m))"
   ]
  },
  {
   "cell_type": "code",
   "execution_count": 13,
   "metadata": {
    "collapsed": true
   },
   "outputs": [],
   "source": [
    "expect2 = np.ones(10)\n",
    "for i in range(10):\n",
    "    expect2[i] = integral(result2[i], ts)"
   ]
  },
  {
   "cell_type": "code",
   "execution_count": 14,
   "metadata": {
    "collapsed": false
   },
   "outputs": [
    {
     "data": {
      "text/plain": [
       "array([-370.69481978, -370.86417251, -370.85323004, -370.9056726 ,\n",
       "       -370.78395936, -370.61170256, -370.50821695, -370.83175627,\n",
       "       -370.80582537, -370.6920544 ])"
      ]
     },
     "execution_count": 14,
     "metadata": {},
     "output_type": "execute_result"
    }
   ],
   "source": [
    "expect2"
   ]
  },
  {
   "cell_type": "markdown",
   "metadata": {
    "collapsed": true
   },
   "source": [
    "BF21"
   ]
  },
  {
   "cell_type": "code",
   "execution_count": 15,
   "metadata": {
    "collapsed": true
   },
   "outputs": [],
   "source": [
    "bf_21 = []\n",
    "for a,b in zip(expect1, expect2):\n",
    "    bf_21.append(np.exp(b-a))"
   ]
  },
  {
   "cell_type": "code",
   "execution_count": 16,
   "metadata": {
    "collapsed": false
   },
   "outputs": [
    {
     "data": {
      "text/plain": [
       "[1.4025066371469483,\n",
       " 1.1713905770074899,\n",
       " 1.1193390673644366,\n",
       " 1.1330305413923905,\n",
       " 1.0568899543878427,\n",
       " 1.3505943842452597,\n",
       " 1.5369051003187191,\n",
       " 1.0782878439593513,\n",
       " 1.2743169267459826,\n",
       " 1.5418612476711611]"
      ]
     },
     "execution_count": 16,
     "metadata": {},
     "output_type": "execute_result"
    }
   ],
   "source": [
    "bf_21"
   ]
  },
  {
   "cell_type": "code",
   "execution_count": null,
   "metadata": {
    "collapsed": true
   },
   "outputs": [],
   "source": []
  }
 ],
 "metadata": {
  "kernelspec": {
   "display_name": "Python 3",
   "language": "python",
   "name": "python3"
  },
  "language_info": {
   "codemirror_mode": {
    "name": "ipython",
    "version": 3
   },
   "file_extension": ".py",
   "mimetype": "text/x-python",
   "name": "python",
   "nbconvert_exporter": "python",
   "pygments_lexer": "ipython3",
   "version": "3.5.1"
  }
 },
 "nbformat": 4,
 "nbformat_minor": 0
}
