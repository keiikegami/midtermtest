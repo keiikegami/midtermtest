{
 "cells": [
  {
   "cell_type": "code",
   "execution_count": 1,
   "metadata": {
    "collapsed": true
   },
   "outputs": [],
   "source": [
    "from scipy.stats import invgamma\n",
    "from scipy.stats import norm\n",
    "from multiprocessing import Pool\n",
    "from datetime import datetime\n",
    "import pandas as pd\n",
    "import numpy as np\n",
    "import matplotlib.pyplot as plt\n",
    "% matplotlib inline"
   ]
  },
  {
   "cell_type": "code",
   "execution_count": 40,
   "metadata": {
    "collapsed": false
   },
   "outputs": [],
   "source": [
    "def integral(estimate, ts):\n",
    "    elements = np.ones(len(ts) - 1)\n",
    "    for i in range(len(ts) - 1):\n",
    "        elements[i] = (ts[i+1] - ts[i])*(estimate[i+1] + estimate[i])/2\n",
    "    return sum(elements)\n",
    "\n",
    "def sum1(beta):\n",
    "    elements = np.ones(N)\n",
    "    for i in range(N):\n",
    "        elements[i] = p[i, 0] - beta * (p[i, 1] - ave_x)\n",
    "    return np.sum(elements)\n",
    "\n",
    "def sum2(alpha):\n",
    "    elements = np.ones(N)\n",
    "    for i in range(N):\n",
    "        elements[i] = (p[i, 1] - ave_x)*(p[i, 0] - alpha)\n",
    "    return np.sum(elements)\n",
    "\n",
    "def sum3(alpha, beta):\n",
    "    elements = np.ones(N)\n",
    "    for i in range(N):\n",
    "        elements[i] = (p[i, 0] - alpha - beta*(p[i, 1] - ave_x))**2\n",
    "    return np.sum(elements)\n",
    "\n",
    "def loglike(alpha, beta, sigma):\n",
    "    return N*np.log(1/(sigma*np.sqrt(2*np.pi))) - sum3(alpha, beta) / (2*sigma)\n",
    "\n",
    "def function1(w):\n",
    "    if w < 100:\n",
    "        np.random.seed(datetime.now().microsecond)\n",
    "        \n",
    "        ###### ここを変えてね！\n",
    "        n = 10\n",
    "        c = 2\n",
    "        ######\n",
    "        \n",
    "        estimates = np.ones(n+1)\n",
    "        ts = np.ones(n+1)\n",
    "\n",
    "        for i in range(n+1):\n",
    "            t = (i/n)**c\n",
    "            ts[i] = t\n",
    "\n",
    "            alphas = np.ones(sample_iter)\n",
    "            betas = np.ones(sample_iter)\n",
    "            sigmas = np.ones(sample_iter)\n",
    "            \n",
    "            if i == 0:\n",
    "                alphas[0] = 3000\n",
    "                betas[0] = 185\n",
    "                sigmas[0] = 90000\n",
    "\n",
    "            else:\n",
    "                alphas[0] = np.mean(alpha_sample)\n",
    "                betas[0] = np.mean(beta_sample)\n",
    "                sigmas[0] = np.mean(sigma_sample)\n",
    "\n",
    "            for j in range(sample_iter -1):\n",
    "\n",
    "                location_alpha = (sigma_alpha*t*sum1(betas[-1]) + sigmas[-1]*mu_alpha) / (sigma_alpha * N*t + sigmas[-1])\n",
    "                scale_alpha = np.sqrt((sigma_alpha * sigmas[-1]) / (sigma_alpha * N*t + sigmas[-1]))\n",
    "                alphas[j+1] = norm.rvs(loc = location_alpha, scale = scale_alpha)\n",
    "\n",
    "                location_beta = (sigma_beta * t * sum2(alphas[-1]) + sigmas[-1] * mu_beta) / (sigma_beta *t* var*N + sigmas[-1])\n",
    "                scale_beta = np.sqrt((sigmas[-1] * sigma_beta) / (sigma_beta *t* var*N + sigmas[-1]))\n",
    "                betas[j+1] = norm.rvs(loc = location_beta, scale = scale_beta)\n",
    "\n",
    "                shape = N*t/2 + a\n",
    "                invrate = 2*b / (b*t*sum3(alphas[-1], betas[-1]) + 2)\n",
    "                sigmas[j+1] = invgamma.rvs(a = shape, scale = 1/ invrate)\n",
    "\n",
    "            alpha_sample = alphas[burn_in:]\n",
    "            beta_sample = betas[burn_in:len(betas)]\n",
    "            sigma_sample = sigmas[burn_in:len(sigmas)]\n",
    "\n",
    "            box = np.ones(len(alpha_sample))\n",
    "            for k, l in enumerate(alpha_sample):\n",
    "                box[k] = loglike(l, beta_sample[k], sigma_sample[k])\n",
    "\n",
    "            estimates[i] = np.average(box)\n",
    "        \n",
    "        return estimates\n",
    "    \n",
    "def sum4(beta):\n",
    "    elements = np.ones(N)\n",
    "    for i in range(N):\n",
    "        elements[i] = p[i, 0] - beta * (p[i, 2] - ave_z)\n",
    "    return np.sum(elements)\n",
    "\n",
    "def sum5(alpha):\n",
    "    elements = np.ones(N)\n",
    "    for i in range(N):\n",
    "        elements[i] = (p[i, 2] - ave_z)*(p[i, 0] - alpha)\n",
    "    return np.sum(elements)\n",
    "\n",
    "def sum6(alpha, beta):\n",
    "    elements = np.ones(N)\n",
    "    for i in range(N):\n",
    "        elements[i] = (p[i, 0] - alpha - beta*(p[i, 2] - ave_z))**2\n",
    "    return np.sum(elements)    \n",
    "\n",
    "def loglike2(alpha, beta, sigma):\n",
    "    return N*np.log(1/(sigma*np.sqrt(2*np.pi))) - sum6(alpha, beta) / (2*sigma)\n",
    "    \n",
    "def function2(w):\n",
    "    if w < 100:\n",
    "        np.random.seed(datetime.now().microsecond)\n",
    "        \n",
    "        ###### ここを変えてね！\n",
    "        n = 10\n",
    "        c = 2\n",
    "        ######\n",
    "        \n",
    "        estimates = np.ones(n+1)\n",
    "        ts = np.ones(n+1)\n",
    "\n",
    "        for i in range(n+1):\n",
    "            t = (i/n)**c\n",
    "            ts[i] = t\n",
    "\n",
    "            gammas = np.ones(sample_iter)\n",
    "            deltas = np.ones(sample_iter)\n",
    "            taus = np.ones(sample_iter)\n",
    "            \n",
    "            if i == 0:\n",
    "                gammas[0] = 3000\n",
    "                deltas[0] = 185\n",
    "                taus[0] = 90000\n",
    "\n",
    "            else:\n",
    "                gammas[0] = np.mean(gamma_sample)\n",
    "                deltas[0] = np.mean(delta_sample)\n",
    "                taus[0] = np.mean(tau_sample)\n",
    "\n",
    "            for j in range(sample_iter - 1):\n",
    "\n",
    "                location_alpha = (sigma_alpha*t*sum4(deltas[-1]) + sigmas[-1]*mu_alpha) / (sigma_alpha * N*t + taus[-1])\n",
    "                scale_alpha = np.sqrt((sigma_alpha * taus[-1]) / (sigma_alpha * N*t + taus[-1]))\n",
    "                gammas[j+1] = norm.rvs(loc = location_alpha, scale = scale_alpha)\n",
    "\n",
    "                location_beta = (sigma_beta * t * sum5(gammas[-1]) + taus[-1] * mu_beta) / (sigma_beta *t* var2*N + taus[-1])\n",
    "                scale_beta = np.sqrt((taus[-1] * sigma_beta) / (sigma_beta *t* var2*N + taus[-1]))\n",
    "                deltas[j+1] = norm.rvs(loc = location_beta, scale = scale_beta)\n",
    "\n",
    "                shape = N*t/2 + a\n",
    "                invrate = 2*b / (b*t*sum6(gammas[-1], deltas[-1]) + 2)\n",
    "                taus[j+1] = invgamma.rvs(a = shape, scale = 1/ invrate)\n",
    "\n",
    "            gamma_sample = gammas[burn_in:]\n",
    "            delta_sample = deltas[burn_in:len(deltas)]\n",
    "            tau_sample = taus[burn_in:len(taus)]\n",
    "\n",
    "            box2 = np.ones(len(gamma_sample))\n",
    "            for k, l in enumerate(gamma_sample):\n",
    "                box2[k] = loglike2(l, delta_sample[k], tau_sample[k])\n",
    "\n",
    "            estimates[i] = np.average(box)\n",
    "        \n",
    "        return estimates"
   ]
  },
  {
   "cell_type": "code",
   "execution_count": 35,
   "metadata": {
    "collapsed": true
   },
   "outputs": [],
   "source": [
    "pine = pd.read_table(\"pine.txt\", delim_whitespace = True)\n",
    "p = pine.values\n",
    "ave_x = np.average(p[:, 1]).item()\n",
    "ave_z = np.average(p[:, 2]).item()\n",
    "\n",
    "mu_alpha = 3000\n",
    "sigma_alpha = 10**6\n",
    "mu_beta = 185\n",
    "sigma_beta = 10**4\n",
    "a = 3\n",
    "b = 1/(2*300**2)\n",
    "\n",
    "N = np.shape(p)[0]\n",
    "var = np.var(p[:, 1])\n",
    "var2 = np.var(p[:, 2])\n",
    "\n",
    "# ここをいじってね。\n",
    "sample_iter = 1000\n",
    "burn_in = 30\n",
    "m = 10\n",
    "core = 2\n"
   ]
  },
  {
   "cell_type": "markdown",
   "metadata": {},
   "source": [
    "収束の確認"
   ]
  },
  {
   "cell_type": "code",
   "execution_count": 25,
   "metadata": {
    "collapsed": true
   },
   "outputs": [],
   "source": [
    "# model 1\n",
    "\n",
    "n = 10\n",
    "c = 2\n",
    "######\n",
    "\n",
    "estimates = np.ones(n+1)\n",
    "ts = np.ones(n+1)\n",
    "\n",
    "\n",
    "t = (1/n)**c\n",
    "\n",
    "\n",
    "alphas = np.ones(sample_iter)\n",
    "betas = np.ones(sample_iter)\n",
    "sigmas = np.ones(sample_iter)\n",
    "\n",
    "\n",
    "alphas[0] = 3000\n",
    "betas[0] = 185\n",
    "sigmas[0] = 90000\n",
    "\n",
    "\n",
    "for j in range(sample_iter -1):\n",
    "\n",
    "    location_alpha = (sigma_alpha*t*sum1(betas[-1]) + sigmas[-1]*mu_alpha) / (sigma_alpha * N*t + sigmas[-1])\n",
    "    scale_alpha = np.sqrt((sigma_alpha * sigmas[-1]) / (sigma_alpha * N*t + sigmas[-1]))\n",
    "    r = norm.rvs(loc = location_alpha, scale = scale_alpha)\n",
    "    alphas[j+1] = r\n",
    "\n",
    "    location_beta = (sigma_beta * t * sum2(alphas[-1]) + sigmas[-1] * mu_beta) / (sigma_beta *t* var*N + sigmas[-1])\n",
    "    scale_beta = np.sqrt((sigmas[-1] * sigma_beta) / (sigma_beta *t* var*N + sigmas[-1]))\n",
    "    q = norm.rvs(loc = location_beta, scale = scale_beta)\n",
    "    betas[j+1] = q\n",
    "\n",
    "    shape = N*t/2 + a\n",
    "    invrate = 2*b / (b*t*sum3(alphas[-1], betas[-1]) + 2)\n",
    "    s = invgamma.rvs(a = shape, scale = 1/ invrate)\n",
    "    sigmas[j+1] = s"
   ]
  },
  {
   "cell_type": "code",
   "execution_count": 29,
   "metadata": {
    "collapsed": false
   },
   "outputs": [
    {
     "data": {
      "text/plain": [
       "<function matplotlib.pyplot.plot>"
      ]
     },
     "execution_count": 29,
     "metadata": {},
     "output_type": "execute_result"
    },
    {
     "data": {
      "image/png": "[encoded data removed]",
      "text/plain": [
       "<matplotlib.figure.Figure at 0x119c7bd68>"
      ]
     },
     "metadata": {},
     "output_type": "display_data"
    }
   ],
   "source": [
    "plt.plot(alphas)\n",
    "plt.plot"
   ]
  },
  {
   "cell_type": "code",
   "execution_count": 30,
   "metadata": {
    "collapsed": false
   },
   "outputs": [
    {
     "data": {
      "text/plain": [
       "[<matplotlib.lines.Line2D at 0x119df0240>]"
      ]
     },
     "execution_count": 30,
     "metadata": {},
     "output_type": "execute_result"
    },
    {
     "data": {
      "image/png": "[encoded data removed]",
      "text/plain": [
       "<matplotlib.figure.Figure at 0x119cad860>"
      ]
     },
     "metadata": {},
     "output_type": "display_data"
    }
   ],
   "source": [
    "plt.plot(betas)"
   ]
  },
  {
   "cell_type": "code",
   "execution_count": 31,
   "metadata": {
    "collapsed": false
   },
   "outputs": [
    {
     "data": {
      "text/plain": [
       "[<matplotlib.lines.Line2D at 0x11a3d44e0>]"
      ]
     },
     "execution_count": 31,
     "metadata": {},
     "output_type": "execute_result"
    },
    {
     "data": {
      "image/png": "[encoded data removed]",
      "text/plain": [
       "<matplotlib.figure.Figure at 0x119d44908>"
      ]
     },
     "metadata": {},
     "output_type": "display_data"
    }
   ],
   "source": [
    "plt.plot( sigmas)"
   ]
  },
  {
   "cell_type": "code",
   "execution_count": 47,
   "metadata": {
    "collapsed": false
   },
   "outputs": [],
   "source": [
    "# model 2\n",
    "\n",
    "sample_iter = 10000\n",
    "n = 10\n",
    "c = 2\n",
    "######\n",
    "\n",
    "estimates = np.ones(n+1)\n",
    "ts = np.ones(n+1)\n",
    "\n",
    "\n",
    "t = (1/n)**c\n",
    "\n",
    "\n",
    "gammas = np.ones(sample_iter)\n",
    "deltas = np.ones(sample_iter)\n",
    "taus = np.ones(sample_iter)\n",
    "\n",
    "\n",
    "gammas[0] = 3000\n",
    "deltas[0] = 185\n",
    "taus[0] = 90000\n",
    "\n",
    "for j in range(sample_iter - 1):\n",
    "\n",
    "    location_alpha = (sigma_alpha*t*sum4(deltas[-1]) + sigmas[-1]*mu_alpha) / (sigma_alpha * N*t + taus[-1])\n",
    "    scale_alpha = np.sqrt((sigma_alpha * taus[-1]) / (sigma_alpha * N*t + taus[-1]))\n",
    "    r = norm.rvs(loc = location_alpha, scale = scale_alpha)\n",
    "    gammas[j+1] = r\n",
    "\n",
    "    location_beta = (sigma_beta * t * sum5(gammas[-1]) + taus[-1] * mu_beta) / (sigma_beta *t* var2*N + taus[-1])\n",
    "    scale_beta = np.sqrt((taus[-1] * sigma_beta) / (sigma_beta *t* var2*N + taus[-1]))\n",
    "    q = norm.rvs(loc = location_beta, scale = scale_beta)\n",
    "    deltas[j+1] = q\n",
    "\n",
    "    shape = N*t/2 + a\n",
    "    invrate = 2*b / (b*t*sum6(gammas[-1], deltas[-1]) + 2)\n",
    "    s = invgamma.rvs(a = shape, scale = 1/ invrate)\n",
    "    taus[j+1] = s"
   ]
  },
  {
   "cell_type": "code",
   "execution_count": 48,
   "metadata": {
    "collapsed": false
   },
   "outputs": [
    {
     "data": {
      "text/plain": [
       "[<matplotlib.lines.Line2D at 0x119826630>]"
      ]
     },
     "execution_count": 48,
     "metadata": {},
     "output_type": "execute_result"
    },
    {
     "data": {
      "image/png": "[encoded data removed]",
      "text/plain": [
       "<matplotlib.figure.Figure at 0x116ddb898>"
      ]
     },
     "metadata": {},
     "output_type": "display_data"
    }
   ],
   "source": [
    "plt.plot(gammas)"
   ]
  },
  {
   "cell_type": "code",
   "execution_count": 45,
   "metadata": {
    "collapsed": false
   },
   "outputs": [
    {
     "data": {
      "text/plain": [
       "[<matplotlib.lines.Line2D at 0x119ca72b0>]"
      ]
     },
     "execution_count": 45,
     "metadata": {},
     "output_type": "execute_result"
    },
    {
     "data": {
      "image/png": "[encoded data removed]",
      "text/plain": [
       "<matplotlib.figure.Figure at 0x11a7d9f98>"
      ]
     },
     "metadata": {},
     "output_type": "display_data"
    }
   ],
   "source": [
    "plt.plot(deltas)"
   ]
  },
  {
   "cell_type": "code",
   "execution_count": 46,
   "metadata": {
    "collapsed": false
   },
   "outputs": [
    {
     "data": {
      "text/plain": [
       "[<matplotlib.lines.Line2D at 0x116dd5b70>]"
      ]
     },
     "execution_count": 46,
     "metadata": {},
     "output_type": "execute_result"
    },
    {
     "data": {
      "image/png": "[encoded data removed]",
      "text/plain": [
       "<matplotlib.figure.Figure at 0x119a6b0b8>"
      ]
     },
     "metadata": {},
     "output_type": "display_data"
    }
   ],
   "source": [
    "plt.plot(taus)"
   ]
  },
  {
   "cell_type": "markdown",
   "metadata": {},
   "source": [
    "# computing BF\n",
    "\n",
    "\n",
    "model1"
   ]
  },
  {
   "cell_type": "code",
   "execution_count": 20,
   "metadata": {
    "collapsed": false
   },
   "outputs": [],
   "source": [
    "if __name__ == '__main__':\n",
    "    p = Pool(core) \n",
    "    result1 = p.map(function1, range(m))"
   ]
  },
  {
   "cell_type": "code",
   "execution_count": 21,
   "metadata": {
    "collapsed": false
   },
   "outputs": [
    {
     "data": {
      "text/plain": [
       "[array([-959.28209592, -614.1680534 , -659.48190763, -679.13738716,\n",
       "        -690.69486335, -697.48481393, -702.43690979, -705.62848885,\n",
       "        -707.40024899, -709.12244001, -710.6841005 ]),\n",
       " array([-970.15107245, -613.06650482, -656.53031467, -679.37564283,\n",
       "        -691.92994213, -698.84155599, -702.69524234, -705.58268621,\n",
       "        -707.76872629, -709.2320224 , -709.42826646]),\n",
       " array([-965.76672354, -614.5412151 , -659.06830071, -680.24256818,\n",
       "        -690.63429642, -698.98499252, -702.61308874, -706.12380707,\n",
       "        -707.62354123, -708.71832334, -709.6897072 ]),\n",
       " array([-993.04140379, -613.21812147, -658.61842983, -680.16126042,\n",
       "        -691.38315555, -698.60503206, -701.93067305, -705.89185464,\n",
       "        -707.52299763, -708.62917472, -709.81606926]),\n",
       " array([-931.51026965, -612.56353287, -658.85715153, -679.69330927,\n",
       "        -691.69846066, -698.24289017, -702.44560073, -705.64565808,\n",
       "        -707.20125932, -708.93725353, -709.71847833]),\n",
       " array([-929.26764231, -613.75381682, -658.57723699, -679.12207167,\n",
       "        -691.15437316, -699.60400336, -702.86075843, -705.35010741,\n",
       "        -706.63283982, -708.43652152, -709.9550042 ]),\n",
       " array([-945.74496472, -614.41455669, -657.73677072, -679.89590066,\n",
       "        -691.30123764, -697.65933918, -701.51648848, -705.38716888,\n",
       "        -707.33088554, -708.61158874, -709.8095855 ]),\n",
       " array([-973.19124281, -613.71377994, -658.88924857, -679.92322927,\n",
       "        -691.21019477, -698.96000349, -702.40100185, -705.40259589,\n",
       "        -707.45524366, -709.22429039, -709.7794251 ]),\n",
       " array([-954.52757129, -613.18536195, -658.29478231, -679.26352499,\n",
       "        -692.0353122 , -698.5819865 , -702.97379314, -705.32600673,\n",
       "        -707.09533101, -708.49660215, -709.97387689]),\n",
       " array([-1003.52295876,  -613.34265579,  -658.58488894,  -679.65835925,\n",
       "         -691.63517763,  -698.00495702,  -701.90769725,  -705.53242275,\n",
       "         -707.53871382,  -709.21138814,  -709.66655475])]"
      ]
     },
     "execution_count": 21,
     "metadata": {},
     "output_type": "execute_result"
    }
   ],
   "source": [
    "result1"
   ]
  },
  {
   "cell_type": "code",
   "execution_count": 7,
   "metadata": {
    "collapsed": false
   },
   "outputs": [],
   "source": [
    "ts = [(i/10)**2 for i in range(11)]\n",
    "\n",
    "expect1 = np.ones(10)\n",
    "for i in range(10):\n",
    "    expect1[i] = integral(result1[i], ts)"
   ]
  },
  {
   "cell_type": "code",
   "execution_count": 8,
   "metadata": {
    "collapsed": false
   },
   "outputs": [
    {
     "data": {
      "text/plain": [
       "array([-700.79426843, -700.40383101, -700.9605367 , -700.52729571,\n",
       "       -700.53928219, -700.60771555, -700.65756456, -700.48123203,\n",
       "       -700.69806384, -700.83271647])"
      ]
     },
     "execution_count": 8,
     "metadata": {},
     "output_type": "execute_result"
    }
   ],
   "source": [
    "expect1"
   ]
  },
  {
   "cell_type": "markdown",
   "metadata": {},
   "source": [
    "model2"
   ]
  },
  {
   "cell_type": "code",
   "execution_count": 9,
   "metadata": {
    "collapsed": false
   },
   "outputs": [],
   "source": [
    "if __name__ == '__main__':\n",
    "    result2 = p.map(function2, range(m))"
   ]
  },
  {
   "cell_type": "code",
   "execution_count": 10,
   "metadata": {
    "collapsed": true
   },
   "outputs": [],
   "source": [
    "ts = [(i/10)**2 for i in range(11)]\n",
    "\n",
    "expect2 = np.ones(10)\n",
    "for i in range(10):\n",
    "    expect2[i] = integral(result2[i], ts)"
   ]
  },
  {
   "cell_type": "code",
   "execution_count": 11,
   "metadata": {
    "collapsed": false
   },
   "outputs": [
    {
     "data": {
      "text/plain": [
       "array([-700.72181525, -700.53943986, -700.85300765, -700.51260944,\n",
       "       -700.73491173, -700.77328027, -700.77677517, -700.52847042,\n",
       "       -700.88961816, -700.53515884])"
      ]
     },
     "execution_count": 11,
     "metadata": {},
     "output_type": "execute_result"
    }
   ],
   "source": [
    "expect2"
   ]
  },
  {
   "cell_type": "markdown",
   "metadata": {
    "collapsed": true
   },
   "source": [
    "BF21"
   ]
  },
  {
   "cell_type": "code",
   "execution_count": 12,
   "metadata": {
    "collapsed": true
   },
   "outputs": [],
   "source": [
    "bf_21 = []\n",
    "for a,b in zip(expect1, expect2):\n",
    "    bf_21.append(np.exp(b-a))"
   ]
  },
  {
   "cell_type": "code",
   "execution_count": 13,
   "metadata": {
    "collapsed": false
   },
   "outputs": [
    {
     "data": {
      "text/plain": [
       "[1.0751424617129306,\n",
       " 0.87318410799839752,\n",
       " 1.1135232118770031,\n",
       " 1.0147946439821462,\n",
       " 0.82231681815333513,\n",
       " 0.84741501651074747,\n",
       " 0.88762083434111649,\n",
       " 0.95385998185749832,\n",
       " 0.82567476851322552,\n",
       " 1.34656598546509]"
      ]
     },
     "execution_count": 13,
     "metadata": {},
     "output_type": "execute_result"
    }
   ],
   "source": [
    "bf_21"
   ]
  },
  {
   "cell_type": "code",
   "execution_count": null,
   "metadata": {
    "collapsed": true
   },
   "outputs": [],
   "source": []
  }
 ],
 "metadata": {
  "kernelspec": {
   "display_name": "Python 3",
   "language": "python",
   "name": "python3"
  },
  "language_info": {
   "codemirror_mode": {
    "name": "ipython",
    "version": 3
   },
   "file_extension": ".py",
   "mimetype": "text/x-python",
   "name": "python",
   "nbconvert_exporter": "python",
   "pygments_lexer": "ipython3",
   "version": "3.5.1"
  }
 },
 "nbformat": 4,
 "nbformat_minor": 0
}
