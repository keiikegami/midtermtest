{
 "cells": [
  {
   "cell_type": "code",
   "execution_count": 45,
   "metadata": {
    "collapsed": true
   },
   "outputs": [],
   "source": [
    "from scipy.stats import invgamma\n",
    "from scipy.stats import norm\n",
    "from multiprocessing import Pool\n",
    "from datetime import datetime\n",
    "import pandas as pd\n",
    "import numpy as np\n",
    "import matplotlib.pyplot as plt\n",
    "% matplotlib inline"
   ]
  },
  {
   "cell_type": "code",
   "execution_count": 46,
   "metadata": {
    "collapsed": false
   },
   "outputs": [],
   "source": [
    "def integral(estimate, ts):\n",
    "    elements = np.ones(len(ts) - 1)\n",
    "    for i in range(len(ts) - 1):\n",
    "        elements[i] = (ts[i+1] - ts[i])*(estimate[i+1] + estimate[i])/2\n",
    "    return sum(elements)\n",
    "\n",
    "def sum1(beta):\n",
    "    return np.sum(p[:, 0] - beta * p[:, 3])\n",
    "\n",
    "def sum2(alpha):\n",
    "    return np.sum(p[:, 3] * (p[:, 0] - alpha))\n",
    "\n",
    "def sum3(alpha, beta):\n",
    "    l = (p[:, 0] - alpha - beta*p[:, 3])\n",
    "    return np.sum(l * l )\n",
    "\n",
    "def loglike(alpha, beta, sigma):\n",
    "    return N*np.log(1/(np.sqrt(2*np.pi*sigma))) - sum3(alpha, beta) / (2*sigma)\n",
    "\n",
    "def function1(w):\n",
    "    \n",
    "    if w < m:\n",
    "        np.random.seed(datetime.now().microsecond)\n",
    "\n",
    "        for i in range(n+1):\n",
    "            t = ts[i]\n",
    "            \n",
    "            if i == 0:\n",
    "                alphas[0] = 3000\n",
    "                betas[0] = 185\n",
    "                sigmas[0] = 90000\n",
    "\n",
    "            else:\n",
    "                alphas[0] = np.mean(alpha_sample)\n",
    "                betas[0] = np.mean(beta_sample)\n",
    "                sigmas[0] = np.mean(sigma_sample)\n",
    "\n",
    "            for j in range(sample_iter -1):\n",
    "\n",
    "                location_alpha = (sigma_alpha*t*sum1(betas[j]) + sigmas[j]*mu_alpha) / (sigma_alpha * N*t + sigmas[j])\n",
    "                scale_alpha = np.sqrt((sigma_alpha * sigmas[j]) / (sigma_alpha * N*t + sigmas[j]))\n",
    "                alphas[j+1] = norm.rvs(loc = location_alpha, scale = scale_alpha)\n",
    "\n",
    "                location_beta = (sigma_beta * t * sum2(alphas[j+1]) + sigmas[j] * mu_beta) / (sigma_beta *t* ssx + sigmas[j])\n",
    "                scale_beta = np.sqrt((sigmas[j] * sigma_beta) / (sigma_beta *t* ssx + sigmas[j]))\n",
    "                betas[j+1] = norm.rvs(loc = location_beta, scale = scale_beta)\n",
    "\n",
    "                shape = N*t/2 + a\n",
    "                invrate = 2*b / (b*t*sum3(alphas[j+1], betas[j+1]) + 2)\n",
    "                sigmas[j+1] = invgamma.rvs(a = shape, scale = 1/ invrate)\n",
    "\n",
    "            alpha_sample = alphas[burn_in:]\n",
    "            beta_sample = betas[burn_in:len(betas)]\n",
    "            sigma_sample = sigmas[burn_in:len(sigmas)]\n",
    "\n",
    "            box = np.ones(len(alpha_sample))\n",
    "            for k, l in enumerate(alpha_sample):\n",
    "                box[k] = loglike(l, beta_sample[k], sigma_sample[k])\n",
    "\n",
    "            estimates[i] = np.average(box)\n",
    "        \n",
    "        return estimates\n",
    "    \n",
    "def sum4(beta):\n",
    "    return np.sum(p[:, 0] - beta * p[:, 4])\n",
    "\n",
    "def sum5(alpha):\n",
    "    return np.sum(p[:, 4] * (p[:, 0] - alpha))\n",
    "\n",
    "def sum6(alpha, beta):\n",
    "    l = (p[:, 0] - alpha - beta*p[:, 4])\n",
    "    return np.sum(l * l )  \n",
    "\n",
    "def loglike2(alpha, beta, sigma):\n",
    "    return N*np.log(1/(np.sqrt(2*np.pi*sigma))) - sum6(alpha, beta) / (2*sigma)\n",
    "    \n",
    "def function2(w):\n",
    "    if w < m:\n",
    "        np.random.seed(datetime.now().microsecond)\n",
    "\n",
    "        for i in range(n+1):\n",
    "            t = ts[i]\n",
    "            \n",
    "            if i == 0:\n",
    "                gammas[0] = 3000\n",
    "                deltas[0] = 185\n",
    "                taus[0] = 90000\n",
    "\n",
    "            else:\n",
    "                gammas[0] = np.mean(gamma_sample)\n",
    "                deltas[0] = np.mean(delta_sample)\n",
    "                taus[0] = np.mean(tau_sample)\n",
    "\n",
    "            for j in range(sample_iter - 1):\n",
    "\n",
    "                location_alpha = (sigma_alpha*t*sum4(deltas[j]) + taus[j]*mu_alpha) / (sigma_alpha * N*t + taus[j])\n",
    "                scale_alpha = np.sqrt((sigma_alpha * taus[j]) / (sigma_alpha * N*t + taus[j]))\n",
    "                gammas[j+1] = norm.rvs(loc = location_alpha, scale = scale_alpha)\n",
    "\n",
    "                location_beta = (sigma_beta * t * sum5(gammas[j+1]) + taus[j] * mu_beta) / (sigma_beta *t* ssz + taus[j])\n",
    "                scale_beta = np.sqrt((taus[j] * sigma_beta) / (sigma_beta *t* ssz + taus[j]))\n",
    "                deltas[j+1] = norm.rvs(loc = location_beta, scale = scale_beta)\n",
    "\n",
    "                shape = N*t/2 + a\n",
    "                invrate = 2*b / (b*t*sum6(gammas[j+1], deltas[j+1]) + 2)\n",
    "                taus[j+1] = invgamma.rvs(a = shape, scale = 1/ invrate)\n",
    "\n",
    "            gamma_sample = gammas[burn_in:]\n",
    "            delta_sample = deltas[burn_in:len(deltas)]\n",
    "            tau_sample = taus[burn_in:len(taus)]\n",
    "\n",
    "            box2 = np.ones(len(gamma_sample))\n",
    "            for k, l in enumerate(gamma_sample):\n",
    "                box2[k] = loglike2(l, delta_sample[k], tau_sample[k])\n",
    "\n",
    "            estimates[i] = np.average(box2)\n",
    "        \n",
    "        return estimates"
   ]
  },
  {
   "cell_type": "code",
   "execution_count": 47,
   "metadata": {
    "collapsed": false
   },
   "outputs": [],
   "source": [
    "pine = pd.read_table(\"pine.txt\", delim_whitespace = True)\n",
    "p = pine.values\n",
    "pine['ave_x'] = pine['x'] - np.average(p[:, 1])\n",
    "pine['ave_z'] = pine['z'] - np.average(p[:, 2])\n",
    "p = pine.values\n",
    "\n",
    "mu_alpha = 3000\n",
    "sigma_alpha = 10**6\n",
    "mu_beta = 185\n",
    "sigma_beta = 10**4\n",
    "a = 3\n",
    "b = 1/(2*300**2)\n",
    "\n",
    "N = np.shape(p)[0]\n",
    "ssx = np.sum(p[:, 3] * p[:, 3])\n",
    "ssz = np.sum(p[:, 4] * p[:, 4])\n",
    "\n",
    "alphas = np.ones(sample_iter)\n",
    "betas = np.ones(sample_iter)\n",
    "sigmas = np.ones(sample_iter)\n",
    "\n",
    "gammas = np.ones(sample_iter)\n",
    "deltas = np.ones(sample_iter)\n",
    "taus = np.ones(sample_iter)\n",
    "\n",
    "n = 10\n",
    "c = 2\n",
    "ts = [(i/n)**c for i in range(n+1)]\n",
    "estimates = np.ones(n+1)\n",
    "\n",
    "# ここをいじってね。\n",
    "sample_iter = 10000\n",
    "burn_in = 30\n",
    "m = 10\n",
    "core = 2\n"
   ]
  },
  {
   "cell_type": "markdown",
   "metadata": {},
   "source": [
    "収束の確認"
   ]
  },
  {
   "cell_type": "code",
   "execution_count": 48,
   "metadata": {
    "collapsed": true
   },
   "outputs": [],
   "source": [
    "# model 1\n",
    "\n",
    "n = 10\n",
    "c = 2\n",
    "######\n",
    "\n",
    "estimates = np.ones(n+1)\n",
    "ts = np.ones(n+1)\n",
    "\n",
    "\n",
    "t = (1/n)**c\n",
    "\n",
    "\n",
    "alphas = np.ones(sample_iter)\n",
    "betas = np.ones(sample_iter)\n",
    "sigmas = np.ones(sample_iter)\n",
    "\n",
    "\n",
    "alphas[0] = 3000\n",
    "betas[0] = 185\n",
    "sigmas[0] = 90000\n",
    "\n",
    "\n",
    "for j in range(sample_iter -1):\n",
    "\n",
    "    location_alpha = (sigma_alpha*t*sum1(betas[-1]) + sigmas[-1]*mu_alpha) / (sigma_alpha * N*t + sigmas[-1])\n",
    "    scale_alpha = np.sqrt((sigma_alpha * sigmas[-1]) / (sigma_alpha * N*t + sigmas[-1]))\n",
    "    r = norm.rvs(loc = location_alpha, scale = scale_alpha)\n",
    "    alphas[j+1] = r\n",
    "\n",
    "    location_beta = (sigma_beta * t * sum2(alphas[-1]) + sigmas[-1] * mu_beta) / (sigma_beta *t* var*N + sigmas[-1])\n",
    "    scale_beta = np.sqrt((sigmas[-1] * sigma_beta) / (sigma_beta *t* var*N + sigmas[-1]))\n",
    "    q = norm.rvs(loc = location_beta, scale = scale_beta)\n",
    "    betas[j+1] = q\n",
    "\n",
    "    shape = N*t/2 + a\n",
    "    invrate = 2*b / (b*t*sum3(alphas[-1], betas[-1]) + 2)\n",
    "    s = invgamma.rvs(a = shape, scale = 1/ invrate)\n",
    "    sigmas[j+1] = s"
   ]
  },
  {
   "cell_type": "code",
   "execution_count": 49,
   "metadata": {
    "collapsed": false
   },
   "outputs": [
    {
     "data": {
      "text/plain": [
       "<function matplotlib.pyplot.plot>"
      ]
     },
     "execution_count": 49,
     "metadata": {},
     "output_type": "execute_result"
    },
    {
     "data": {
      "image/png": "[encoded data removed]",
      "text/plain": [
       "<matplotlib.figure.Figure at 0x11bfbff98>"
      ]
     },
     "metadata": {},
     "output_type": "display_data"
    }
   ],
   "source": [
    "plt.plot(alphas)\n",
    "plt.plot"
   ]
  },
  {
   "cell_type": "code",
   "execution_count": 50,
   "metadata": {
    "collapsed": false
   },
   "outputs": [
    {
     "data": {
      "text/plain": [
       "[<matplotlib.lines.Line2D at 0x11ce69ac8>]"
      ]
     },
     "execution_count": 50,
     "metadata": {},
     "output_type": "execute_result"
    },
    {
     "data": {
      "image/png": "[encoded data removed]",
      "text/plain": [
       "<matplotlib.figure.Figure at 0x116e53e48>"
      ]
     },
     "metadata": {},
     "output_type": "display_data"
    }
   ],
   "source": [
    "plt.plot(betas)"
   ]
  },
  {
   "cell_type": "code",
   "execution_count": 51,
   "metadata": {
    "collapsed": false
   },
   "outputs": [
    {
     "data": {
      "text/plain": [
       "[<matplotlib.lines.Line2D at 0x11a0b1a58>]"
      ]
     },
     "execution_count": 51,
     "metadata": {},
     "output_type": "execute_result"
    },
    {
     "data": {
      "image/png": "[encoded data removed]",
      "text/plain": [
       "<matplotlib.figure.Figure at 0x11ce8c908>"
      ]
     },
     "metadata": {},
     "output_type": "display_data"
    }
   ],
   "source": [
    "plt.plot( sigmas)"
   ]
  },
  {
   "cell_type": "code",
   "execution_count": 52,
   "metadata": {
    "collapsed": false
   },
   "outputs": [],
   "source": [
    "# model 2\n",
    "\n",
    "n = 10\n",
    "c = 2\n",
    "######\n",
    "\n",
    "estimates = np.ones(n+1)\n",
    "ts = np.ones(n+1)\n",
    "\n",
    "\n",
    "t = (1/n)**c\n",
    "\n",
    "\n",
    "gammas = np.ones(sample_iter)\n",
    "deltas = np.ones(sample_iter)\n",
    "taus = np.ones(sample_iter)\n",
    "\n",
    "\n",
    "gammas[0] = 3000\n",
    "deltas[0] = 185\n",
    "taus[0] = 90000\n",
    "\n",
    "for j in range(sample_iter - 1):\n",
    "\n",
    "    location_alpha = (sigma_alpha*t*sum4(deltas[-1]) + taus[-1]*mu_alpha) / (sigma_alpha * N*t + taus[-1])\n",
    "    scale_alpha = np.sqrt((sigma_alpha * taus[-1]) / (sigma_alpha * N*t + taus[-1]))\n",
    "    r = norm.rvs(loc = location_alpha, scale = scale_alpha)\n",
    "    gammas[j+1] = r\n",
    "\n",
    "    location_beta = (sigma_beta * t * sum5(gammas[-1]) + taus[-1] * mu_beta) / (sigma_beta *t* var2*N + taus[-1])\n",
    "    scale_beta = np.sqrt((taus[-1] * sigma_beta) / (sigma_beta *t* var2*N + taus[-1]))\n",
    "    q = norm.rvs(loc = location_beta, scale = scale_beta)\n",
    "    deltas[j+1] = q\n",
    "\n",
    "    shape = N*t/2 + a\n",
    "    invrate = 2*b / (b*t*sum6(gammas[-1], deltas[-1]) + 2)\n",
    "    s = invgamma.rvs(a = shape, scale = 1/ invrate)\n",
    "    taus[j+1] = s"
   ]
  },
  {
   "cell_type": "code",
   "execution_count": 53,
   "metadata": {
    "collapsed": false
   },
   "outputs": [
    {
     "data": {
      "text/plain": [
       "[<matplotlib.lines.Line2D at 0x108d6a198>]"
      ]
     },
     "execution_count": 53,
     "metadata": {},
     "output_type": "execute_result"
    },
    {
     "data": {
      "image/png": "[encoded data removed]",
      "text/plain": [
       "<matplotlib.figure.Figure at 0x108d3a1d0>"
      ]
     },
     "metadata": {},
     "output_type": "display_data"
    }
   ],
   "source": [
    "plt.plot(gammas)"
   ]
  },
  {
   "cell_type": "code",
   "execution_count": 54,
   "metadata": {
    "collapsed": false
   },
   "outputs": [
    {
     "data": {
      "text/plain": [
       "[<matplotlib.lines.Line2D at 0x108d88668>]"
      ]
     },
     "execution_count": 54,
     "metadata": {},
     "output_type": "execute_result"
    },
    {
     "data": {
      "image/png": "[encoded data removed]",
      "text/plain": [
       "<matplotlib.figure.Figure at 0x108d40ba8>"
      ]
     },
     "metadata": {},
     "output_type": "display_data"
    }
   ],
   "source": [
    "plt.plot(deltas)"
   ]
  },
  {
   "cell_type": "code",
   "execution_count": 55,
   "metadata": {
    "collapsed": false
   },
   "outputs": [
    {
     "data": {
      "text/plain": [
       "[<matplotlib.lines.Line2D at 0x11a37c400>]"
      ]
     },
     "execution_count": 55,
     "metadata": {},
     "output_type": "execute_result"
    },
    {
     "data": {
      "image/png": "[encoded data removed]",
      "text/plain": [
       "<matplotlib.figure.Figure at 0x108da37f0>"
      ]
     },
     "metadata": {},
     "output_type": "display_data"
    }
   ],
   "source": [
    "plt.plot(taus)"
   ]
  },
  {
   "cell_type": "markdown",
   "metadata": {},
   "source": [
    "# computing BF\n",
    "\n",
    "\n",
    "model1 marginal likelihood by power posterior"
   ]
  },
  {
   "cell_type": "code",
   "execution_count": null,
   "metadata": {
    "collapsed": false
   },
   "outputs": [],
   "source": [
    "if __name__ == '__main__':\n",
    "    w = Pool(core) \n",
    "    result1 = w.map(function1, range(m))"
   ]
  },
  {
   "cell_type": "code",
   "execution_count": 41,
   "metadata": {
    "collapsed": false
   },
   "outputs": [
    {
     "data": {
      "text/plain": [
       "[array([-729.30539398, -354.16002793, -333.56743702, -313.57779105,\n",
       "        -308.62096954, -308.00900744, -306.76559049, -305.50959029,\n",
       "        -305.38252705, -305.08649181, -304.84053711]),\n",
       " array([-729.30539398, -354.16002793, -333.56743702, -313.57779105,\n",
       "        -308.62096954, -308.00900744, -306.76559049, -305.50959029,\n",
       "        -305.38252705, -305.08649181, -304.84053711]),\n",
       " array([-734.88515289, -354.39165004, -322.6314644 , -323.99222733,\n",
       "        -310.6943874 , -307.54549063, -306.34954208, -306.1750873 ,\n",
       "        -305.61211767, -304.96230411, -304.53781038]),\n",
       " array([-734.88515289, -354.39165004, -322.6314644 , -323.99222733,\n",
       "        -310.6943874 , -307.54549063, -306.34954208, -306.1750873 ,\n",
       "        -305.61211767, -304.96230411, -304.53781038]),\n",
       " array([-729.82144257, -354.48482228, -315.5490261 , -318.09906184,\n",
       "        -313.0891305 , -311.44118326, -306.7276752 , -305.52518869,\n",
       "        -305.29826782, -305.18396816, -304.89336327]),\n",
       " array([-729.82144257, -354.48482228, -315.5490261 , -318.09906184,\n",
       "        -313.0891305 , -311.44118326, -306.7276752 , -305.52518869,\n",
       "        -305.29826782, -305.18396816, -304.89336327]),\n",
       " array([-732.97772804, -330.05708273, -341.50105304, -315.5224811 ,\n",
       "        -311.32795738, -306.71259739, -306.94645879, -307.74254922,\n",
       "        -305.37449588, -304.98531664, -304.7871163 ]),\n",
       " array([-732.97772804, -330.05708273, -341.50105304, -315.5224811 ,\n",
       "        -311.32795738, -306.71259739, -306.94645879, -307.74254922,\n",
       "        -305.37449588, -304.98531664, -304.7871163 ]),\n",
       " array([-726.43388703, -351.57693561, -324.99486213, -325.82454123,\n",
       "        -311.03128837, -309.08078645, -306.35488859, -308.44899152,\n",
       "        -306.62361772, -304.96521947, -304.53890762]),\n",
       " array([-726.43388703, -351.57693561, -324.99486213, -325.82454123,\n",
       "        -311.03128837, -309.08078645, -306.35488859, -308.44899152,\n",
       "        -306.62361772, -304.96521947, -304.53890762])]"
      ]
     },
     "execution_count": 41,
     "metadata": {},
     "output_type": "execute_result"
    }
   ],
   "source": [
    "result1"
   ]
  },
  {
   "cell_type": "code",
   "execution_count": 42,
   "metadata": {
    "collapsed": false
   },
   "outputs": [],
   "source": [
    "expect1 = np.ones(10)\n",
    "for i in range(10):\n",
    "    expect1[i] = integral(result1[i], ts)"
   ]
  },
  {
   "cell_type": "code",
   "execution_count": 43,
   "metadata": {
    "collapsed": false
   },
   "outputs": [
    {
     "data": {
      "text/plain": [
       "array([-310.69750816, -310.69750816, -311.06585386, -311.06585386,\n",
       "       -310.96451125, -310.96451125, -311.06450194, -311.06450194,\n",
       "       -311.83371683, -311.83371683])"
      ]
     },
     "execution_count": 43,
     "metadata": {},
     "output_type": "execute_result"
    }
   ],
   "source": [
    "expect1"
   ]
  },
  {
   "cell_type": "markdown",
   "metadata": {},
   "source": [
    "model2 marginal likelihood by power posterior"
   ]
  },
  {
   "cell_type": "code",
   "execution_count": 44,
   "metadata": {
    "collapsed": false
   },
   "outputs": [],
   "source": [
    "if __name__ == '__main__':\n",
    "    result2 = w.map(function2, range(m))"
   ]
  },
  {
   "cell_type": "code",
   "execution_count": 34,
   "metadata": {
    "collapsed": true
   },
   "outputs": [],
   "source": [
    "expect2 = np.ones(10)\n",
    "for i in range(10):\n",
    "    expect2[i] = integral(result2[i], ts)"
   ]
  },
  {
   "cell_type": "code",
   "execution_count": 35,
   "metadata": {
    "collapsed": false
   },
   "outputs": [
    {
     "data": {
      "text/plain": [
       "array([-370.79610807, -370.82285276, -370.91023358, -370.81029433,\n",
       "       -370.89355506, -370.79966992, -370.82121729, -370.81175071,\n",
       "       -370.87364834, -370.88498221])"
      ]
     },
     "execution_count": 35,
     "metadata": {},
     "output_type": "execute_result"
    }
   ],
   "source": [
    "expect2"
   ]
  },
  {
   "cell_type": "markdown",
   "metadata": {
    "collapsed": true
   },
   "source": [
    "BF21"
   ]
  },
  {
   "cell_type": "code",
   "execution_count": 36,
   "metadata": {
    "collapsed": true
   },
   "outputs": [],
   "source": [
    "bf_21 = []\n",
    "for a,b in zip(expect1, expect2):\n",
    "    bf_21.append(np.exp(b-a))"
   ]
  },
  {
   "cell_type": "code",
   "execution_count": 37,
   "metadata": {
    "collapsed": false
   },
   "outputs": [
    {
     "data": {
      "text/plain": [
       "[1.3534641002483616,\n",
       " 1.230325843554398,\n",
       " 1.1405230536714417,\n",
       " 1.1695334328080635,\n",
       " 1.1398188429918694,\n",
       " 1.3797054096250714,\n",
       " 1.2258493425854882,\n",
       " 1.2608966991274577,\n",
       " 1.1509356529951738,\n",
       " 1.1061856593771091]"
      ]
     },
     "execution_count": 37,
     "metadata": {},
     "output_type": "execute_result"
    }
   ],
   "source": [
    "bf_21"
   ]
  },
  {
   "cell_type": "code",
   "execution_count": null,
   "metadata": {
    "collapsed": true
   },
   "outputs": [],
   "source": []
  }
 ],
 "metadata": {
  "kernelspec": {
   "display_name": "Python 3",
   "language": "python",
   "name": "python3"
  },
  "language_info": {
   "codemirror_mode": {
    "name": "ipython",
    "version": 3
   },
   "file_extension": ".py",
   "mimetype": "text/x-python",
   "name": "python",
   "nbconvert_exporter": "python",
   "pygments_lexer": "ipython3",
   "version": "3.5.1"
  }
 },
 "nbformat": 4,
 "nbformat_minor": 0
}
