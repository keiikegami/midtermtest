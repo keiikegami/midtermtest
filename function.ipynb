{
 "cells": [
  {
   "cell_type": "code",
   "execution_count": 3,
   "metadata": {
    "collapsed": true
   },
   "outputs": [],
   "source": [
    "from scipy.stats import invgamma\n",
    "from scipy.stats import norm\n",
    "from multiprocessing import Pool\n",
    "from datetime import datetime\n",
    "import pandas as pd\n",
    "import numpy as np\n",
    "import matplotlib.pyplot as plt\n",
    "% matplotlib inline"
   ]
  },
  {
   "cell_type": "code",
   "execution_count": 26,
   "metadata": {
    "collapsed": false
   },
   "outputs": [],
   "source": [
    "def integral(estimate, ts):\n",
    "    elements = np.ones(len(ts) - 1)\n",
    "    for i in range(len(ts) - 1):\n",
    "        elements[i] = (ts[i+1] - ts[i])*(estimate[i+1] + estimate[i])/2\n",
    "    return sum(elements)\n",
    "\n",
    "def sum1(beta):\n",
    "    elements = np.ones(N)\n",
    "    for i in range(N):\n",
    "        elements[i] = p[i, 0] - beta * (p[i, 1] - ave_x)\n",
    "    return np.sum(elements)\n",
    "\n",
    "def sum2(alpha):\n",
    "    elements = np.ones(N)\n",
    "    for i in range(N):\n",
    "        elements[i] = (p[i, 1] - ave_x)*(p[i, 0] - alpha)\n",
    "    return np.sum(elements)\n",
    "\n",
    "def sum3(alpha, beta):\n",
    "    elements = np.ones(N)\n",
    "    for i in range(N):\n",
    "        elements[i] = (p[i, 0] - alpha - beta*(p[i, 1] - ave_x))**2\n",
    "    return np.sum(elements)\n",
    "\n",
    "def loglike(alpha, beta, sigma):\n",
    "    return N*np.log(1/(sigma*np.sqrt(2*np.pi))) - sum3(alpha, beta) / (2*sigma)\n",
    "\n",
    "def function1(w):\n",
    "    if w < 100:\n",
    "        np.random.seed(datetime.now().microsecond)\n",
    "        \n",
    "        ###### ここを変えてね！\n",
    "        n = 10\n",
    "        c = 2\n",
    "        ######\n",
    "        \n",
    "        estimates = np.ones(n+1)\n",
    "        ts = np.ones(n+1)\n",
    "\n",
    "        for i in range(n+1):\n",
    "            t = (i/n)**c\n",
    "            ts[i] = t\n",
    "\n",
    "            if i == 0:\n",
    "                alphas = [3000]\n",
    "                betas = [185]\n",
    "                sigmas = [90000]\n",
    "\n",
    "            else:\n",
    "                alphas = [np.mean(alpha_sample).item()]\n",
    "                betas = [np.mean(beta_sample).item()]\n",
    "                sigmas = [np.mean(sigma_sample).item()]\n",
    "\n",
    "            for j in range(sample_iter):\n",
    "\n",
    "                location_alpha = (sigma_alpha*t*sum1(betas[-1]) + sigmas[-1]*mu_alpha) / (sigma_alpha * N*t + sigmas[-1])\n",
    "                scale_alpha = np.sqrt((sigma_alpha * sigmas[-1]) / (sigma_alpha * N*t + sigmas[-1]))\n",
    "                r = norm.rvs(loc = location_alpha, scale = scale_alpha)\n",
    "                alphas.append(r.item())\n",
    "\n",
    "                location_beta = (sigma_beta * t * sum2(alphas[-1]) + sigmas[-1] * mu_beta) / (sigma_beta * var*N + sigmas[-1])\n",
    "                scale_beta = (sigmas[-1] * sigma_beta) / (sigma_beta * var*N + sigmas[-1])\n",
    "                q = norm.rvs(loc = location_beta, scale = scale_beta)\n",
    "                betas.append(q.item())\n",
    "\n",
    "                shape = N*t/2 + a\n",
    "                invrate = 2*b / (b*t*sum3(alphas[-1], betas[-1]) + 2)\n",
    "                s = invgamma.rvs(a = shape, scale = 1/ invrate)\n",
    "                sigmas.append(s.item())\n",
    "\n",
    "            alpha_sample = alphas[burn_in:]\n",
    "            beta_sample = betas[burn_in:len(betas)]\n",
    "            sigma_sample = sigmas[burn_in:len(sigmas)]\n",
    "\n",
    "            box = np.ones(len(alpha_sample))\n",
    "            for k, l in enumerate(alpha_sample):\n",
    "                box[k] = loglike(l, beta_sample[k], sigma_sample[k])\n",
    "\n",
    "            estimates[i] = np.average(box)\n",
    "        \n",
    "        return estimates\n",
    "    \n",
    "def sum4(beta):\n",
    "    elements = np.ones(N)\n",
    "    for i in range(N):\n",
    "        elements[i] = p[i, 0] - beta * (p[i, 2] - ave_z)\n",
    "    return np.sum(elements)\n",
    "\n",
    "def sum5(alpha):\n",
    "    elements = np.ones(N)\n",
    "    for i in range(N):\n",
    "        elements[i] = (p[i, 2] - ave_z)*(p[i, 0] - alpha)\n",
    "    return np.sum(elements)\n",
    "\n",
    "def sum6(alpha, beta):\n",
    "    elements = np.ones(N)\n",
    "    for i in range(N):\n",
    "        elements[i] = (p[i, 0] - alpha - beta*(p[i, 2] - ave_z))**2\n",
    "    return np.sum(elements)    \n",
    "    \n",
    "def function2(w):\n",
    "    if w < 100:\n",
    "        np.random.seed(datetime.now().microsecond)\n",
    "        \n",
    "        ###### ここを変えてね！\n",
    "        n = 10\n",
    "        c = 2\n",
    "        ######\n",
    "        \n",
    "        estimates = np.ones(n+1)\n",
    "        ts = np.ones(n+1)\n",
    "\n",
    "        for i in range(n+1):\n",
    "            t = (i/n)**c\n",
    "            ts[i] = t\n",
    "\n",
    "            if i == 0:\n",
    "                alphas = [3000]\n",
    "                betas = [185]\n",
    "                sigmas = [90000]\n",
    "\n",
    "            else:\n",
    "                alphas = [np.mean(alpha_sample).item()]\n",
    "                betas = [np.mean(beta_sample).item()]\n",
    "                sigmas = [np.mean(sigma_sample).item()]\n",
    "\n",
    "            for j in range(sample_iter):\n",
    "\n",
    "                location_alpha = (sigma_alpha*t*sum4(betas[-1]) + sigmas[-1]*mu_alpha) / (sigma_alpha * N*t + sigmas[-1])\n",
    "                scale_alpha = np.sqrt((sigma_alpha * sigmas[-1]) / (sigma_alpha * N*t + sigmas[-1]))\n",
    "                r = norm.rvs(loc = location_alpha, scale = scale_alpha)\n",
    "                alphas.append(r.item())\n",
    "\n",
    "                location_beta = (sigma_beta * t * sum5(alphas[-1]) + sigmas[-1] * mu_beta) / (sigma_beta * var*N + sigmas[-1])\n",
    "                scale_beta = (sigmas[-1] * sigma_beta) / (sigma_beta * var2*N + sigmas[-1])\n",
    "                q = norm.rvs(loc = location_beta, scale = scale_beta)\n",
    "                betas.append(q.item())\n",
    "\n",
    "                shape = N*t/2 + a\n",
    "                invrate = 2*b / (b*t*sum6(alphas[-1], betas[-1]) + 2)\n",
    "                s = invgamma.rvs(a = shape, scale = 1/ invrate)\n",
    "                sigmas.append(s.item())\n",
    "\n",
    "            alpha_sample = alphas[burn_in:]\n",
    "            beta_sample = betas[burn_in:len(betas)]\n",
    "            sigma_sample = sigmas[burn_in:len(sigmas)]\n",
    "\n",
    "            box = np.ones(len(alpha_sample))\n",
    "            for k, l in enumerate(alpha_sample):\n",
    "                box[k] = loglike(l, beta_sample[k], sigma_sample[k])\n",
    "\n",
    "            estimates[i] = np.average(box)\n",
    "        \n",
    "        return estimates"
   ]
  },
  {
   "cell_type": "code",
   "execution_count": 27,
   "metadata": {
    "collapsed": true
   },
   "outputs": [],
   "source": [
    "pine = pd.read_table(\"pine.txt\", delim_whitespace = True)\n",
    "p = pine.values\n",
    "ave_x = np.average(p[:, 1]).item()\n",
    "ave_z = np.average(p[:, 2]).item()\n",
    "\n",
    "mu_alpha = 3000\n",
    "sigma_alpha = 10**6\n",
    "mu_beta = 185\n",
    "sigma_beta = 10**4\n",
    "a = 3\n",
    "b = 1/(2*300**2)\n",
    "\n",
    "N = np.shape(p)[0]\n",
    "var = np.var(p[:, 1])\n",
    "var2 = np.var(p[:, 2])\n",
    "\n",
    "# ここをいじってね。\n",
    "sample_iter = 1000\n",
    "burn_in = 30\n",
    "m = 10\n",
    "core = 2\n"
   ]
  },
  {
   "cell_type": "markdown",
   "metadata": {},
   "source": [
    "model1"
   ]
  },
  {
   "cell_type": "code",
   "execution_count": 28,
   "metadata": {
    "collapsed": false
   },
   "outputs": [],
   "source": [
    "if __name__ == '__main__':\n",
    "    p = Pool(core) \n",
    "    result1 = p.map(function1, range(m))"
   ]
  },
  {
   "cell_type": "code",
   "execution_count": 29,
   "metadata": {
    "collapsed": false
   },
   "outputs": [
    {
     "data": {
      "text/plain": [
       "[array([-1268.64247889,  -830.43490917,  -876.08453008,  -866.02191142,\n",
       "         -876.76172233,  -879.56646807,  -882.82065088,  -881.85613945,\n",
       "         -886.21681448,  -891.764645  ,  -888.66497781]),\n",
       " array([-1369.77911566,  -870.98099749,  -863.87465302,  -875.65223752,\n",
       "         -878.18911021,  -890.49813316,  -882.20663449,  -879.11908382,\n",
       "         -891.26296485,  -887.37347975,  -889.00138272]),\n",
       " array([-1231.82279773,  -853.21180883,  -868.24060508,  -871.91765082,\n",
       "         -878.2708904 ,  -877.48258844,  -890.48136865,  -892.84076522,\n",
       "         -887.68224684,  -885.05146735,  -889.76779165]),\n",
       " array([-1289.96025611,  -828.89373112,  -869.4818727 ,  -887.51227067,\n",
       "         -878.03339216,  -880.09948473,  -886.22549877,  -891.38383275,\n",
       "         -881.06314293,  -893.14514278,  -892.22730274]),\n",
       " array([-1226.86586103,  -819.80834858,  -870.18437125,  -864.49060832,\n",
       "         -877.58963502,  -885.10683462,  -884.10103017,  -879.05116128,\n",
       "         -884.13987344,  -886.59543844,  -891.20277802]),\n",
       " array([-1221.16635201,  -852.23662244,  -887.8273119 ,  -876.84171228,\n",
       "         -881.4973072 ,  -877.1149394 ,  -887.17695543,  -878.41251824,\n",
       "         -886.22456534,  -881.67800363,  -885.48482856]),\n",
       " array([-1286.03989716,  -824.67144326,  -886.34357909,  -867.59927977,\n",
       "         -878.14478086,  -877.7227696 ,  -885.61270627,  -879.23783937,\n",
       "         -886.55599947,  -889.06480132,  -895.30581072]),\n",
       " array([-1214.08671203,  -836.05279863,  -863.64282072,  -877.97793488,\n",
       "         -882.32657092,  -877.7530825 ,  -882.49966307,  -887.57855459,\n",
       "         -885.73168835,  -879.38755252,  -889.94518261]),\n",
       " array([-1306.65611943,  -856.74541143,  -863.30107062,  -868.3990196 ,\n",
       "         -879.03625555,  -894.89192532,  -888.86343154,  -880.16534429,\n",
       "         -881.81056136,  -888.00298732,  -883.79854425]),\n",
       " array([-1224.8559635 ,  -838.10621075,  -880.41983806,  -877.40918531,\n",
       "         -874.16922124,  -882.31725022,  -884.90744994,  -894.10751714,\n",
       "         -889.36433775,  -890.90359021,  -887.66308868])]"
      ]
     },
     "execution_count": 29,
     "metadata": {},
     "output_type": "execute_result"
    }
   ],
   "source": [
    "result1"
   ]
  },
  {
   "cell_type": "code",
   "execution_count": 30,
   "metadata": {
    "collapsed": false
   },
   "outputs": [],
   "source": [
    "ts = [(i/10)**2 for i in range(11)]\n",
    "\n",
    "expect1 = np.ones(10)\n",
    "for i in range(10):\n",
    "    expect1[i] = integral(result1[i], ts)"
   ]
  },
  {
   "cell_type": "code",
   "execution_count": 31,
   "metadata": {
    "collapsed": false
   },
   "outputs": [
    {
     "data": {
      "text/plain": [
       "array([-884.188028  , -886.39347799, -885.99979868, -886.94892566,\n",
       "       -882.79827067, -883.56345496, -884.75868616, -883.08989153,\n",
       "       -884.89411503, -887.26589149])"
      ]
     },
     "execution_count": 31,
     "metadata": {},
     "output_type": "execute_result"
    }
   ],
   "source": [
    "expect1"
   ]
  },
  {
   "cell_type": "markdown",
   "metadata": {},
   "source": [
    "model2"
   ]
  },
  {
   "cell_type": "code",
   "execution_count": 32,
   "metadata": {
    "collapsed": false
   },
   "outputs": [],
   "source": [
    "if __name__ == '__main__':\n",
    "    result2 = p.map(function2, range(m))"
   ]
  },
  {
   "cell_type": "code",
   "execution_count": 33,
   "metadata": {
    "collapsed": true
   },
   "outputs": [],
   "source": [
    "ts = [(i/10)**2 for i in range(11)]\n",
    "\n",
    "expect2 = np.ones(10)\n",
    "for i in range(10):\n",
    "    expect2[i] = integral(result2[i], ts)"
   ]
  },
  {
   "cell_type": "code",
   "execution_count": 34,
   "metadata": {
    "collapsed": false
   },
   "outputs": [
    {
     "data": {
      "text/plain": [
       "array([-884.16981721, -883.15487573, -880.10643773, -888.0550601 ,\n",
       "       -882.85498881, -881.53405693, -881.25910846, -879.96780886,\n",
       "       -880.71796384, -882.66026067])"
      ]
     },
     "execution_count": 34,
     "metadata": {},
     "output_type": "execute_result"
    }
   ],
   "source": [
    "expect2"
   ]
  },
  {
   "cell_type": "markdown",
   "metadata": {
    "collapsed": true
   },
   "source": [
    "BF21"
   ]
  },
  {
   "cell_type": "code",
   "execution_count": 35,
   "metadata": {
    "collapsed": true
   },
   "outputs": [],
   "source": [
    "bf_21 = []\n",
    "for a,b in zip(expect1, expect2):\n",
    "    bf_21.append(np.exp(b-a))"
   ]
  },
  {
   "cell_type": "code",
   "execution_count": 36,
   "metadata": {
    "collapsed": false
   },
   "outputs": [
    {
     "data": {
      "text/plain": [
       "[1.0183776157528717,\n",
       " 25.498057362920129,\n",
       " 362.62199410646258,\n",
       " 0.33083535789278612,\n",
       " 0.94486034842332289,\n",
       " 7.6095043086417604,\n",
       " 33.101470302187131,\n",
       " 22.693593743229702,\n",
       " 65.114755769604017,\n",
       " 100.04607451802922]"
      ]
     },
     "execution_count": 36,
     "metadata": {},
     "output_type": "execute_result"
    }
   ],
   "source": [
    "bf_21"
   ]
  }
 ],
 "metadata": {
  "kernelspec": {
   "display_name": "Python 3",
   "language": "python",
   "name": "python3"
  },
  "language_info": {
   "codemirror_mode": {
    "name": "ipython",
    "version": 3
   },
   "file_extension": ".py",
   "mimetype": "text/x-python",
   "name": "python",
   "nbconvert_exporter": "python",
   "pygments_lexer": "ipython3",
   "version": "3.5.1"
  }
 },
 "nbformat": 4,
 "nbformat_minor": 0
}
