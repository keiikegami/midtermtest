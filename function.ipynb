{
 "cells": [
  {
   "cell_type": "code",
   "execution_count": 8,
   "metadata": {
    "collapsed": true
   },
   "outputs": [],
   "source": [
    "% matplotlib inline\n",
    "from scipy.stats import invgamma\n",
    "from scipy.stats import norm\n",
    "from multiprocessing import Pool\n",
    "from datetime import datetime\n",
    "import pandas as pd\n",
    "import numpy as np\n",
    "import matplotlib.pyplot as plt"
   ]
  },
  {
   "cell_type": "code",
   "execution_count": 9,
   "metadata": {
    "collapsed": false
   },
   "outputs": [],
   "source": [
    "def integral(estimate, ts):\n",
    "    elements = np.ones(len(ts) - 1)\n",
    "    for i in range(len(ts) - 1):\n",
    "        elements[i] = (ts[i+1] - ts[i])*(estimate[i+1] + estimate[i])/2\n",
    "    return sum(elements)\n",
    "\n",
    "def sum1(beta):\n",
    "    return np.sum(p[:, 0] - beta * p[:, 3])\n",
    "\n",
    "def sum2(alpha):\n",
    "    return np.sum(p[:, 3] * (p[:, 0] - alpha))\n",
    "\n",
    "def sum3(alpha, beta):\n",
    "    l = (p[:, 0] - alpha - beta*p[:, 3])\n",
    "    return np.sum(l * l )\n",
    "\n",
    "def loglike(alpha, beta, sigma):\n",
    "    return N*np.log(1/(np.sqrt(2*np.pi*sigma))) - sum3(alpha, beta) / (2*sigma)\n",
    "\n",
    "def function1(u):\n",
    "    \n",
    "    if u < m:\n",
    "        r = np.random.RandomState(u)\n",
    "\n",
    "        for i in range(n+1):\n",
    "            t = ts[i]\n",
    "            \n",
    "            if i == 0:\n",
    "                alphas[0] = 3000\n",
    "                betas[0] = 185\n",
    "                sigmas[0] = 90000\n",
    "\n",
    "            else:\n",
    "                alphas[0] = np.mean(alpha_sample)\n",
    "                betas[0] = np.mean(beta_sample)\n",
    "                sigmas[0] = np.mean(sigma_sample)\n",
    "\n",
    "            for j in range(sample_iter -1):\n",
    "\n",
    "                location_alpha = (sigma_alpha*t*sum1(betas[j]) + sigmas[j]*mu_alpha) / (sigma_alpha * N*t + sigmas[j])\n",
    "                scale_alpha = np.sqrt((sigma_alpha * sigmas[j]) / (sigma_alpha * N*t + sigmas[j]))\n",
    "                alphas[j+1] = r.normal(loc = location_alpha, scale = scale_alpha)\n",
    "\n",
    "                location_beta = (sigma_beta * t * sum2(alphas[j+1]) + sigmas[j] * mu_beta) / (sigma_beta *t* ssx + sigmas[j])\n",
    "                scale_beta = np.sqrt((sigmas[j] * sigma_beta) / (sigma_beta *t* ssx + sigmas[j]))\n",
    "                betas[j+1] = r.normal(loc = location_beta, scale = scale_beta)\n",
    "\n",
    "                shape = N*t/2 + a\n",
    "                invrate = 2*b / (b*t*sum3(alphas[j+1], betas[j+1]) + 2)\n",
    "                sigmas[j+1] = invgamma.rvs(a = shape, scale = 1/ invrate, random_state = r)\n",
    "\n",
    "            alpha_sample = alphas[burn_in:]\n",
    "            beta_sample = betas[burn_in:len(betas)]\n",
    "            sigma_sample = sigmas[burn_in:len(sigmas)]\n",
    "\n",
    "            box = np.ones(len(alpha_sample))\n",
    "            for k, l in enumerate(alpha_sample):\n",
    "                box[k] = loglike(l, beta_sample[k], sigma_sample[k])\n",
    "                \n",
    "            estimates[i] = np.average(box)\n",
    "        \n",
    "    print(estimates)\n",
    "    return estimates\n",
    "    \n",
    "def sum4(beta):\n",
    "    return np.sum(p[:, 0] - beta * p[:, 4])\n",
    "\n",
    "def sum5(alpha):\n",
    "    return np.sum(p[:, 4] * (p[:, 0] - alpha))\n",
    "\n",
    "def sum6(alpha, beta):\n",
    "    l = (p[:, 0] - alpha - beta*p[:, 4])\n",
    "    return np.sum(l * l )  \n",
    "\n",
    "def loglike2(alpha, beta, sigma):\n",
    "    return N*np.log(1/(np.sqrt(2*np.pi*sigma))) - sum6(alpha, beta) / (2*sigma)\n",
    "    \n",
    "def function2(w):\n",
    "    if w < m:\n",
    "        r = np.random.RandomState(w)\n",
    "\n",
    "        for i in range(n+1):\n",
    "            t = ts[i]\n",
    "            \n",
    "            if i == 0:\n",
    "                gammas[0] = 3000\n",
    "                deltas[0] = 185\n",
    "                taus[0] = 90000\n",
    "\n",
    "            else:\n",
    "                gammas[0] = np.mean(gamma_sample)\n",
    "                deltas[0] = np.mean(delta_sample)\n",
    "                taus[0] = np.mean(tau_sample)\n",
    "\n",
    "            for j in range(sample_iter - 1):\n",
    "\n",
    "                location_alpha = (sigma_alpha*t*sum4(deltas[j]) + taus[j]*mu_alpha) / (sigma_alpha * N*t + taus[j])\n",
    "                scale_alpha = np.sqrt((sigma_alpha * taus[j]) / (sigma_alpha * N*t + taus[j]))\n",
    "                gammas[j+1] = r.normal(loc = location_alpha, scale = scale_alpha)\n",
    "\n",
    "                location_beta = (sigma_beta * t * sum5(gammas[j+1]) + taus[j] * mu_beta) / (sigma_beta *t* ssz + taus[j])\n",
    "                scale_beta = np.sqrt((taus[j] * sigma_beta) / (sigma_beta *t* ssz + taus[j]))\n",
    "                deltas[j+1] = r.normal(loc = location_beta, scale = scale_beta)\n",
    "\n",
    "                shape = N*t/2 + a\n",
    "                invrate = 2*b / (b*t*sum6(gammas[j+1], deltas[j+1]) + 2)\n",
    "                taus[j+1] = invgamma.rvs(a = shape, scale = 1/ invrate, random_state = r)\n",
    "\n",
    "            gamma_sample = gammas[burn_in:]\n",
    "            delta_sample = deltas[burn_in:len(deltas)]\n",
    "            tau_sample = taus[burn_in:len(taus)]\n",
    "\n",
    "            box2 = np.ones(len(gamma_sample))\n",
    "            for k, l in enumerate(gamma_sample):\n",
    "                box2[k] = loglike2(l, delta_sample[k], tau_sample[k])\n",
    "\n",
    "            estimates[i] = np.average(box2)\n",
    "        \n",
    "    return estimates"
   ]
  },
  {
   "cell_type": "code",
   "execution_count": 10,
   "metadata": {
    "collapsed": false
   },
   "outputs": [],
   "source": [
    "pine = pd.read_table(\"pine.txt\", delim_whitespace = True)\n",
    "p = pine.values\n",
    "pine['ave_x'] = pine['x'] - np.average(p[:, 1])\n",
    "pine['ave_z'] = pine['z'] - np.average(p[:, 2])\n",
    "p = pine.values\n",
    "\n",
    "mu_alpha = 3000\n",
    "sigma_alpha = 10**6\n",
    "mu_beta = 185\n",
    "sigma_beta = 10**4\n",
    "a = 3\n",
    "b = 1/(2*300**2)\n",
    "\n",
    "N = np.shape(p)[0]\n",
    "ssx = np.sum(p[:, 3] * p[:, 3])\n",
    "ssz = np.sum(p[:, 4] * p[:, 4])\n",
    "\n",
    "n = 10\n",
    "c = 2\n",
    "ts = [(i/n)**c for i in range(n+1)]\n",
    "estimates = np.ones(n+1)\n",
    "\n",
    "####ここをいじってね。\n",
    "sample_iter = 1000\n",
    "burn_in = 30\n",
    "m = 10\n",
    "core = 2\n",
    "####\n",
    "\n",
    "alphas = np.ones(sample_iter)\n",
    "betas = np.ones(sample_iter)\n",
    "sigmas = np.ones(sample_iter)\n",
    "\n",
    "gammas = np.ones(sample_iter)\n",
    "deltas = np.ones(sample_iter)\n",
    "taus = np.ones(sample_iter)"
   ]
  },
  {
   "cell_type": "markdown",
   "metadata": {},
   "source": [
    "# computing BF\n",
    "\n",
    "\n",
    "model1 marginal likelihood by power posterior"
   ]
  },
  {
   "cell_type": "code",
   "execution_count": 11,
   "metadata": {
    "collapsed": false
   },
   "outputs": [
    {
     "name": "stdout",
     "output_type": "stream",
     "text": [
      "[-695.33823917 -370.12493288 -328.26221541 -316.502299   -311.41553437\n",
      " -308.6985797  -307.17683175 -306.30102149 -305.5004337  -305.03059833\n",
      " -304.75798911]\n",
      "[-741.51064934 -370.32967921 -327.84678002 -316.51460247 -311.40338099\n",
      " -308.86463135 -307.21155062 -306.20755042 -305.55797757 -305.06356073\n",
      " -304.76888185]\n",
      "[-701.70657175 -371.81771002 -328.58368786 -316.28881041 -311.23550223\n",
      " -308.86842828 -307.05001788 -306.13066076 -305.5014211  -305.09991334\n",
      " -304.76038663]\n",
      "[-683.1822422  -372.0624744  -327.67031172 -315.86350085 -311.04499678\n",
      " -308.57135623 -307.23815994 -306.11069065 -305.56819714 -305.04013095\n",
      " -304.70037153]\n",
      "[-750.05228524 -373.47945842 -327.84785808 -316.01345338 -311.55321241\n",
      " -308.41757442 -307.19546252 -306.18667582 -305.4432305  -305.08424199\n",
      " -304.71769705][-661.59282928 -373.27664552 -329.00749934 -315.88024083 -311.46138153\n",
      " -308.51769757 -307.1766974  -306.0551735  -305.56852552 -305.10246157\n",
      " -304.78584954]\n",
      "\n",
      "[-757.50620989 -371.24808085 -327.21328954 -316.33122771 -310.96334787\n",
      " -308.48525039 -307.13394713 -306.15452103 -305.5481172  -305.07154749\n",
      " -304.80352469]\n",
      "[-710.81623026 -370.72662002 -328.64042008 -316.21778264 -311.50331799\n",
      " -308.75339189 -307.11191967 -306.17151279 -305.49030224 -304.99074442\n",
      " -304.77871922]\n",
      "[-733.67219857 -376.3496885  -327.09757627 -316.72655094 -311.13344592\n",
      " -308.65829826 -307.11891735 -306.17732316 -305.56656742 -305.11312128\n",
      " -304.74855154]\n",
      "[-702.86206948 -373.20420715 -328.77992555 -316.2457501  -311.36139717\n",
      " -308.7182965  -307.10857076 -306.26265301 -305.52683712 -305.08968267\n",
      " -304.70037521]\n"
     ]
    }
   ],
   "source": [
    "result1 = Pool().map(function1, range(m))"
   ]
  },
  {
   "cell_type": "code",
   "execution_count": 12,
   "metadata": {
    "collapsed": false
   },
   "outputs": [
    {
     "data": {
      "text/plain": [
       "[array([-683.1822422 , -372.0624744 , -327.67031172, -315.86350085,\n",
       "        -311.04499678, -308.57135623, -307.23815994, -306.11069065,\n",
       "        -305.56819714, -305.04013095, -304.70037153]),\n",
       " array([-695.33823917, -370.12493288, -328.26221541, -316.502299  ,\n",
       "        -311.41553437, -308.6985797 , -307.17683175, -306.30102149,\n",
       "        -305.5004337 , -305.03059833, -304.75798911]),\n",
       " array([-741.51064934, -370.32967921, -327.84678002, -316.51460247,\n",
       "        -311.40338099, -308.86463135, -307.21155062, -306.20755042,\n",
       "        -305.55797757, -305.06356073, -304.76888185]),\n",
       " array([-701.70657175, -371.81771002, -328.58368786, -316.28881041,\n",
       "        -311.23550223, -308.86842828, -307.05001788, -306.13066076,\n",
       "        -305.5014211 , -305.09991334, -304.76038663]),\n",
       " array([-661.59282928, -373.27664552, -329.00749934, -315.88024083,\n",
       "        -311.46138153, -308.51769757, -307.1766974 , -306.0551735 ,\n",
       "        -305.56852552, -305.10246157, -304.78584954]),\n",
       " array([-750.05228524, -373.47945842, -327.84785808, -316.01345338,\n",
       "        -311.55321241, -308.41757442, -307.19546252, -306.18667582,\n",
       "        -305.4432305 , -305.08424199, -304.71769705]),\n",
       " array([-710.81623026, -370.72662002, -328.64042008, -316.21778264,\n",
       "        -311.50331799, -308.75339189, -307.11191967, -306.17151279,\n",
       "        -305.49030224, -304.99074442, -304.77871922]),\n",
       " array([-757.50620989, -371.24808085, -327.21328954, -316.33122771,\n",
       "        -310.96334787, -308.48525039, -307.13394713, -306.15452103,\n",
       "        -305.5481172 , -305.07154749, -304.80352469]),\n",
       " array([-733.67219857, -376.3496885 , -327.09757627, -316.72655094,\n",
       "        -311.13344592, -308.65829826, -307.11891735, -306.17732316,\n",
       "        -305.56656742, -305.11312128, -304.74855154]),\n",
       " array([-702.86206948, -373.20420715, -328.77992555, -316.2457501 ,\n",
       "        -311.36139717, -308.7182965 , -307.10857076, -306.26265301,\n",
       "        -305.52683712, -305.08968267, -304.70037521])]"
      ]
     },
     "execution_count": 12,
     "metadata": {},
     "output_type": "execute_result"
    }
   ],
   "source": [
    "result1"
   ]
  },
  {
   "cell_type": "code",
   "execution_count": 13,
   "metadata": {
    "collapsed": false
   },
   "outputs": [],
   "source": [
    "expect1 = np.ones(10)\n",
    "for i in range(10):\n",
    "    expect1[i] = integral(result1[i], ts)"
   ]
  },
  {
   "cell_type": "code",
   "execution_count": 14,
   "metadata": {
    "collapsed": false
   },
   "outputs": [
    {
     "data": {
      "text/plain": [
       "array([-311.12526488, -311.263866  , -311.50583205, -311.30598936,\n",
       "       -311.12828261, -311.52443833, -311.33110477, -311.48110953,\n",
       "       -311.52057671, -311.36185032])"
      ]
     },
     "execution_count": 14,
     "metadata": {},
     "output_type": "execute_result"
    }
   ],
   "source": [
    "expect1"
   ]
  },
  {
   "cell_type": "markdown",
   "metadata": {},
   "source": [
    "model2 marginal likelihood by power posterior"
   ]
  },
  {
   "cell_type": "code",
   "execution_count": 15,
   "metadata": {
    "collapsed": false
   },
   "outputs": [],
   "source": [
    "result2 = Pool().map(function2, range(m))"
   ]
  },
  {
   "cell_type": "code",
   "execution_count": 16,
   "metadata": {
    "collapsed": false
   },
   "outputs": [
    {
     "data": {
      "text/plain": [
       "[array([-674.69827923, -363.58731507, -319.23566903, -307.38039769,\n",
       "        -302.56250226, -300.08441022, -298.72689154, -297.57703059,\n",
       "        -297.06319305, -296.51749186, -296.17703802]),\n",
       " array([-687.16164872, -361.80931395, -320.02927451, -308.19658969,\n",
       "        -302.96242482, -300.26203278, -298.67188541, -297.78462988,\n",
       "        -296.97936519, -296.49591046, -296.22713534]),\n",
       " array([-733.29887937, -361.95142827, -319.17635897, -308.04096642,\n",
       "        -302.90473819, -300.40217785, -298.74018469, -297.71932227,\n",
       "        -297.04302104, -296.5357745 , -296.24692049]),\n",
       " array([-694.08435972, -363.57697916, -320.1518423 , -307.80486715,\n",
       "        -302.77646885, -300.3856335 , -298.51659472, -297.62170028,\n",
       "        -296.97860027, -296.59612894, -296.22967932]),\n",
       " array([-653.38290857, -364.98184872, -320.596728  , -307.47506493,\n",
       "        -302.92916499, -300.01489302, -298.69346617, -297.52163981,\n",
       "        -297.03849854, -296.58263717, -296.27306047]),\n",
       " array([-742.52101025, -365.32447072, -319.5633122 , -307.67811788,\n",
       "        -303.25817992, -299.94625082, -298.672463  , -297.67328668,\n",
       "        -296.93636282, -296.57180746, -296.20013033]),\n",
       " array([-702.61565243, -362.07123146, -320.23273281, -307.81286823,\n",
       "        -303.03076395, -300.28437038, -298.58371755, -297.64918626,\n",
       "        -296.96488864, -296.46003083, -296.25570779]),\n",
       " array([-749.51401303, -362.60906315, -318.9274166 , -307.97715607,\n",
       "        -302.46352031, -300.00300935, -298.5932668 , -297.62773413,\n",
       "        -297.01545261, -296.55134729, -296.27911835]),\n",
       " array([-725.95248257, -367.60443597, -318.94012903, -308.30844425,\n",
       "        -302.63852088, -300.16730867, -298.60526423, -297.66184487,\n",
       "        -297.04343941, -296.58644936, -296.22156911]),\n",
       " array([-695.15277477, -364.48625923, -320.55864908, -307.82849606,\n",
       "        -302.98416939, -300.23362362, -298.60350191, -297.74034296,\n",
       "        -296.99591162, -296.56333288, -296.17558701])]"
      ]
     },
     "execution_count": 16,
     "metadata": {},
     "output_type": "execute_result"
    }
   ],
   "source": [
    "result2"
   ]
  },
  {
   "cell_type": "code",
   "execution_count": 17,
   "metadata": {
    "collapsed": true
   },
   "outputs": [],
   "source": [
    "expect2 = np.ones(10)\n",
    "for i in range(10):\n",
    "    expect2[i] = integral(result2[i], ts)"
   ]
  },
  {
   "cell_type": "code",
   "execution_count": 18,
   "metadata": {
    "collapsed": false
   },
   "outputs": [
    {
     "data": {
      "text/plain": [
       "array([-302.61901882, -302.78617275, -303.00393965, -302.81173615,\n",
       "       -302.62796775, -303.06430497, -302.82589461, -302.98016589,\n",
       "       -303.02462573, -302.87313549])"
      ]
     },
     "execution_count": 18,
     "metadata": {},
     "output_type": "execute_result"
    }
   ],
   "source": [
    "expect2"
   ]
  },
  {
   "cell_type": "markdown",
   "metadata": {
    "collapsed": true
   },
   "source": [
    "BF21"
   ]
  },
  {
   "cell_type": "code",
   "execution_count": 19,
   "metadata": {
    "collapsed": true
   },
   "outputs": [],
   "source": [
    "bf_21 = []\n",
    "for a,b in zip(expect1, expect2):\n",
    "    bf_21.append(np.exp(b-a))"
   ]
  },
  {
   "cell_type": "code",
   "execution_count": 20,
   "metadata": {
    "collapsed": false
   },
   "outputs": [
    {
     "data": {
      "text/plain": [
       "[4945.5628128686149,\n",
       " 4806.350060063829,\n",
       " 4924.0783315006802,\n",
       " 4886.6056925781786,\n",
       " 4916.3165350658282,\n",
       " 4722.6877612537937,\n",
       " 4940.4424232527035,\n",
       " 4919.4088039358894,\n",
       " 4894.9090686738127,\n",
       " 4859.6166477149563]"
      ]
     },
     "execution_count": 20,
     "metadata": {},
     "output_type": "execute_result"
    }
   ],
   "source": [
    "bf_21"
   ]
  },
  {
   "cell_type": "code",
   "execution_count": null,
   "metadata": {
    "collapsed": true
   },
   "outputs": [],
   "source": []
  }
 ],
 "metadata": {
  "kernelspec": {
   "display_name": "Python 3",
   "language": "python",
   "name": "python3"
  },
  "language_info": {
   "codemirror_mode": {
    "name": "ipython",
    "version": 3
   },
   "file_extension": ".py",
   "mimetype": "text/x-python",
   "name": "python",
   "nbconvert_exporter": "python",
   "pygments_lexer": "ipython3",
   "version": "3.5.1"
  }
 },
 "nbformat": 4,
 "nbformat_minor": 0
}
