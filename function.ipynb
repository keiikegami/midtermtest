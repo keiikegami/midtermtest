{
 "cells": [
  {
   "cell_type": "code",
   "execution_count": 1,
   "metadata": {
    "collapsed": true
   },
   "outputs": [],
   "source": [
    "from scipy.stats import invgamma\n",
    "from scipy.stats import norm\n",
    "from multiprocessing import Pool\n",
    "from datetime import datetime\n",
    "import pandas as pd\n",
    "import numpy as np\n",
    "import matplotlib.pyplot as plt\n",
    "% matplotlib inline"
   ]
  },
  {
   "cell_type": "code",
   "execution_count": 5,
   "metadata": {
    "collapsed": false
   },
   "outputs": [],
   "source": [
    "def integral(estimate, ts):\n",
    "    elements = np.ones(len(ts) - 1)\n",
    "    for i in range(len(ts) - 1):\n",
    "        elements[i] = (ts[i+1] - ts[i])*(estimate[i+1] + estimate[i])/2\n",
    "    return sum(elements)\n",
    "\n",
    "def sum1(beta):\n",
    "    elements = np.ones(N)\n",
    "    for i in range(N):\n",
    "        elements[i] = p[i, 0] - beta * (p[i, 1] - ave_x)\n",
    "    return np.sum(elements)\n",
    "\n",
    "def sum2(alpha):\n",
    "    elements = np.ones(N)\n",
    "    for i in range(N):\n",
    "        elements[i] = (p[i, 1] - ave_x)*(p[i, 0] - alpha)\n",
    "    return np.sum(elements)\n",
    "\n",
    "def sum3(alpha, beta):\n",
    "    elements = np.ones(N)\n",
    "    for i in range(N):\n",
    "        elements[i] = (p[i, 0] - alpha - beta*(p[i, 1] - ave_x))**2\n",
    "    return np.sum(elements)\n",
    "\n",
    "def loglike(alpha, beta, sigma):\n",
    "    return N*np.log(1/(sigma*np.sqrt(2*np.pi))) - sum3(alpha, beta) / (2*sigma)\n",
    "\n",
    "def function1(w):\n",
    "    if w < 100:\n",
    "        np.random.seed(datetime.now().microsecond)\n",
    "        \n",
    "        ###### ここを変えてね！\n",
    "        n = 10\n",
    "        c = 2\n",
    "        ######\n",
    "        \n",
    "        estimates = np.ones(n+1)\n",
    "        ts = np.ones(n+1)\n",
    "\n",
    "        for i in range(n+1):\n",
    "            t = (i/n)**c\n",
    "            ts[i] = t\n",
    "\n",
    "            alphas = np.ones(sample_iter)\n",
    "            betas = np.ones(sample_iter)\n",
    "            sigmas = np.ones(sample_iter)\n",
    "            \n",
    "            if i == 0:\n",
    "                alphas[0] = 3000\n",
    "                betas[0] = 185\n",
    "                sigmas[0] = 90000\n",
    "\n",
    "            else:\n",
    "                alphas[0] = np.mean(alpha_sample).item()\n",
    "                betas[0] = np.mean(beta_sample).item()\n",
    "                sigmas[0] = np.mean(sigma_sample).item()\n",
    "\n",
    "            for j in range(sample_iter -1):\n",
    "\n",
    "                location_alpha = (sigma_alpha*t*sum1(betas[-1]) + sigmas[-1]*mu_alpha) / (sigma_alpha * N*t + sigmas[-1])\n",
    "                scale_alpha = np.sqrt((sigma_alpha * sigmas[-1]) / (sigma_alpha * N*t + sigmas[-1]))\n",
    "                r = norm.rvs(loc = location_alpha, scale = scale_alpha)\n",
    "                alphas[j+1] = r.item()\n",
    "\n",
    "                location_beta = (sigma_beta * t * sum2(alphas[-1]) + sigmas[-1] * mu_beta) / (sigma_beta * var*N + sigmas[-1])\n",
    "                scale_beta = (sigmas[-1] * sigma_beta) / (sigma_beta * var*N + sigmas[-1])\n",
    "                q = norm.rvs(loc = location_beta, scale = scale_beta)\n",
    "                betas[j+1] = q.item()\n",
    "\n",
    "                shape = N*t/2 + a\n",
    "                invrate = 2*b / (b*t*sum3(alphas[-1], betas[-1]) + 2)\n",
    "                s = invgamma.rvs(a = shape, scale = 1/ invrate)\n",
    "                sigmas[j+1] = s.item()\n",
    "\n",
    "            alpha_sample = alphas[burn_in:]\n",
    "            beta_sample = betas[burn_in:len(betas)]\n",
    "            sigma_sample = sigmas[burn_in:len(sigmas)]\n",
    "\n",
    "            box = np.ones(len(alpha_sample))\n",
    "            for k, l in enumerate(alpha_sample):\n",
    "                box[k] = loglike(l, beta_sample[k], sigma_sample[k])\n",
    "\n",
    "            estimates[i] = np.average(box)\n",
    "        \n",
    "        return estimates\n",
    "    \n",
    "def sum4(beta):\n",
    "    elements = np.ones(N)\n",
    "    for i in range(N):\n",
    "        elements[i] = p[i, 0] - beta * (p[i, 2] - ave_z)\n",
    "    return np.sum(elements)\n",
    "\n",
    "def sum5(alpha):\n",
    "    elements = np.ones(N)\n",
    "    for i in range(N):\n",
    "        elements[i] = (p[i, 2] - ave_z)*(p[i, 0] - alpha)\n",
    "    return np.sum(elements)\n",
    "\n",
    "def sum6(alpha, beta):\n",
    "    elements = np.ones(N)\n",
    "    for i in range(N):\n",
    "        elements[i] = (p[i, 0] - alpha - beta*(p[i, 2] - ave_z))**2\n",
    "    return np.sum(elements)    \n",
    "    \n",
    "def function2(w):\n",
    "    if w < 100:\n",
    "        np.random.seed(datetime.now().microsecond)\n",
    "        \n",
    "        ###### ここを変えてね！\n",
    "        n = 10\n",
    "        c = 2\n",
    "        ######\n",
    "        \n",
    "        estimates = np.ones(n+1)\n",
    "        ts = np.ones(n+1)\n",
    "\n",
    "        for i in range(n+1):\n",
    "            t = (i/n)**c\n",
    "            ts[i] = t\n",
    "\n",
    "            alphas = np.ones(sample_iter)\n",
    "            betas = np.ones(sample_iter)\n",
    "            sigmas = np.ones(sample_iter)\n",
    "            \n",
    "            if i == 0:\n",
    "                alphas[0] = 3000\n",
    "                betas[0] = 185\n",
    "                sigmas[0] = 90000\n",
    "\n",
    "            else:\n",
    "                alphas[0] = np.mean(alpha_sample).item()\n",
    "                betas[0] = np.mean(beta_sample).item()\n",
    "                sigmas[0] = np.mean(sigma_sample).item()\n",
    "\n",
    "            for j in range(sample_iter - 1):\n",
    "\n",
    "                location_alpha = (sigma_alpha*t*sum4(betas[-1]) + sigmas[-1]*mu_alpha) / (sigma_alpha * N*t + sigmas[-1])\n",
    "                scale_alpha = np.sqrt((sigma_alpha * sigmas[-1]) / (sigma_alpha * N*t + sigmas[-1]))\n",
    "                r = norm.rvs(loc = location_alpha, scale = scale_alpha)\n",
    "                alphas[j+1] = r.item()\n",
    "\n",
    "                location_beta = (sigma_beta * t * sum5(alphas[-1]) + sigmas[-1] * mu_beta) / (sigma_beta * var*N + sigmas[-1])\n",
    "                scale_beta = (sigmas[-1] * sigma_beta) / (sigma_beta * var2*N + sigmas[-1])\n",
    "                q = norm.rvs(loc = location_beta, scale = scale_beta)\n",
    "                betas[j+1] = q.item()\n",
    "\n",
    "                shape = N*t/2 + a\n",
    "                invrate = 2*b / (b*t*sum6(alphas[-1], betas[-1]) + 2)\n",
    "                s = invgamma.rvs(a = shape, scale = 1/ invrate)\n",
    "                sigmas[j+1] = s.item()\n",
    "\n",
    "            alpha_sample = alphas[burn_in:]\n",
    "            beta_sample = betas[burn_in:len(betas)]\n",
    "            sigma_sample = sigmas[burn_in:len(sigmas)]\n",
    "\n",
    "            box = np.ones(len(alpha_sample))\n",
    "            for k, l in enumerate(alpha_sample):\n",
    "                box[k] = loglike(l, beta_sample[k], sigma_sample[k])\n",
    "\n",
    "            estimates[i] = np.average(box)\n",
    "        \n",
    "        return estimates"
   ]
  },
  {
   "cell_type": "code",
   "execution_count": 6,
   "metadata": {
    "collapsed": true
   },
   "outputs": [],
   "source": [
    "pine = pd.read_table(\"pine.txt\", delim_whitespace = True)\n",
    "p = pine.values\n",
    "ave_x = np.average(p[:, 1]).item()\n",
    "ave_z = np.average(p[:, 2]).item()\n",
    "\n",
    "mu_alpha = 3000\n",
    "sigma_alpha = 10**6\n",
    "mu_beta = 185\n",
    "sigma_beta = 10**4\n",
    "a = 3\n",
    "b = 1/(2*300**2)\n",
    "\n",
    "N = np.shape(p)[0]\n",
    "var = np.var(p[:, 1])\n",
    "var2 = np.var(p[:, 2])\n",
    "\n",
    "# ここをいじってね。\n",
    "sample_iter = 1000\n",
    "burn_in = 30\n",
    "m = 10\n",
    "core = 2\n"
   ]
  },
  {
   "cell_type": "markdown",
   "metadata": {},
   "source": [
    "model1"
   ]
  },
  {
   "cell_type": "code",
   "execution_count": 7,
   "metadata": {
    "collapsed": false
   },
   "outputs": [],
   "source": [
    "if __name__ == '__main__':\n",
    "    p = Pool(core) \n",
    "    result1 = p.map(function1, range(m))"
   ]
  },
  {
   "cell_type": "code",
   "execution_count": 8,
   "metadata": {
    "collapsed": false
   },
   "outputs": [
    {
     "data": {
      "text/plain": [
       "[array([-1162.52902715,  -633.41611496,  -663.48690142,  -682.3470266 ,\n",
       "         -693.4285553 ,  -699.94416682,  -702.95756019,  -705.40559998,\n",
       "         -707.81619989,  -708.29763219,  -709.90599426]),\n",
       " array([-1124.52958724,  -633.87968423,  -664.60981538,  -683.09516496,\n",
       "         -692.60754662,  -699.9427733 ,  -703.36268927,  -705.4368735 ,\n",
       "         -706.79137928,  -708.42717889,  -709.74004089]),\n",
       " array([-1119.21088245,  -633.10268767,  -663.76120352,  -682.72688064,\n",
       "         -692.89936497,  -699.83136087,  -703.22172676,  -706.64662504,\n",
       "         -707.29813989,  -708.87279634,  -709.77371605]),\n",
       " array([-1158.15919133,  -633.97548807,  -664.1311928 ,  -683.4136767 ,\n",
       "         -693.35033945,  -699.77643764,  -703.6454459 ,  -706.13991865,\n",
       "         -707.35764503,  -708.60570005,  -709.65357203]),\n",
       " array([-1113.31313777,  -633.24663448,  -664.65744344,  -682.54166454,\n",
       "         -693.35939285,  -700.25090746,  -703.3132207 ,  -706.65327559,\n",
       "         -707.90979701,  -708.52598532,  -709.89703225]),\n",
       " array([-1132.48799008,  -633.53039005,  -664.91293401,  -683.51018096,\n",
       "         -694.32640232,  -699.48322812,  -702.52553281,  -706.13560517,\n",
       "         -708.16174893,  -708.49409232,  -709.8478642 ]),\n",
       " array([-1133.74156145,  -633.18136333,  -663.70471402,  -682.1360414 ,\n",
       "         -693.14215653,  -700.18013833,  -703.96668002,  -706.17872941,\n",
       "         -707.88117782,  -708.73305019,  -709.96000311]),\n",
       " array([-1167.95161418,  -633.25500557,  -664.22401909,  -683.60820755,\n",
       "         -692.88027396,  -700.25522994,  -703.1879405 ,  -705.86105725,\n",
       "         -707.9948942 ,  -708.64307082,  -709.57643572]),\n",
       " array([-1135.7151824 ,  -633.4446601 ,  -663.22984818,  -682.91206038,\n",
       "         -693.69638343,  -700.01984596,  -703.44236541,  -706.59855513,\n",
       "         -707.97902608,  -708.60350628,  -709.69069171]),\n",
       " array([-1124.02672254,  -632.92063233,  -663.58052527,  -683.62315202,\n",
       "         -693.68956984,  -698.81830833,  -704.06576052,  -706.36571095,\n",
       "         -707.65427097,  -709.18396039,  -709.70104992])]"
      ]
     },
     "execution_count": 8,
     "metadata": {},
     "output_type": "execute_result"
    }
   ],
   "source": [
    "result1"
   ]
  },
  {
   "cell_type": "code",
   "execution_count": 30,
   "metadata": {
    "collapsed": false
   },
   "outputs": [],
   "source": [
    "ts = [(i/10)**2 for i in range(11)]\n",
    "\n",
    "expect1 = np.ones(10)\n",
    "for i in range(10):\n",
    "    expect1[i] = integral(result1[i], ts)"
   ]
  },
  {
   "cell_type": "code",
   "execution_count": 31,
   "metadata": {
    "collapsed": false
   },
   "outputs": [
    {
     "data": {
      "text/plain": [
       "array([-884.188028  , -886.39347799, -885.99979868, -886.94892566,\n",
       "       -882.79827067, -883.56345496, -884.75868616, -883.08989153,\n",
       "       -884.89411503, -887.26589149])"
      ]
     },
     "execution_count": 31,
     "metadata": {},
     "output_type": "execute_result"
    }
   ],
   "source": [
    "expect1"
   ]
  },
  {
   "cell_type": "markdown",
   "metadata": {},
   "source": [
    "model2"
   ]
  },
  {
   "cell_type": "code",
   "execution_count": 9,
   "metadata": {
    "collapsed": false
   },
   "outputs": [],
   "source": [
    "if __name__ == '__main__':\n",
    "    result2 = p.map(function2, range(m))"
   ]
  },
  {
   "cell_type": "code",
   "execution_count": 33,
   "metadata": {
    "collapsed": true
   },
   "outputs": [],
   "source": [
    "ts = [(i/10)**2 for i in range(11)]\n",
    "\n",
    "expect2 = np.ones(10)\n",
    "for i in range(10):\n",
    "    expect2[i] = integral(result2[i], ts)"
   ]
  },
  {
   "cell_type": "code",
   "execution_count": 34,
   "metadata": {
    "collapsed": false
   },
   "outputs": [
    {
     "data": {
      "text/plain": [
       "array([-884.16981721, -883.15487573, -880.10643773, -888.0550601 ,\n",
       "       -882.85498881, -881.53405693, -881.25910846, -879.96780886,\n",
       "       -880.71796384, -882.66026067])"
      ]
     },
     "execution_count": 34,
     "metadata": {},
     "output_type": "execute_result"
    }
   ],
   "source": [
    "expect2"
   ]
  },
  {
   "cell_type": "markdown",
   "metadata": {
    "collapsed": true
   },
   "source": [
    "BF21"
   ]
  },
  {
   "cell_type": "code",
   "execution_count": 35,
   "metadata": {
    "collapsed": true
   },
   "outputs": [],
   "source": [
    "bf_21 = []\n",
    "for a,b in zip(expect1, expect2):\n",
    "    bf_21.append(np.exp(b-a))"
   ]
  },
  {
   "cell_type": "code",
   "execution_count": 36,
   "metadata": {
    "collapsed": false
   },
   "outputs": [
    {
     "data": {
      "text/plain": [
       "[1.0183776157528717,\n",
       " 25.498057362920129,\n",
       " 362.62199410646258,\n",
       " 0.33083535789278612,\n",
       " 0.94486034842332289,\n",
       " 7.6095043086417604,\n",
       " 33.101470302187131,\n",
       " 22.693593743229702,\n",
       " 65.114755769604017,\n",
       " 100.04607451802922]"
      ]
     },
     "execution_count": 36,
     "metadata": {},
     "output_type": "execute_result"
    }
   ],
   "source": [
    "bf_21"
   ]
  }
 ],
 "metadata": {
  "kernelspec": {
   "display_name": "Python 3",
   "language": "python",
   "name": "python3"
  },
  "language_info": {
   "codemirror_mode": {
    "name": "ipython",
    "version": 3
   },
   "file_extension": ".py",
   "mimetype": "text/x-python",
   "name": "python",
   "nbconvert_exporter": "python",
   "pygments_lexer": "ipython3",
   "version": "3.5.1"
  }
 },
 "nbformat": 4,
 "nbformat_minor": 0
}
